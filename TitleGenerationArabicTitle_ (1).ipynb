{
  "cells": [
    {
      "cell_type": "code",
      "execution_count": null,
      "metadata": {
        "colab": {
          "base_uri": "https://localhost:8080/"
        },
        "id": "pERTdhSc4jkD",
        "outputId": "5bd6e8ef-fd93-498a-d8f9-75d6bec8f90e"
      },
      "outputs": [
        {
          "output_type": "stream",
          "name": "stdout",
          "text": [
            "Collecting arabic-reshaper\n",
            "  Downloading arabic_reshaper-2.1.3-py3-none-any.whl (20 kB)\n",
            "Requirement already satisfied: future in /usr/local/lib/python3.7/dist-packages (from arabic-reshaper) (0.16.0)\n",
            "Requirement already satisfied: setuptools in /usr/local/lib/python3.7/dist-packages (from arabic-reshaper) (57.4.0)\n",
            "Installing collected packages: arabic-reshaper\n",
            "Successfully installed arabic-reshaper-2.1.3\n"
          ]
        }
      ],
      "source": [
        "!pip install arabic-reshaper"
      ]
    },
    {
      "cell_type": "code",
      "execution_count": null,
      "metadata": {
        "colab": {
          "base_uri": "https://localhost:8080/"
        },
        "id": "L0GhubFCGeYJ",
        "outputId": "f54c6466-2416-4ffa-8bd9-e3942f7664a3"
      },
      "outputs": [
        {
          "output_type": "stream",
          "name": "stdout",
          "text": [
            "Collecting PyArabic\n",
            "  Downloading PyArabic-0.6.14-py3-none-any.whl (126 kB)\n",
            "\u001b[?25l\r\u001b[K     |██▋                             | 10 kB 22.1 MB/s eta 0:00:01\r\u001b[K     |█████▏                          | 20 kB 11.7 MB/s eta 0:00:01\r\u001b[K     |███████▉                        | 30 kB 9.0 MB/s eta 0:00:01\r\u001b[K     |██████████▍                     | 40 kB 8.6 MB/s eta 0:00:01\r\u001b[K     |█████████████                   | 51 kB 5.6 MB/s eta 0:00:01\r\u001b[K     |███████████████▋                | 61 kB 5.6 MB/s eta 0:00:01\r\u001b[K     |██████████████████▏             | 71 kB 5.6 MB/s eta 0:00:01\r\u001b[K     |████████████████████▊           | 81 kB 6.2 MB/s eta 0:00:01\r\u001b[K     |███████████████████████▍        | 92 kB 6.1 MB/s eta 0:00:01\r\u001b[K     |██████████████████████████      | 102 kB 5.3 MB/s eta 0:00:01\r\u001b[K     |████████████████████████████▌   | 112 kB 5.3 MB/s eta 0:00:01\r\u001b[K     |███████████████████████████████▏| 122 kB 5.3 MB/s eta 0:00:01\r\u001b[K     |████████████████████████████████| 126 kB 5.3 MB/s \n",
            "\u001b[?25hRequirement already satisfied: six>=1.14.0 in /usr/local/lib/python3.7/dist-packages (from PyArabic) (1.15.0)\n",
            "Installing collected packages: PyArabic\n",
            "Successfully installed PyArabic-0.6.14\n"
          ]
        }
      ],
      "source": [
        "!pip install PyArabic"
      ]
    },
    {
      "cell_type": "code",
      "execution_count": null,
      "metadata": {
        "colab": {
          "base_uri": "https://localhost:8080/"
        },
        "id": "TOwlcs_WHKVF",
        "outputId": "1c7e281c-3c6a-49dc-8f7e-5e4af669322d"
      },
      "outputs": [
        {
          "output_type": "stream",
          "name": "stdout",
          "text": [
            "Collecting Tashaphyne\n",
            "  Downloading Tashaphyne-0.3.4.1-py3-none-any.whl (244 kB)\n",
            "\u001b[?25l\r\u001b[K     |█▍                              | 10 kB 26.4 MB/s eta 0:00:01\r\u001b[K     |██▊                             | 20 kB 15.9 MB/s eta 0:00:01\r\u001b[K     |████                            | 30 kB 11.1 MB/s eta 0:00:01\r\u001b[K     |█████▍                          | 40 kB 9.3 MB/s eta 0:00:01\r\u001b[K     |██████▊                         | 51 kB 5.7 MB/s eta 0:00:01\r\u001b[K     |████████                        | 61 kB 5.9 MB/s eta 0:00:01\r\u001b[K     |█████████▍                      | 71 kB 5.8 MB/s eta 0:00:01\r\u001b[K     |██████████▊                     | 81 kB 6.5 MB/s eta 0:00:01\r\u001b[K     |████████████                    | 92 kB 6.4 MB/s eta 0:00:01\r\u001b[K     |█████████████▍                  | 102 kB 5.4 MB/s eta 0:00:01\r\u001b[K     |██████████████▊                 | 112 kB 5.4 MB/s eta 0:00:01\r\u001b[K     |████████████████                | 122 kB 5.4 MB/s eta 0:00:01\r\u001b[K     |█████████████████▍              | 133 kB 5.4 MB/s eta 0:00:01\r\u001b[K     |██████████████████▉             | 143 kB 5.4 MB/s eta 0:00:01\r\u001b[K     |████████████████████▏           | 153 kB 5.4 MB/s eta 0:00:01\r\u001b[K     |█████████████████████▌          | 163 kB 5.4 MB/s eta 0:00:01\r\u001b[K     |██████████████████████▉         | 174 kB 5.4 MB/s eta 0:00:01\r\u001b[K     |████████████████████████▏       | 184 kB 5.4 MB/s eta 0:00:01\r\u001b[K     |█████████████████████████▌      | 194 kB 5.4 MB/s eta 0:00:01\r\u001b[K     |██████████████████████████▉     | 204 kB 5.4 MB/s eta 0:00:01\r\u001b[K     |████████████████████████████▏   | 215 kB 5.4 MB/s eta 0:00:01\r\u001b[K     |█████████████████████████████▌  | 225 kB 5.4 MB/s eta 0:00:01\r\u001b[K     |██████████████████████████████▉ | 235 kB 5.4 MB/s eta 0:00:01\r\u001b[K     |████████████████████████████████| 244 kB 5.4 MB/s \n",
            "\u001b[?25hRequirement already satisfied: pyarabic in /usr/local/lib/python3.7/dist-packages (from Tashaphyne) (0.6.14)\n",
            "Requirement already satisfied: six>=1.14.0 in /usr/local/lib/python3.7/dist-packages (from pyarabic->Tashaphyne) (1.15.0)\n",
            "Installing collected packages: Tashaphyne\n",
            "Successfully installed Tashaphyne-0.3.4.1\n"
          ]
        }
      ],
      "source": [
        "!pip install Tashaphyne"
      ]
    },
    {
      "cell_type": "code",
      "execution_count": null,
      "metadata": {
        "colab": {
          "base_uri": "https://localhost:8080/"
        },
        "id": "oVWF23TaHU-2",
        "outputId": "5b8f4c2b-71b6-49e3-8c79-e046d2edcd1a"
      },
      "outputs": [
        {
          "output_type": "stream",
          "name": "stdout",
          "text": [
            "Collecting qalsadi\n",
            "  Downloading qalsadi-0.4.4-py3-none-any.whl (257 kB)\n",
            "\u001b[?25l\r\u001b[K     |█▎                              | 10 kB 26.8 MB/s eta 0:00:01\r\u001b[K     |██▌                             | 20 kB 12.3 MB/s eta 0:00:01\r\u001b[K     |███▉                            | 30 kB 9.6 MB/s eta 0:00:01\r\u001b[K     |█████                           | 40 kB 8.7 MB/s eta 0:00:01\r\u001b[K     |██████▍                         | 51 kB 5.3 MB/s eta 0:00:01\r\u001b[K     |███████▋                        | 61 kB 5.8 MB/s eta 0:00:01\r\u001b[K     |█████████                       | 71 kB 5.7 MB/s eta 0:00:01\r\u001b[K     |██████████▏                     | 81 kB 6.4 MB/s eta 0:00:01\r\u001b[K     |███████████▌                    | 92 kB 4.9 MB/s eta 0:00:01\r\u001b[K     |████████████▊                   | 102 kB 5.2 MB/s eta 0:00:01\r\u001b[K     |██████████████                  | 112 kB 5.2 MB/s eta 0:00:01\r\u001b[K     |███████████████▎                | 122 kB 5.2 MB/s eta 0:00:01\r\u001b[K     |████████████████▋               | 133 kB 5.2 MB/s eta 0:00:01\r\u001b[K     |█████████████████▉              | 143 kB 5.2 MB/s eta 0:00:01\r\u001b[K     |███████████████████▏            | 153 kB 5.2 MB/s eta 0:00:01\r\u001b[K     |████████████████████▍           | 163 kB 5.2 MB/s eta 0:00:01\r\u001b[K     |█████████████████████▋          | 174 kB 5.2 MB/s eta 0:00:01\r\u001b[K     |███████████████████████         | 184 kB 5.2 MB/s eta 0:00:01\r\u001b[K     |████████████████████████▏       | 194 kB 5.2 MB/s eta 0:00:01\r\u001b[K     |█████████████████████████▌      | 204 kB 5.2 MB/s eta 0:00:01\r\u001b[K     |██████████████████████████▊     | 215 kB 5.2 MB/s eta 0:00:01\r\u001b[K     |████████████████████████████    | 225 kB 5.2 MB/s eta 0:00:01\r\u001b[K     |█████████████████████████████▎  | 235 kB 5.2 MB/s eta 0:00:01\r\u001b[K     |██████████████████████████████▋ | 245 kB 5.2 MB/s eta 0:00:01\r\u001b[K     |███████████████████████████████▉| 256 kB 5.2 MB/s eta 0:00:01\r\u001b[K     |████████████████████████████████| 257 kB 5.2 MB/s \n",
            "\u001b[?25hCollecting Arabic-Stopwords>=0.3\n",
            "  Downloading Arabic_Stopwords-0.3-py3-none-any.whl (353 kB)\n",
            "\u001b[K     |████████████████████████████████| 353 kB 64.1 MB/s \n",
            "\u001b[?25hCollecting libqutrub>=1.2.3\n",
            "  Downloading libqutrub-1.2.4.1-py3-none-any.whl (138 kB)\n",
            "\u001b[K     |████████████████████████████████| 138 kB 72.5 MB/s \n",
            "\u001b[?25hCollecting alyahmor>=0.1\n",
            "  Downloading alyahmor-0.1.2-py3-none-any.whl (50 kB)\n",
            "\u001b[K     |████████████████████████████████| 50 kB 5.4 MB/s \n",
            "\u001b[?25hRequirement already satisfied: pyarabic>=0.6.7 in /usr/local/lib/python3.7/dist-packages (from qalsadi) (0.6.14)\n",
            "Collecting arramooz-pysqlite>=0.3\n",
            "  Downloading arramooz_pysqlite-0.3-py3-none-any.whl (9.2 MB)\n",
            "\u001b[K     |████████████████████████████████| 9.2 MB 25.0 MB/s \n",
            "\u001b[?25hRequirement already satisfied: tashaphyne>=0.3.4.1 in /usr/local/lib/python3.7/dist-packages (from qalsadi) (0.3.4.1)\n",
            "Collecting naftawayh>=0.3\n",
            "  Downloading Naftawayh-0.4-py3-none-any.whl (332 kB)\n",
            "\u001b[K     |████████████████████████████████| 332 kB 75.1 MB/s \n",
            "\u001b[?25hCollecting pickledb>=0.9.2\n",
            "  Downloading pickleDB-0.9.2.tar.gz (3.7 kB)\n",
            "Requirement already satisfied: six>=1.10.0 in /usr/local/lib/python3.7/dist-packages (from qalsadi) (1.15.0)\n",
            "Requirement already satisfied: future>=0.16.0 in /usr/local/lib/python3.7/dist-packages (from qalsadi) (0.16.0)\n",
            "Building wheels for collected packages: pickledb\n",
            "  Building wheel for pickledb (setup.py) ... \u001b[?25l\u001b[?25hdone\n",
            "  Created wheel for pickledb: filename=pickleDB-0.9.2-py3-none-any.whl size=4268 sha256=11c2668d51814a1fd0c21decf50a4a9c005b3fa05fd8b4149514b7b5e32e021f\n",
            "  Stored in directory: /root/.cache/pip/wheels/08/34/42/9a7f94099208ce3d32638d98586a5a50f821db2fc75a3bdaae\n",
            "Successfully built pickledb\n",
            "Installing collected packages: libqutrub, pickledb, naftawayh, arramooz-pysqlite, Arabic-Stopwords, alyahmor, qalsadi\n",
            "Successfully installed Arabic-Stopwords-0.3 alyahmor-0.1.2 arramooz-pysqlite-0.3 libqutrub-1.2.4.1 naftawayh-0.4 pickledb-0.9.2 qalsadi-0.4.4\n"
          ]
        }
      ],
      "source": [
        "!pip install qalsadi"
      ]
    },
    {
      "cell_type": "code",
      "execution_count": null,
      "metadata": {
        "colab": {
          "base_uri": "https://localhost:8080/"
        },
        "id": "tQgwzDJY45Pw",
        "outputId": "3fc839e0-e9ff-4873-cd9d-be0d7c499364"
      },
      "outputs": [
        {
          "output_type": "stream",
          "name": "stdout",
          "text": [
            "Collecting sentence-transformers\n",
            "  Downloading sentence-transformers-2.1.0.tar.gz (78 kB)\n",
            "\u001b[K     |████████████████████████████████| 78 kB 3.1 MB/s \n",
            "\u001b[?25hCollecting transformers<5.0.0,>=4.6.0\n",
            "  Downloading transformers-4.15.0-py3-none-any.whl (3.4 MB)\n",
            "\u001b[K     |████████████████████████████████| 3.4 MB 12.3 MB/s \n",
            "\u001b[?25hCollecting tokenizers>=0.10.3\n",
            "  Downloading tokenizers-0.11.2-cp37-cp37m-manylinux_2_12_x86_64.manylinux2010_x86_64.whl (6.8 MB)\n",
            "\u001b[K     |████████████████████████████████| 6.8 MB 41.0 MB/s \n",
            "\u001b[?25hRequirement already satisfied: tqdm in /usr/local/lib/python3.7/dist-packages (from sentence-transformers) (4.62.3)\n",
            "Requirement already satisfied: torch>=1.6.0 in /usr/local/lib/python3.7/dist-packages (from sentence-transformers) (1.10.0+cu111)\n",
            "Requirement already satisfied: torchvision in /usr/local/lib/python3.7/dist-packages (from sentence-transformers) (0.11.1+cu111)\n",
            "Requirement already satisfied: numpy in /usr/local/lib/python3.7/dist-packages (from sentence-transformers) (1.19.5)\n",
            "Requirement already satisfied: scikit-learn in /usr/local/lib/python3.7/dist-packages (from sentence-transformers) (1.0.1)\n",
            "Requirement already satisfied: scipy in /usr/local/lib/python3.7/dist-packages (from sentence-transformers) (1.4.1)\n",
            "Requirement already satisfied: nltk in /usr/local/lib/python3.7/dist-packages (from sentence-transformers) (3.2.5)\n",
            "Collecting sentencepiece\n",
            "  Downloading sentencepiece-0.1.96-cp37-cp37m-manylinux_2_17_x86_64.manylinux2014_x86_64.whl (1.2 MB)\n",
            "\u001b[K     |████████████████████████████████| 1.2 MB 62.4 MB/s \n",
            "\u001b[?25hCollecting huggingface-hub\n",
            "  Downloading huggingface_hub-0.2.1-py3-none-any.whl (61 kB)\n",
            "\u001b[K     |████████████████████████████████| 61 kB 428 kB/s \n",
            "\u001b[?25hRequirement already satisfied: typing-extensions in /usr/local/lib/python3.7/dist-packages (from torch>=1.6.0->sentence-transformers) (3.10.0.2)\n",
            "Collecting pyyaml>=5.1\n",
            "  Downloading PyYAML-6.0-cp37-cp37m-manylinux_2_5_x86_64.manylinux1_x86_64.manylinux_2_12_x86_64.manylinux2010_x86_64.whl (596 kB)\n",
            "\u001b[K     |████████████████████████████████| 596 kB 67.6 MB/s \n",
            "\u001b[?25hRequirement already satisfied: packaging>=20.0 in /usr/local/lib/python3.7/dist-packages (from transformers<5.0.0,>=4.6.0->sentence-transformers) (21.3)\n",
            "Requirement already satisfied: regex!=2019.12.17 in /usr/local/lib/python3.7/dist-packages (from transformers<5.0.0,>=4.6.0->sentence-transformers) (2019.12.20)\n",
            "Requirement already satisfied: requests in /usr/local/lib/python3.7/dist-packages (from transformers<5.0.0,>=4.6.0->sentence-transformers) (2.23.0)\n",
            "Requirement already satisfied: importlib-metadata in /usr/local/lib/python3.7/dist-packages (from transformers<5.0.0,>=4.6.0->sentence-transformers) (4.8.2)\n",
            "Collecting sacremoses\n",
            "  Downloading sacremoses-0.0.46-py3-none-any.whl (895 kB)\n",
            "\u001b[K     |████████████████████████████████| 895 kB 70.7 MB/s \n",
            "\u001b[?25hRequirement already satisfied: filelock in /usr/local/lib/python3.7/dist-packages (from transformers<5.0.0,>=4.6.0->sentence-transformers) (3.4.0)\n",
            "Collecting tokenizers>=0.10.3\n",
            "  Downloading tokenizers-0.10.3-cp37-cp37m-manylinux_2_5_x86_64.manylinux1_x86_64.manylinux_2_12_x86_64.manylinux2010_x86_64.whl (3.3 MB)\n",
            "\u001b[K     |████████████████████████████████| 3.3 MB 42.2 MB/s \n",
            "\u001b[?25hRequirement already satisfied: pyparsing!=3.0.5,>=2.0.2 in /usr/local/lib/python3.7/dist-packages (from packaging>=20.0->transformers<5.0.0,>=4.6.0->sentence-transformers) (3.0.6)\n",
            "Requirement already satisfied: zipp>=0.5 in /usr/local/lib/python3.7/dist-packages (from importlib-metadata->transformers<5.0.0,>=4.6.0->sentence-transformers) (3.6.0)\n",
            "Requirement already satisfied: six in /usr/local/lib/python3.7/dist-packages (from nltk->sentence-transformers) (1.15.0)\n",
            "Requirement already satisfied: urllib3!=1.25.0,!=1.25.1,<1.26,>=1.21.1 in /usr/local/lib/python3.7/dist-packages (from requests->transformers<5.0.0,>=4.6.0->sentence-transformers) (1.24.3)\n",
            "Requirement already satisfied: chardet<4,>=3.0.2 in /usr/local/lib/python3.7/dist-packages (from requests->transformers<5.0.0,>=4.6.0->sentence-transformers) (3.0.4)\n",
            "Requirement already satisfied: idna<3,>=2.5 in /usr/local/lib/python3.7/dist-packages (from requests->transformers<5.0.0,>=4.6.0->sentence-transformers) (2.10)\n",
            "Requirement already satisfied: certifi>=2017.4.17 in /usr/local/lib/python3.7/dist-packages (from requests->transformers<5.0.0,>=4.6.0->sentence-transformers) (2021.10.8)\n",
            "Requirement already satisfied: joblib in /usr/local/lib/python3.7/dist-packages (from sacremoses->transformers<5.0.0,>=4.6.0->sentence-transformers) (1.1.0)\n",
            "Requirement already satisfied: click in /usr/local/lib/python3.7/dist-packages (from sacremoses->transformers<5.0.0,>=4.6.0->sentence-transformers) (7.1.2)\n",
            "Requirement already satisfied: threadpoolctl>=2.0.0 in /usr/local/lib/python3.7/dist-packages (from scikit-learn->sentence-transformers) (3.0.0)\n",
            "Requirement already satisfied: pillow!=8.3.0,>=5.3.0 in /usr/local/lib/python3.7/dist-packages (from torchvision->sentence-transformers) (7.1.2)\n",
            "Building wheels for collected packages: sentence-transformers\n",
            "  Building wheel for sentence-transformers (setup.py) ... \u001b[?25l\u001b[?25hdone\n",
            "  Created wheel for sentence-transformers: filename=sentence_transformers-2.1.0-py3-none-any.whl size=121000 sha256=f53c49539c10d301f4bc6a51b187be56c1ca0dbe9a314df61ffe69f91c33f905\n",
            "  Stored in directory: /root/.cache/pip/wheels/90/f0/bb/ed1add84da70092ea526466eadc2bfb197c4bcb8d4fa5f7bad\n",
            "Successfully built sentence-transformers\n",
            "Installing collected packages: pyyaml, tokenizers, sacremoses, huggingface-hub, transformers, sentencepiece, sentence-transformers\n",
            "  Attempting uninstall: pyyaml\n",
            "    Found existing installation: PyYAML 3.13\n",
            "    Uninstalling PyYAML-3.13:\n",
            "      Successfully uninstalled PyYAML-3.13\n",
            "Successfully installed huggingface-hub-0.2.1 pyyaml-6.0 sacremoses-0.0.46 sentence-transformers-2.1.0 sentencepiece-0.1.96 tokenizers-0.10.3 transformers-4.15.0\n"
          ]
        }
      ],
      "source": [
        "!pip install -U sentence-transformers"
      ]
    },
    {
      "cell_type": "code",
      "execution_count": null,
      "metadata": {
        "colab": {
          "base_uri": "https://localhost:8080/"
        },
        "id": "E2WPegq-494F",
        "outputId": "6ec03d2d-ce8b-498a-c373-294e8b57ee6a"
      },
      "outputs": [
        {
          "output_type": "stream",
          "name": "stdout",
          "text": [
            "Collecting farasapy\n",
            "  Downloading farasapy-0.0.14-py3-none-any.whl (11 kB)\n",
            "Requirement already satisfied: requests in /usr/local/lib/python3.7/dist-packages (from farasapy) (2.23.0)\n",
            "Requirement already satisfied: tqdm in /usr/local/lib/python3.7/dist-packages (from farasapy) (4.62.3)\n",
            "Requirement already satisfied: urllib3!=1.25.0,!=1.25.1,<1.26,>=1.21.1 in /usr/local/lib/python3.7/dist-packages (from requests->farasapy) (1.24.3)\n",
            "Requirement already satisfied: idna<3,>=2.5 in /usr/local/lib/python3.7/dist-packages (from requests->farasapy) (2.10)\n",
            "Requirement already satisfied: chardet<4,>=3.0.2 in /usr/local/lib/python3.7/dist-packages (from requests->farasapy) (3.0.4)\n",
            "Requirement already satisfied: certifi>=2017.4.17 in /usr/local/lib/python3.7/dist-packages (from requests->farasapy) (2021.10.8)\n",
            "Installing collected packages: farasapy\n",
            "Successfully installed farasapy-0.0.14\n"
          ]
        }
      ],
      "source": [
        "!pip install farasapy"
      ]
    },
    {
      "cell_type": "code",
      "execution_count": null,
      "metadata": {
        "colab": {
          "base_uri": "https://localhost:8080/"
        },
        "id": "oz09I2-u5B41",
        "outputId": "2400c305-4a3a-4538-9227-5c3069b7e2ea"
      },
      "outputs": [
        {
          "output_type": "stream",
          "name": "stdout",
          "text": [
            "Requirement already satisfied: farasapy in /usr/local/lib/python3.7/dist-packages (0.0.14)\n",
            "Requirement already satisfied: requests in /usr/local/lib/python3.7/dist-packages (from farasapy) (2.23.0)\n",
            "Requirement already satisfied: tqdm in /usr/local/lib/python3.7/dist-packages (from farasapy) (4.62.3)\n",
            "Requirement already satisfied: urllib3!=1.25.0,!=1.25.1,<1.26,>=1.21.1 in /usr/local/lib/python3.7/dist-packages (from requests->farasapy) (1.24.3)\n",
            "Requirement already satisfied: chardet<4,>=3.0.2 in /usr/local/lib/python3.7/dist-packages (from requests->farasapy) (3.0.4)\n",
            "Requirement already satisfied: idna<3,>=2.5 in /usr/local/lib/python3.7/dist-packages (from requests->farasapy) (2.10)\n",
            "Requirement already satisfied: certifi>=2017.4.17 in /usr/local/lib/python3.7/dist-packages (from requests->farasapy) (2021.10.8)\n"
          ]
        }
      ],
      "source": [
        "!pip  install -U farasapy"
      ]
    },
    {
      "cell_type": "code",
      "execution_count": null,
      "metadata": {
        "colab": {
          "base_uri": "https://localhost:8080/"
        },
        "id": "DA66Pter5EFM",
        "outputId": "c45b3b20-4fc1-477d-cfa0-ca56924dae72"
      },
      "outputs": [
        {
          "output_type": "stream",
          "name": "stdout",
          "text": [
            "Requirement already satisfied: transformers in /usr/local/lib/python3.7/dist-packages (4.15.0)\n",
            "Requirement already satisfied: pyyaml>=5.1 in /usr/local/lib/python3.7/dist-packages (from transformers) (6.0)\n",
            "Requirement already satisfied: packaging>=20.0 in /usr/local/lib/python3.7/dist-packages (from transformers) (21.3)\n",
            "Requirement already satisfied: huggingface-hub<1.0,>=0.1.0 in /usr/local/lib/python3.7/dist-packages (from transformers) (0.2.1)\n",
            "Requirement already satisfied: numpy>=1.17 in /usr/local/lib/python3.7/dist-packages (from transformers) (1.19.5)\n",
            "Requirement already satisfied: filelock in /usr/local/lib/python3.7/dist-packages (from transformers) (3.4.0)\n",
            "Requirement already satisfied: tokenizers<0.11,>=0.10.1 in /usr/local/lib/python3.7/dist-packages (from transformers) (0.10.3)\n",
            "Requirement already satisfied: requests in /usr/local/lib/python3.7/dist-packages (from transformers) (2.23.0)\n",
            "Requirement already satisfied: tqdm>=4.27 in /usr/local/lib/python3.7/dist-packages (from transformers) (4.62.3)\n",
            "Requirement already satisfied: importlib-metadata in /usr/local/lib/python3.7/dist-packages (from transformers) (4.8.2)\n",
            "Requirement already satisfied: regex!=2019.12.17 in /usr/local/lib/python3.7/dist-packages (from transformers) (2019.12.20)\n",
            "Requirement already satisfied: sacremoses in /usr/local/lib/python3.7/dist-packages (from transformers) (0.0.46)\n",
            "Requirement already satisfied: typing-extensions>=3.7.4.3 in /usr/local/lib/python3.7/dist-packages (from huggingface-hub<1.0,>=0.1.0->transformers) (3.10.0.2)\n",
            "Requirement already satisfied: pyparsing!=3.0.5,>=2.0.2 in /usr/local/lib/python3.7/dist-packages (from packaging>=20.0->transformers) (3.0.6)\n",
            "Requirement already satisfied: zipp>=0.5 in /usr/local/lib/python3.7/dist-packages (from importlib-metadata->transformers) (3.6.0)\n",
            "Requirement already satisfied: idna<3,>=2.5 in /usr/local/lib/python3.7/dist-packages (from requests->transformers) (2.10)\n",
            "Requirement already satisfied: chardet<4,>=3.0.2 in /usr/local/lib/python3.7/dist-packages (from requests->transformers) (3.0.4)\n",
            "Requirement already satisfied: certifi>=2017.4.17 in /usr/local/lib/python3.7/dist-packages (from requests->transformers) (2021.10.8)\n",
            "Requirement already satisfied: urllib3!=1.25.0,!=1.25.1,<1.26,>=1.21.1 in /usr/local/lib/python3.7/dist-packages (from requests->transformers) (1.24.3)\n",
            "Requirement already satisfied: joblib in /usr/local/lib/python3.7/dist-packages (from sacremoses->transformers) (1.1.0)\n",
            "Requirement already satisfied: click in /usr/local/lib/python3.7/dist-packages (from sacremoses->transformers) (7.1.2)\n",
            "Requirement already satisfied: six in /usr/local/lib/python3.7/dist-packages (from sacremoses->transformers) (1.15.0)\n",
            "Requirement already satisfied: farasapy in /usr/local/lib/python3.7/dist-packages (0.0.14)\n",
            "Requirement already satisfied: tqdm in /usr/local/lib/python3.7/dist-packages (from farasapy) (4.62.3)\n",
            "Requirement already satisfied: requests in /usr/local/lib/python3.7/dist-packages (from farasapy) (2.23.0)\n",
            "Requirement already satisfied: urllib3!=1.25.0,!=1.25.1,<1.26,>=1.21.1 in /usr/local/lib/python3.7/dist-packages (from requests->farasapy) (1.24.3)\n",
            "Requirement already satisfied: idna<3,>=2.5 in /usr/local/lib/python3.7/dist-packages (from requests->farasapy) (2.10)\n",
            "Requirement already satisfied: certifi>=2017.4.17 in /usr/local/lib/python3.7/dist-packages (from requests->farasapy) (2021.10.8)\n",
            "Requirement already satisfied: chardet<4,>=3.0.2 in /usr/local/lib/python3.7/dist-packages (from requests->farasapy) (3.0.4)\n",
            "Requirement already satisfied: pyarabic in /usr/local/lib/python3.7/dist-packages (0.6.14)\n",
            "Requirement already satisfied: six>=1.14.0 in /usr/local/lib/python3.7/dist-packages (from pyarabic) (1.15.0)\n",
            "Cloning into 'arabert'...\n",
            "remote: Enumerating objects: 559, done.\u001b[K\n",
            "remote: Counting objects: 100% (345/345), done.\u001b[K\n",
            "remote: Compressing objects: 100% (247/247), done.\u001b[K\n",
            "remote: Total 559 (delta 184), reused 246 (delta 92), pack-reused 214\u001b[K\n",
            "Receiving objects: 100% (559/559), 9.16 MiB | 31.25 MiB/s, done.\n",
            "Resolving deltas: 100% (307/307), done.\n"
          ]
        }
      ],
      "source": [
        "!pip install transformers\n",
        "!pip install farasapy\n",
        "!pip install pyarabic\n",
        "!git clone https://github.com/aub-mind/arabert"
      ]
    },
    {
      "cell_type": "code",
      "source": [
        "!pip install bertopic"
      ],
      "metadata": {
        "colab": {
          "base_uri": "https://localhost:8080/"
        },
        "id": "WkxesLbMgl8A",
        "outputId": "a04fe61a-d9ad-4c4e-92f8-e702dcf77ae5"
      },
      "execution_count": null,
      "outputs": [
        {
          "output_type": "stream",
          "name": "stdout",
          "text": [
            "Requirement already satisfied: bertopic in /usr/local/lib/python3.7/dist-packages (0.9.4)\n",
            "Requirement already satisfied: plotly>=4.7.0 in /usr/local/lib/python3.7/dist-packages (from bertopic) (5.5.0)\n",
            "Requirement already satisfied: pandas>=1.1.5 in /usr/local/lib/python3.7/dist-packages (from bertopic) (1.1.5)\n",
            "Requirement already satisfied: tqdm>=4.41.1 in /usr/local/lib/python3.7/dist-packages (from bertopic) (4.62.3)\n",
            "Requirement already satisfied: scikit-learn>=0.22.2.post1 in /usr/local/lib/python3.7/dist-packages (from bertopic) (1.0.1)\n",
            "Requirement already satisfied: hdbscan>=0.8.27 in /usr/local/lib/python3.7/dist-packages (from bertopic) (0.8.27)\n",
            "Requirement already satisfied: pyyaml<6.0 in /usr/local/lib/python3.7/dist-packages (from bertopic) (5.4.1)\n",
            "Requirement already satisfied: umap-learn>=0.5.0 in /usr/local/lib/python3.7/dist-packages (from bertopic) (0.5.2)\n",
            "Requirement already satisfied: numpy>=1.20.0 in /usr/local/lib/python3.7/dist-packages (from bertopic) (1.21.5)\n",
            "Requirement already satisfied: sentence-transformers>=0.4.1 in /usr/local/lib/python3.7/dist-packages (from bertopic) (2.1.0)\n",
            "Requirement already satisfied: cython>=0.27 in /usr/local/lib/python3.7/dist-packages (from hdbscan>=0.8.27->bertopic) (0.29.24)\n",
            "Requirement already satisfied: joblib>=1.0 in /usr/local/lib/python3.7/dist-packages (from hdbscan>=0.8.27->bertopic) (1.1.0)\n",
            "Requirement already satisfied: six in /usr/local/lib/python3.7/dist-packages (from hdbscan>=0.8.27->bertopic) (1.15.0)\n",
            "Requirement already satisfied: scipy>=1.0 in /usr/local/lib/python3.7/dist-packages (from hdbscan>=0.8.27->bertopic) (1.4.1)\n",
            "Requirement already satisfied: python-dateutil>=2.7.3 in /usr/local/lib/python3.7/dist-packages (from pandas>=1.1.5->bertopic) (2.8.2)\n",
            "Requirement already satisfied: pytz>=2017.2 in /usr/local/lib/python3.7/dist-packages (from pandas>=1.1.5->bertopic) (2018.9)\n",
            "Requirement already satisfied: tenacity>=6.2.0 in /usr/local/lib/python3.7/dist-packages (from plotly>=4.7.0->bertopic) (8.0.1)\n",
            "Requirement already satisfied: threadpoolctl>=2.0.0 in /usr/local/lib/python3.7/dist-packages (from scikit-learn>=0.22.2.post1->bertopic) (3.0.0)\n",
            "Requirement already satisfied: torch>=1.6.0 in /usr/local/lib/python3.7/dist-packages (from sentence-transformers>=0.4.1->bertopic) (1.10.0+cu111)\n",
            "Requirement already satisfied: nltk in /usr/local/lib/python3.7/dist-packages (from sentence-transformers>=0.4.1->bertopic) (3.2.5)\n",
            "Requirement already satisfied: huggingface-hub in /usr/local/lib/python3.7/dist-packages (from sentence-transformers>=0.4.1->bertopic) (0.2.1)\n",
            "Requirement already satisfied: transformers<5.0.0,>=4.6.0 in /usr/local/lib/python3.7/dist-packages (from sentence-transformers>=0.4.1->bertopic) (4.15.0)\n",
            "Requirement already satisfied: torchvision in /usr/local/lib/python3.7/dist-packages (from sentence-transformers>=0.4.1->bertopic) (0.11.1+cu111)\n",
            "Requirement already satisfied: sentencepiece in /usr/local/lib/python3.7/dist-packages (from sentence-transformers>=0.4.1->bertopic) (0.1.96)\n",
            "Requirement already satisfied: tokenizers>=0.10.3 in /usr/local/lib/python3.7/dist-packages (from sentence-transformers>=0.4.1->bertopic) (0.10.3)\n",
            "Requirement already satisfied: typing-extensions in /usr/local/lib/python3.7/dist-packages (from torch>=1.6.0->sentence-transformers>=0.4.1->bertopic) (3.10.0.2)\n",
            "Requirement already satisfied: regex!=2019.12.17 in /usr/local/lib/python3.7/dist-packages (from transformers<5.0.0,>=4.6.0->sentence-transformers>=0.4.1->bertopic) (2019.12.20)\n",
            "Requirement already satisfied: sacremoses in /usr/local/lib/python3.7/dist-packages (from transformers<5.0.0,>=4.6.0->sentence-transformers>=0.4.1->bertopic) (0.0.46)\n",
            "Requirement already satisfied: importlib-metadata in /usr/local/lib/python3.7/dist-packages (from transformers<5.0.0,>=4.6.0->sentence-transformers>=0.4.1->bertopic) (4.8.2)\n",
            "Requirement already satisfied: packaging>=20.0 in /usr/local/lib/python3.7/dist-packages (from transformers<5.0.0,>=4.6.0->sentence-transformers>=0.4.1->bertopic) (21.3)\n",
            "Requirement already satisfied: requests in /usr/local/lib/python3.7/dist-packages (from transformers<5.0.0,>=4.6.0->sentence-transformers>=0.4.1->bertopic) (2.23.0)\n",
            "Requirement already satisfied: filelock in /usr/local/lib/python3.7/dist-packages (from transformers<5.0.0,>=4.6.0->sentence-transformers>=0.4.1->bertopic) (3.4.0)\n",
            "Requirement already satisfied: pyparsing!=3.0.5,>=2.0.2 in /usr/local/lib/python3.7/dist-packages (from packaging>=20.0->transformers<5.0.0,>=4.6.0->sentence-transformers>=0.4.1->bertopic) (3.0.6)\n",
            "Requirement already satisfied: numba>=0.49 in /usr/local/lib/python3.7/dist-packages (from umap-learn>=0.5.0->bertopic) (0.51.2)\n",
            "Requirement already satisfied: pynndescent>=0.5 in /usr/local/lib/python3.7/dist-packages (from umap-learn>=0.5.0->bertopic) (0.5.5)\n",
            "Requirement already satisfied: llvmlite<0.35,>=0.34.0.dev0 in /usr/local/lib/python3.7/dist-packages (from numba>=0.49->umap-learn>=0.5.0->bertopic) (0.34.0)\n",
            "Requirement already satisfied: setuptools in /usr/local/lib/python3.7/dist-packages (from numba>=0.49->umap-learn>=0.5.0->bertopic) (57.4.0)\n",
            "Requirement already satisfied: zipp>=0.5 in /usr/local/lib/python3.7/dist-packages (from importlib-metadata->transformers<5.0.0,>=4.6.0->sentence-transformers>=0.4.1->bertopic) (3.6.0)\n",
            "Requirement already satisfied: urllib3!=1.25.0,!=1.25.1,<1.26,>=1.21.1 in /usr/local/lib/python3.7/dist-packages (from requests->transformers<5.0.0,>=4.6.0->sentence-transformers>=0.4.1->bertopic) (1.24.3)\n",
            "Requirement already satisfied: idna<3,>=2.5 in /usr/local/lib/python3.7/dist-packages (from requests->transformers<5.0.0,>=4.6.0->sentence-transformers>=0.4.1->bertopic) (2.10)\n",
            "Requirement already satisfied: chardet<4,>=3.0.2 in /usr/local/lib/python3.7/dist-packages (from requests->transformers<5.0.0,>=4.6.0->sentence-transformers>=0.4.1->bertopic) (3.0.4)\n",
            "Requirement already satisfied: certifi>=2017.4.17 in /usr/local/lib/python3.7/dist-packages (from requests->transformers<5.0.0,>=4.6.0->sentence-transformers>=0.4.1->bertopic) (2021.10.8)\n",
            "Requirement already satisfied: click in /usr/local/lib/python3.7/dist-packages (from sacremoses->transformers<5.0.0,>=4.6.0->sentence-transformers>=0.4.1->bertopic) (7.1.2)\n",
            "Requirement already satisfied: pillow!=8.3.0,>=5.3.0 in /usr/local/lib/python3.7/dist-packages (from torchvision->sentence-transformers>=0.4.1->bertopic) (7.1.2)\n"
          ]
        }
      ]
    },
    {
      "cell_type": "code",
      "source": [
        "from bertopic import BERTopic"
      ],
      "metadata": {
        "id": "2EWF5LQ0hOaR"
      },
      "execution_count": null,
      "outputs": []
    },
    {
      "cell_type": "code",
      "execution_count": null,
      "metadata": {
        "id": "po-gvF2B5PcI"
      },
      "outputs": [],
      "source": [
        "import nltk\n",
        "import re\n",
        "import pandas as pd\n",
        "import numpy as np\n",
        "import matplotlib.pyplot as plt           \n",
        "import matplotlib\n",
        "import os\n",
        "import string\n",
        "from wordcloud import WordCloud\n",
        "from collections import Counter\n",
        "from nltk.tokenize import TweetTokenizer\n",
        "from nltk.tokenize import TreebankWordTokenizer\n",
        "from nltk.tokenize import word_tokenize\n",
        "from textblob import TextBlob\n",
        "from nltk.corpus import stopwords\n",
        "from sklearn.model_selection import train_test_split\n",
        "from sklearn.feature_extraction.text import TfidfVectorizer\n",
        "from sklearn.model_selection import train_test_split\n",
        "import pyarabic.araby as araby\n",
        "import pyarabic\n",
        "from tashaphyne.stemming import ArabicLightStemmer\n",
        "import qalsadi.lemmatizer\n",
        "from nltk.stem.isri import ISRIStemmer\n",
        "\n",
        "\n",
        "\n",
        "#import tkseem as tk\n",
        "\n",
        "from farasa.stemmer import FarasaStemmer\n",
        "\n",
        "import gensim\n",
        "from gensim.utils import simple_preprocess\n",
        "from gensim.parsing.preprocessing import STOPWORDS\n",
        "from gensim import corpora, models\n",
        "\n",
        "from sentence_transformers import SentenceTransformer\n",
        "\n",
        "from arabert.preprocess import ArabertPreprocessor\n",
        "\n",
        "from keras.preprocessing.sequence import pad_sequences\n",
        "from keras.layers import Embedding, LSTM, Dense, Dropout,Bidirectional,GRU\n",
        "from keras.preprocessing.text import Tokenizer\n",
        "from keras.callbacks import EarlyStopping\n",
        "from keras.callbacks import ModelCheckpoint\n",
        "from keras.models import Sequential\n",
        "from keras import utils as ku\n",
        "from tensorflow.keras.utils import to_categorical\n",
        "from keras import regularizers\n",
        "#import keras.utils as ku\n",
        "import tensorflow as tf\n",
        "tf.random.set_seed(2)\n",
        "from numpy.random import seed\n",
        "seed(1)"
      ]
    },
    {
      "cell_type": "code",
      "source": [
        "#get transformers\n",
        "#from transformers import TFGPT2LMHeadModel, GPT2Tokenizer\n",
        "from transformers import GPT2TokenizerFast, pipeline\n",
        "#for base and medium\n",
        "from transformers import GPT2LMHeadModel\n",
        "#for large and mega\n",
        "#from arabert.aragpt2.grover.modeling_gpt2 import GPT2LMHeadModel\n",
        "\n",
        "#from arabert.preprocess import ArabertPreprocessor"
      ],
      "metadata": {
        "id": "DFj2BZz7IuTy"
      },
      "execution_count": null,
      "outputs": []
    },
    {
      "cell_type": "code",
      "execution_count": null,
      "metadata": {
        "colab": {
          "base_uri": "https://localhost:8080/"
        },
        "id": "--ftoC065URW",
        "outputId": "b5cc1e70-de6c-4b3c-cae3-21e92bc31b76"
      },
      "outputs": [
        {
          "output_type": "stream",
          "name": "stdout",
          "text": [
            "[nltk_data] Downloading package punkt to /root/nltk_data...\n",
            "[nltk_data]   Unzipping tokenizers/punkt.zip.\n",
            "[nltk_data] Downloading package wordnet to /root/nltk_data...\n",
            "[nltk_data]   Unzipping corpora/wordnet.zip.\n"
          ]
        },
        {
          "output_type": "execute_result",
          "data": {
            "text/plain": [
              "True"
            ]
          },
          "metadata": {},
          "execution_count": 17
        }
      ],
      "source": [
        "np.random.seed(2018)\n",
        "nltk.download('punkt')\n",
        "nltk.download('wordnet')"
      ]
    },
    {
      "cell_type": "code",
      "execution_count": null,
      "metadata": {
        "colab": {
          "base_uri": "https://localhost:8080/"
        },
        "id": "ugDfSn8P5XWh",
        "outputId": "c13181dd-6dc5-43ec-a276-a604ad33518a"
      },
      "outputs": [
        {
          "output_type": "stream",
          "name": "stdout",
          "text": [
            "[nltk_data] Downloading collection 'all'\n",
            "[nltk_data]    | \n",
            "[nltk_data]    | Downloading package abc to /root/nltk_data...\n",
            "[nltk_data]    |   Unzipping corpora/abc.zip.\n",
            "[nltk_data]    | Downloading package alpino to /root/nltk_data...\n",
            "[nltk_data]    |   Unzipping corpora/alpino.zip.\n",
            "[nltk_data]    | Downloading package biocreative_ppi to\n",
            "[nltk_data]    |     /root/nltk_data...\n",
            "[nltk_data]    |   Unzipping corpora/biocreative_ppi.zip.\n",
            "[nltk_data]    | Downloading package brown to /root/nltk_data...\n",
            "[nltk_data]    |   Unzipping corpora/brown.zip.\n",
            "[nltk_data]    | Downloading package brown_tei to /root/nltk_data...\n",
            "[nltk_data]    |   Unzipping corpora/brown_tei.zip.\n",
            "[nltk_data]    | Downloading package cess_cat to /root/nltk_data...\n",
            "[nltk_data]    |   Unzipping corpora/cess_cat.zip.\n",
            "[nltk_data]    | Downloading package cess_esp to /root/nltk_data...\n",
            "[nltk_data]    |   Unzipping corpora/cess_esp.zip.\n",
            "[nltk_data]    | Downloading package chat80 to /root/nltk_data...\n",
            "[nltk_data]    |   Unzipping corpora/chat80.zip.\n",
            "[nltk_data]    | Downloading package city_database to\n",
            "[nltk_data]    |     /root/nltk_data...\n",
            "[nltk_data]    |   Unzipping corpora/city_database.zip.\n",
            "[nltk_data]    | Downloading package cmudict to /root/nltk_data...\n",
            "[nltk_data]    |   Unzipping corpora/cmudict.zip.\n",
            "[nltk_data]    | Downloading package comparative_sentences to\n",
            "[nltk_data]    |     /root/nltk_data...\n",
            "[nltk_data]    |   Unzipping corpora/comparative_sentences.zip.\n",
            "[nltk_data]    | Downloading package comtrans to /root/nltk_data...\n",
            "[nltk_data]    | Downloading package conll2000 to /root/nltk_data...\n",
            "[nltk_data]    |   Unzipping corpora/conll2000.zip.\n",
            "[nltk_data]    | Downloading package conll2002 to /root/nltk_data...\n",
            "[nltk_data]    |   Unzipping corpora/conll2002.zip.\n",
            "[nltk_data]    | Downloading package conll2007 to /root/nltk_data...\n",
            "[nltk_data]    | Downloading package crubadan to /root/nltk_data...\n",
            "[nltk_data]    |   Unzipping corpora/crubadan.zip.\n",
            "[nltk_data]    | Downloading package dependency_treebank to\n",
            "[nltk_data]    |     /root/nltk_data...\n",
            "[nltk_data]    |   Unzipping corpora/dependency_treebank.zip.\n",
            "[nltk_data]    | Downloading package dolch to /root/nltk_data...\n",
            "[nltk_data]    |   Unzipping corpora/dolch.zip.\n",
            "[nltk_data]    | Downloading package europarl_raw to\n",
            "[nltk_data]    |     /root/nltk_data...\n",
            "[nltk_data]    |   Unzipping corpora/europarl_raw.zip.\n",
            "[nltk_data]    | Downloading package floresta to /root/nltk_data...\n",
            "[nltk_data]    |   Unzipping corpora/floresta.zip.\n",
            "[nltk_data]    | Downloading package framenet_v15 to\n",
            "[nltk_data]    |     /root/nltk_data...\n",
            "[nltk_data]    |   Unzipping corpora/framenet_v15.zip.\n",
            "[nltk_data]    | Downloading package framenet_v17 to\n",
            "[nltk_data]    |     /root/nltk_data...\n",
            "[nltk_data]    |   Unzipping corpora/framenet_v17.zip.\n",
            "[nltk_data]    | Downloading package gazetteers to /root/nltk_data...\n",
            "[nltk_data]    |   Unzipping corpora/gazetteers.zip.\n",
            "[nltk_data]    | Downloading package genesis to /root/nltk_data...\n",
            "[nltk_data]    |   Unzipping corpora/genesis.zip.\n",
            "[nltk_data]    | Downloading package gutenberg to /root/nltk_data...\n",
            "[nltk_data]    |   Unzipping corpora/gutenberg.zip.\n",
            "[nltk_data]    | Downloading package ieer to /root/nltk_data...\n",
            "[nltk_data]    |   Unzipping corpora/ieer.zip.\n",
            "[nltk_data]    | Downloading package inaugural to /root/nltk_data...\n",
            "[nltk_data]    |   Unzipping corpora/inaugural.zip.\n",
            "[nltk_data]    | Downloading package indian to /root/nltk_data...\n",
            "[nltk_data]    |   Unzipping corpora/indian.zip.\n",
            "[nltk_data]    | Downloading package jeita to /root/nltk_data...\n",
            "[nltk_data]    | Downloading package kimmo to /root/nltk_data...\n",
            "[nltk_data]    |   Unzipping corpora/kimmo.zip.\n",
            "[nltk_data]    | Downloading package knbc to /root/nltk_data...\n",
            "[nltk_data]    | Downloading package lin_thesaurus to\n",
            "[nltk_data]    |     /root/nltk_data...\n",
            "[nltk_data]    |   Unzipping corpora/lin_thesaurus.zip.\n",
            "[nltk_data]    | Downloading package mac_morpho to /root/nltk_data...\n",
            "[nltk_data]    |   Unzipping corpora/mac_morpho.zip.\n",
            "[nltk_data]    | Downloading package machado to /root/nltk_data...\n",
            "[nltk_data]    | Downloading package masc_tagged to /root/nltk_data...\n",
            "[nltk_data]    | Downloading package moses_sample to\n",
            "[nltk_data]    |     /root/nltk_data...\n",
            "[nltk_data]    |   Unzipping models/moses_sample.zip.\n",
            "[nltk_data]    | Downloading package movie_reviews to\n",
            "[nltk_data]    |     /root/nltk_data...\n",
            "[nltk_data]    |   Unzipping corpora/movie_reviews.zip.\n",
            "[nltk_data]    | Downloading package names to /root/nltk_data...\n",
            "[nltk_data]    |   Unzipping corpora/names.zip.\n",
            "[nltk_data]    | Downloading package nombank.1.0 to /root/nltk_data...\n",
            "[nltk_data]    | Downloading package nps_chat to /root/nltk_data...\n",
            "[nltk_data]    |   Unzipping corpora/nps_chat.zip.\n",
            "[nltk_data]    | Downloading package omw-1.4 to /root/nltk_data...\n",
            "[nltk_data]    |   Unzipping corpora/omw-1.4.zip.\n",
            "[nltk_data]    | Downloading package omw to /root/nltk_data...\n",
            "[nltk_data]    |   Unzipping corpora/omw.zip.\n",
            "[nltk_data]    | Downloading package opinion_lexicon to\n",
            "[nltk_data]    |     /root/nltk_data...\n",
            "[nltk_data]    |   Unzipping corpora/opinion_lexicon.zip.\n",
            "[nltk_data]    | Downloading package paradigms to /root/nltk_data...\n",
            "[nltk_data]    |   Unzipping corpora/paradigms.zip.\n",
            "[nltk_data]    | Downloading package pil to /root/nltk_data...\n",
            "[nltk_data]    |   Unzipping corpora/pil.zip.\n",
            "[nltk_data]    | Downloading package pl196x to /root/nltk_data...\n",
            "[nltk_data]    |   Unzipping corpora/pl196x.zip.\n",
            "[nltk_data]    | Downloading package ppattach to /root/nltk_data...\n",
            "[nltk_data]    |   Unzipping corpora/ppattach.zip.\n",
            "[nltk_data]    | Downloading package problem_reports to\n",
            "[nltk_data]    |     /root/nltk_data...\n",
            "[nltk_data]    |   Unzipping corpora/problem_reports.zip.\n",
            "[nltk_data]    | Downloading package propbank to /root/nltk_data...\n",
            "[nltk_data]    | Downloading package ptb to /root/nltk_data...\n",
            "[nltk_data]    |   Unzipping corpora/ptb.zip.\n",
            "[nltk_data]    | Downloading package product_reviews_1 to\n",
            "[nltk_data]    |     /root/nltk_data...\n",
            "[nltk_data]    |   Unzipping corpora/product_reviews_1.zip.\n",
            "[nltk_data]    | Downloading package product_reviews_2 to\n",
            "[nltk_data]    |     /root/nltk_data...\n",
            "[nltk_data]    |   Unzipping corpora/product_reviews_2.zip.\n",
            "[nltk_data]    | Downloading package pros_cons to /root/nltk_data...\n",
            "[nltk_data]    |   Unzipping corpora/pros_cons.zip.\n",
            "[nltk_data]    | Downloading package qc to /root/nltk_data...\n",
            "[nltk_data]    |   Unzipping corpora/qc.zip.\n",
            "[nltk_data]    | Downloading package reuters to /root/nltk_data...\n",
            "[nltk_data]    | Downloading package rte to /root/nltk_data...\n",
            "[nltk_data]    |   Unzipping corpora/rte.zip.\n",
            "[nltk_data]    | Downloading package semcor to /root/nltk_data...\n",
            "[nltk_data]    | Downloading package senseval to /root/nltk_data...\n",
            "[nltk_data]    |   Unzipping corpora/senseval.zip.\n",
            "[nltk_data]    | Downloading package sentiwordnet to\n",
            "[nltk_data]    |     /root/nltk_data...\n",
            "[nltk_data]    |   Unzipping corpora/sentiwordnet.zip.\n",
            "[nltk_data]    | Downloading package sentence_polarity to\n",
            "[nltk_data]    |     /root/nltk_data...\n",
            "[nltk_data]    |   Unzipping corpora/sentence_polarity.zip.\n",
            "[nltk_data]    | Downloading package shakespeare to /root/nltk_data...\n",
            "[nltk_data]    |   Unzipping corpora/shakespeare.zip.\n",
            "[nltk_data]    | Downloading package sinica_treebank to\n",
            "[nltk_data]    |     /root/nltk_data...\n",
            "[nltk_data]    |   Unzipping corpora/sinica_treebank.zip.\n",
            "[nltk_data]    | Downloading package smultron to /root/nltk_data...\n",
            "[nltk_data]    |   Unzipping corpora/smultron.zip.\n",
            "[nltk_data]    | Downloading package state_union to /root/nltk_data...\n",
            "[nltk_data]    |   Unzipping corpora/state_union.zip.\n",
            "[nltk_data]    | Downloading package stopwords to /root/nltk_data...\n",
            "[nltk_data]    |   Unzipping corpora/stopwords.zip.\n",
            "[nltk_data]    | Downloading package subjectivity to\n",
            "[nltk_data]    |     /root/nltk_data...\n",
            "[nltk_data]    |   Unzipping corpora/subjectivity.zip.\n",
            "[nltk_data]    | Downloading package swadesh to /root/nltk_data...\n",
            "[nltk_data]    |   Unzipping corpora/swadesh.zip.\n",
            "[nltk_data]    | Downloading package switchboard to /root/nltk_data...\n",
            "[nltk_data]    |   Unzipping corpora/switchboard.zip.\n",
            "[nltk_data]    | Downloading package timit to /root/nltk_data...\n",
            "[nltk_data]    |   Unzipping corpora/timit.zip.\n",
            "[nltk_data]    | Downloading package toolbox to /root/nltk_data...\n",
            "[nltk_data]    |   Unzipping corpora/toolbox.zip.\n",
            "[nltk_data]    | Downloading package treebank to /root/nltk_data...\n",
            "[nltk_data]    |   Unzipping corpora/treebank.zip.\n",
            "[nltk_data]    | Downloading package twitter_samples to\n",
            "[nltk_data]    |     /root/nltk_data...\n",
            "[nltk_data]    |   Unzipping corpora/twitter_samples.zip.\n",
            "[nltk_data]    | Downloading package udhr to /root/nltk_data...\n",
            "[nltk_data]    |   Unzipping corpora/udhr.zip.\n",
            "[nltk_data]    | Downloading package udhr2 to /root/nltk_data...\n",
            "[nltk_data]    |   Unzipping corpora/udhr2.zip.\n",
            "[nltk_data]    | Downloading package unicode_samples to\n",
            "[nltk_data]    |     /root/nltk_data...\n",
            "[nltk_data]    |   Unzipping corpora/unicode_samples.zip.\n",
            "[nltk_data]    | Downloading package universal_treebanks_v20 to\n",
            "[nltk_data]    |     /root/nltk_data...\n",
            "[nltk_data]    | Downloading package verbnet to /root/nltk_data...\n",
            "[nltk_data]    |   Unzipping corpora/verbnet.zip.\n",
            "[nltk_data]    | Downloading package verbnet3 to /root/nltk_data...\n",
            "[nltk_data]    |   Unzipping corpora/verbnet3.zip.\n",
            "[nltk_data]    | Downloading package webtext to /root/nltk_data...\n",
            "[nltk_data]    |   Unzipping corpora/webtext.zip.\n",
            "[nltk_data]    | Downloading package wordnet to /root/nltk_data...\n",
            "[nltk_data]    |   Package wordnet is already up-to-date!\n",
            "[nltk_data]    | Downloading package wordnet31 to /root/nltk_data...\n",
            "[nltk_data]    |   Unzipping corpora/wordnet31.zip.\n",
            "[nltk_data]    | Downloading package wordnet_ic to /root/nltk_data...\n",
            "[nltk_data]    |   Unzipping corpora/wordnet_ic.zip.\n",
            "[nltk_data]    | Downloading package words to /root/nltk_data...\n",
            "[nltk_data]    |   Unzipping corpora/words.zip.\n",
            "[nltk_data]    | Downloading package ycoe to /root/nltk_data...\n",
            "[nltk_data]    |   Unzipping corpora/ycoe.zip.\n",
            "[nltk_data]    | Downloading package rslp to /root/nltk_data...\n",
            "[nltk_data]    |   Unzipping stemmers/rslp.zip.\n",
            "[nltk_data]    | Downloading package maxent_treebank_pos_tagger to\n",
            "[nltk_data]    |     /root/nltk_data...\n",
            "[nltk_data]    |   Unzipping taggers/maxent_treebank_pos_tagger.zip.\n",
            "[nltk_data]    | Downloading package universal_tagset to\n",
            "[nltk_data]    |     /root/nltk_data...\n",
            "[nltk_data]    |   Unzipping taggers/universal_tagset.zip.\n",
            "[nltk_data]    | Downloading package maxent_ne_chunker to\n",
            "[nltk_data]    |     /root/nltk_data...\n",
            "[nltk_data]    |   Unzipping chunkers/maxent_ne_chunker.zip.\n",
            "[nltk_data]    | Downloading package punkt to /root/nltk_data...\n",
            "[nltk_data]    |   Package punkt is already up-to-date!\n",
            "[nltk_data]    | Downloading package book_grammars to\n",
            "[nltk_data]    |     /root/nltk_data...\n",
            "[nltk_data]    |   Unzipping grammars/book_grammars.zip.\n",
            "[nltk_data]    | Downloading package sample_grammars to\n",
            "[nltk_data]    |     /root/nltk_data...\n",
            "[nltk_data]    |   Unzipping grammars/sample_grammars.zip.\n",
            "[nltk_data]    | Downloading package spanish_grammars to\n",
            "[nltk_data]    |     /root/nltk_data...\n",
            "[nltk_data]    |   Unzipping grammars/spanish_grammars.zip.\n",
            "[nltk_data]    | Downloading package basque_grammars to\n",
            "[nltk_data]    |     /root/nltk_data...\n",
            "[nltk_data]    |   Unzipping grammars/basque_grammars.zip.\n",
            "[nltk_data]    | Downloading package large_grammars to\n",
            "[nltk_data]    |     /root/nltk_data...\n",
            "[nltk_data]    |   Unzipping grammars/large_grammars.zip.\n",
            "[nltk_data]    | Downloading package tagsets to /root/nltk_data...\n",
            "[nltk_data]    |   Unzipping help/tagsets.zip.\n",
            "[nltk_data]    | Downloading package snowball_data to\n",
            "[nltk_data]    |     /root/nltk_data...\n",
            "[nltk_data]    | Downloading package bllip_wsj_no_aux to\n",
            "[nltk_data]    |     /root/nltk_data...\n",
            "[nltk_data]    |   Unzipping models/bllip_wsj_no_aux.zip.\n",
            "[nltk_data]    | Downloading package word2vec_sample to\n",
            "[nltk_data]    |     /root/nltk_data...\n",
            "[nltk_data]    |   Unzipping models/word2vec_sample.zip.\n",
            "[nltk_data]    | Downloading package panlex_swadesh to\n",
            "[nltk_data]    |     /root/nltk_data...\n",
            "[nltk_data]    | Downloading package mte_teip5 to /root/nltk_data...\n",
            "[nltk_data]    |   Unzipping corpora/mte_teip5.zip.\n",
            "[nltk_data]    | Downloading package averaged_perceptron_tagger to\n",
            "[nltk_data]    |     /root/nltk_data...\n",
            "[nltk_data]    |   Unzipping taggers/averaged_perceptron_tagger.zip.\n",
            "[nltk_data]    | Downloading package averaged_perceptron_tagger_ru to\n",
            "[nltk_data]    |     /root/nltk_data...\n",
            "[nltk_data]    |   Unzipping\n",
            "[nltk_data]    |       taggers/averaged_perceptron_tagger_ru.zip.\n",
            "[nltk_data]    | Downloading package perluniprops to\n",
            "[nltk_data]    |     /root/nltk_data...\n",
            "[nltk_data]    |   Unzipping misc/perluniprops.zip.\n",
            "[nltk_data]    | Downloading package nonbreaking_prefixes to\n",
            "[nltk_data]    |     /root/nltk_data...\n",
            "[nltk_data]    |   Unzipping corpora/nonbreaking_prefixes.zip.\n",
            "[nltk_data]    | Downloading package vader_lexicon to\n",
            "[nltk_data]    |     /root/nltk_data...\n",
            "[nltk_data]    | Downloading package porter_test to /root/nltk_data...\n",
            "[nltk_data]    |   Unzipping stemmers/porter_test.zip.\n",
            "[nltk_data]    | Downloading package wmt15_eval to /root/nltk_data...\n",
            "[nltk_data]    |   Unzipping models/wmt15_eval.zip.\n",
            "[nltk_data]    | Downloading package mwa_ppdb to /root/nltk_data...\n",
            "[nltk_data]    |   Unzipping misc/mwa_ppdb.zip.\n",
            "[nltk_data]    | \n",
            "[nltk_data]  Done downloading collection all\n"
          ]
        },
        {
          "output_type": "execute_result",
          "data": {
            "text/plain": [
              "True"
            ]
          },
          "metadata": {},
          "execution_count": 10
        }
      ],
      "source": [
        " nltk.download('all')"
      ]
    },
    {
      "cell_type": "code",
      "execution_count": null,
      "metadata": {
        "id": "SmA2E80X5aHx"
      },
      "outputs": [],
      "source": [
        "from google.colab import drive\n",
        "drive.mount('/content/drive')"
      ]
    },
    {
      "cell_type": "code",
      "execution_count": null,
      "metadata": {
        "colab": {
          "base_uri": "https://localhost:8080/"
        },
        "id": "IPEvVX7-8P14",
        "outputId": "94c5ac21-23ec-4acb-fec2-ed53c9ad5db3"
      },
      "outputs": [
        {
          "output_type": "stream",
          "name": "stdout",
          "text": [
            "Done\n"
          ]
        }
      ],
      "source": [
        "from zipfile import ZipFile\n",
        "file_name=\"/content/drive/MyDrive/trainTitle.zip\"\n",
        "with ZipFile (file_name,'r') as zip:\n",
        "   zip.extractall()\n",
        "   print('Done')"
      ]
    },
    {
      "cell_type": "code",
      "execution_count": null,
      "metadata": {
        "colab": {
          "base_uri": "https://localhost:8080/"
        },
        "id": "B1dc055OFSS9",
        "outputId": "af3310a4-d3c1-4109-c5c9-17b243eb64eb"
      },
      "outputs": [
        {
          "output_type": "stream",
          "name": "stdout",
          "text": [
            "Done\n"
          ]
        }
      ],
      "source": [
        "from zipfile import ZipFile\n",
        "file_name=\"/content/drive/MyDrive/train.zip\"\n",
        "with ZipFile (file_name,'r') as zip:\n",
        "   zip.extractall()\n",
        "   print('Done')"
      ]
    },
    {
      "cell_type": "code",
      "execution_count": null,
      "metadata": {
        "colab": {
          "base_uri": "https://localhost:8080/"
        },
        "id": "uaCxINZ_VwHb",
        "outputId": "6fe47ee2-32f3-498a-8a99-e7780f273511"
      },
      "outputs": [
        {
          "output_type": "stream",
          "name": "stdout",
          "text": [
            "Done\n"
          ]
        }
      ],
      "source": [
        "from zipfile import ZipFile\n",
        "file_name=\"/content/drive/MyDrive/test.zip\"\n",
        "with ZipFile (file_name,'r') as zip:\n",
        "   zip.extractall()\n",
        "   print('Done')"
      ]
    },
    {
      "cell_type": "code",
      "execution_count": null,
      "metadata": {
        "colab": {
          "base_uri": "https://localhost:8080/"
        },
        "id": "d--zn2qGXEVW",
        "outputId": "47e5e4c3-5337-44f2-8eed-eb56a690e90d"
      },
      "outputs": [
        {
          "output_type": "stream",
          "name": "stdout",
          "text": [
            "Done\n"
          ]
        }
      ],
      "source": [
        "from zipfile import ZipFile\n",
        "file_name=\"/content/drive/MyDrive/trainTitle.zip\"\n",
        "with ZipFile (file_name,'r') as zip:\n",
        "   zip.extractall()\n",
        "   print('Done')"
      ]
    },
    {
      "cell_type": "markdown",
      "metadata": {
        "id": "wtI96vdSJxCX"
      },
      "source": [
        "## read data from csv file"
      ]
    },
    {
      "cell_type": "code",
      "execution_count": null,
      "metadata": {
        "id": "IDF5CudcCji8"
      },
      "outputs": [],
      "source": [
        "test = pd.read_csv('trainTitle/test.csv')"
      ]
    },
    {
      "cell_type": "code",
      "execution_count": null,
      "metadata": {
        "id": "CmejIVCvJ0V9"
      },
      "outputs": [],
      "source": [
        "train = pd.read_csv('trainTitle/train.csv')"
      ]
    },
    {
      "cell_type": "code",
      "execution_count": null,
      "metadata": {
        "colab": {
          "base_uri": "https://localhost:8080/",
          "height": 206
        },
        "id": "bB7SuhpIJ1_P",
        "outputId": "5763cc54-c9d3-4fa6-f7b3-f99f4769356f"
      },
      "outputs": [
        {
          "output_type": "execute_result",
          "data": {
            "text/html": [
              "\n",
              "  <div id=\"df-4496c2d1-5f33-4ab5-93f3-ff18c7af0922\">\n",
              "    <div class=\"colab-df-container\">\n",
              "      <div>\n",
              "<style scoped>\n",
              "    .dataframe tbody tr th:only-of-type {\n",
              "        vertical-align: middle;\n",
              "    }\n",
              "\n",
              "    .dataframe tbody tr th {\n",
              "        vertical-align: top;\n",
              "    }\n",
              "\n",
              "    .dataframe thead th {\n",
              "        text-align: right;\n",
              "    }\n",
              "</style>\n",
              "<table border=\"1\" class=\"dataframe\">\n",
              "  <thead>\n",
              "    <tr style=\"text-align: right;\">\n",
              "      <th></th>\n",
              "      <th>title</th>\n",
              "      <th>story</th>\n",
              "    </tr>\n",
              "  </thead>\n",
              "  <tbody>\n",
              "    <tr>\n",
              "      <th>0</th>\n",
              "      <td>\"كوسومار\" تدعم تصميم جهاز ذكي للتنفس الاصطناعي...</td>\n",
              "      <td>تدعيماً للجهود الحكومية في احتواء \"أزمة كورونا...</td>\n",
              "    </tr>\n",
              "    <tr>\n",
              "      <th>1</th>\n",
              "      <td>رصيف الصحافة: \"السكة\" تطبع \"البيرمي\" والبطائق ...</td>\n",
              "      <td>NaN</td>\n",
              "    </tr>\n",
              "    <tr>\n",
              "      <th>2</th>\n",
              "      <td>عبد الصمد الإدريسي .. مغربي يتفوّق على \"أبطال ...</td>\n",
              "      <td>NaN</td>\n",
              "    </tr>\n",
              "    <tr>\n",
              "      <th>3</th>\n",
              "      <td>المغربي \"صلاح\" ينضم إلى أرسنال بعقد احترافي</td>\n",
              "      <td>عزّز نادي أرسنال الإنجليزي لكرة القدم صفوفه بت...</td>\n",
              "    </tr>\n",
              "    <tr>\n",
              "      <th>4</th>\n",
              "      <td>التحاليل تكشف 30 إصابة جديدة بكورونا في بولمان</td>\n",
              "      <td>سجل إقليم بولمان، ما بين ليلة السبت وظهر الأحد...</td>\n",
              "    </tr>\n",
              "  </tbody>\n",
              "</table>\n",
              "</div>\n",
              "      <button class=\"colab-df-convert\" onclick=\"convertToInteractive('df-4496c2d1-5f33-4ab5-93f3-ff18c7af0922')\"\n",
              "              title=\"Convert this dataframe to an interactive table.\"\n",
              "              style=\"display:none;\">\n",
              "        \n",
              "  <svg xmlns=\"http://www.w3.org/2000/svg\" height=\"24px\"viewBox=\"0 0 24 24\"\n",
              "       width=\"24px\">\n",
              "    <path d=\"M0 0h24v24H0V0z\" fill=\"none\"/>\n",
              "    <path d=\"M18.56 5.44l.94 2.06.94-2.06 2.06-.94-2.06-.94-.94-2.06-.94 2.06-2.06.94zm-11 1L8.5 8.5l.94-2.06 2.06-.94-2.06-.94L8.5 2.5l-.94 2.06-2.06.94zm10 10l.94 2.06.94-2.06 2.06-.94-2.06-.94-.94-2.06-.94 2.06-2.06.94z\"/><path d=\"M17.41 7.96l-1.37-1.37c-.4-.4-.92-.59-1.43-.59-.52 0-1.04.2-1.43.59L10.3 9.45l-7.72 7.72c-.78.78-.78 2.05 0 2.83L4 21.41c.39.39.9.59 1.41.59.51 0 1.02-.2 1.41-.59l7.78-7.78 2.81-2.81c.8-.78.8-2.07 0-2.86zM5.41 20L4 18.59l7.72-7.72 1.47 1.35L5.41 20z\"/>\n",
              "  </svg>\n",
              "      </button>\n",
              "      \n",
              "  <style>\n",
              "    .colab-df-container {\n",
              "      display:flex;\n",
              "      flex-wrap:wrap;\n",
              "      gap: 12px;\n",
              "    }\n",
              "\n",
              "    .colab-df-convert {\n",
              "      background-color: #E8F0FE;\n",
              "      border: none;\n",
              "      border-radius: 50%;\n",
              "      cursor: pointer;\n",
              "      display: none;\n",
              "      fill: #1967D2;\n",
              "      height: 32px;\n",
              "      padding: 0 0 0 0;\n",
              "      width: 32px;\n",
              "    }\n",
              "\n",
              "    .colab-df-convert:hover {\n",
              "      background-color: #E2EBFA;\n",
              "      box-shadow: 0px 1px 2px rgba(60, 64, 67, 0.3), 0px 1px 3px 1px rgba(60, 64, 67, 0.15);\n",
              "      fill: #174EA6;\n",
              "    }\n",
              "\n",
              "    [theme=dark] .colab-df-convert {\n",
              "      background-color: #3B4455;\n",
              "      fill: #D2E3FC;\n",
              "    }\n",
              "\n",
              "    [theme=dark] .colab-df-convert:hover {\n",
              "      background-color: #434B5C;\n",
              "      box-shadow: 0px 1px 3px 1px rgba(0, 0, 0, 0.15);\n",
              "      filter: drop-shadow(0px 1px 2px rgba(0, 0, 0, 0.3));\n",
              "      fill: #FFFFFF;\n",
              "    }\n",
              "  </style>\n",
              "\n",
              "      <script>\n",
              "        const buttonEl =\n",
              "          document.querySelector('#df-4496c2d1-5f33-4ab5-93f3-ff18c7af0922 button.colab-df-convert');\n",
              "        buttonEl.style.display =\n",
              "          google.colab.kernel.accessAllowed ? 'block' : 'none';\n",
              "\n",
              "        async function convertToInteractive(key) {\n",
              "          const element = document.querySelector('#df-4496c2d1-5f33-4ab5-93f3-ff18c7af0922');\n",
              "          const dataTable =\n",
              "            await google.colab.kernel.invokeFunction('convertToInteractive',\n",
              "                                                     [key], {});\n",
              "          if (!dataTable) return;\n",
              "\n",
              "          const docLinkHtml = 'Like what you see? Visit the ' +\n",
              "            '<a target=\"_blank\" href=https://colab.research.google.com/notebooks/data_table.ipynb>data table notebook</a>'\n",
              "            + ' to learn more about interactive tables.';\n",
              "          element.innerHTML = '';\n",
              "          dataTable['output_type'] = 'display_data';\n",
              "          await google.colab.output.renderOutput(dataTable, element);\n",
              "          const docLink = document.createElement('div');\n",
              "          docLink.innerHTML = docLinkHtml;\n",
              "          element.appendChild(docLink);\n",
              "        }\n",
              "      </script>\n",
              "    </div>\n",
              "  </div>\n",
              "  "
            ],
            "text/plain": [
              "                                               title                                              story\n",
              "0  \"كوسومار\" تدعم تصميم جهاز ذكي للتنفس الاصطناعي...  تدعيماً للجهود الحكومية في احتواء \"أزمة كورونا...\n",
              "1  رصيف الصحافة: \"السكة\" تطبع \"البيرمي\" والبطائق ...                                                NaN\n",
              "2  عبد الصمد الإدريسي .. مغربي يتفوّق على \"أبطال ...                                                NaN\n",
              "3        المغربي \"صلاح\" ينضم إلى أرسنال بعقد احترافي  عزّز نادي أرسنال الإنجليزي لكرة القدم صفوفه بت...\n",
              "4     التحاليل تكشف 30 إصابة جديدة بكورونا في بولمان  سجل إقليم بولمان، ما بين ليلة السبت وظهر الأحد..."
            ]
          },
          "metadata": {},
          "execution_count": 17
        }
      ],
      "source": [
        "train.head()"
      ]
    },
    {
      "cell_type": "markdown",
      "metadata": {
        "id": "B2p1CQkoJ-VO"
      },
      "source": [
        "## Clean the Data"
      ]
    },
    {
      "cell_type": "code",
      "execution_count": null,
      "metadata": {
        "colab": {
          "base_uri": "https://localhost:8080/"
        },
        "id": "59qnsSIaJ3qb",
        "outputId": "6a0ff78d-bfa4-400c-95d3-6f8c17f8acf3"
      },
      "outputs": [
        {
          "output_type": "execute_result",
          "data": {
            "text/plain": [
              "2940"
            ]
          },
          "metadata": {},
          "execution_count": 23
        }
      ],
      "source": [
        "#check if you have duplicated in data\n",
        "train.duplicated().sum()\n",
        "train['title'].duplicated().sum()"
      ]
    },
    {
      "cell_type": "code",
      "execution_count": null,
      "metadata": {
        "id": "DUW1YlgjKBvg"
      },
      "outputs": [],
      "source": [
        "# dropping ALL duplicate values\n",
        "train.drop_duplicates(subset =\"title\",\n",
        "                     keep = False, inplace = True)"
      ]
    },
    {
      "cell_type": "code",
      "execution_count": null,
      "metadata": {
        "colab": {
          "base_uri": "https://localhost:8080/"
        },
        "id": "fvqTIxW1KECW",
        "outputId": "6b2f3344-6c3d-4838-a7b0-aab05a73a1cf"
      },
      "outputs": [
        {
          "output_type": "execute_result",
          "data": {
            "text/plain": [
              "0"
            ]
          },
          "metadata": {},
          "execution_count": 25
        }
      ],
      "source": [
        "train['title'].duplicated().sum()"
      ]
    },
    {
      "cell_type": "code",
      "execution_count": null,
      "metadata": {
        "id": "fD-cji22KF1G"
      },
      "outputs": [],
      "source": [
        "#remove duplicate from tweet\n",
        "def remov_duplicates(tweet,work):\n",
        "   \n",
        "   \"\"\"Process tweet function.\n",
        "    Input:\n",
        "        tweet: a string containing a tweet without changing\n",
        "    Output:\n",
        "        cleaned_tweet: tweet after removing duplicates\n",
        "\n",
        "    \"\"\"\n",
        "   if work ==1:\n",
        "      newtweet = re.sub(r'(\\w)\\1+', r'\\1', tweet)\n",
        "   else:\n",
        "     newtweet = tweet\n",
        "   return newtweet"
      ]
    },
    {
      "cell_type": "code",
      "execution_count": null,
      "metadata": {
        "id": "oCaBGkRaKJdq"
      },
      "outputs": [],
      "source": [
        "# remove punctuation\n",
        "\n",
        "def remove_punctuation(tweet,work):\n",
        "   \"\"\"Process tweet function.\n",
        "    Input:\n",
        "        tweet: a string containing a tweet without changing\n",
        "    Output:\n",
        "        cleaned_tweet: tweet after removing punctuation\n",
        "\n",
        "    \"\"\"\n",
        "   #punctuatuions = '''`÷×؛<>_()*&^%][ـ،/:\"؟.,'{}~¦+|!”…“–ـ'''\n",
        "   if work ==1:\n",
        "      newtweet = re.sub('''`÷×؛<>_()*&^%][ـ،/:\"؟.,'{}~¦+|!”…“–ـ''', ' ', tweet)\n",
        "   else:\n",
        "     newtweet = tweet\n",
        "   return newtweet"
      ]
    },
    {
      "cell_type": "code",
      "execution_count": null,
      "metadata": {
        "id": "4ilVQRItKLW4"
      },
      "outputs": [],
      "source": [
        "def remove_tweets_other(in_text,work):#تنضيف الداتا من علامات الترقيم والمحارف غير الضرورية و التشكيل\n",
        "    if work ==1:\n",
        "       pattern = r\"\\n|,|;|\\(|\\)|\\}|\\{|\\||\\.|\\|\\$|\\\"|\\'|/|%|\\\\|\\*|\\^|\\&|\\+\\-|~|؟|،|…|-|﴿|﴾|•|<|>|»|«|:|؛|ّ|َ|ً|ٍ|ِ|ْ|ٌ|ُ\"\n",
        "       out_text =re.sub(pattern,'',in_text)\n",
        "    else:\n",
        "      out_text = in_text\n",
        "    return out_text"
      ]
    },
    {
      "cell_type": "code",
      "execution_count": null,
      "metadata": {
        "id": "m_otVv6aKNw5"
      },
      "outputs": [],
      "source": [
        "#حذف المحارف غير العربية\n",
        "def remove_english(tweet,work):\n",
        "  #input:تغريدة واحدة\n",
        "  #on\n",
        "  if(work ==1):\n",
        "\n",
        "    #نحذف كل المحارف غير العربية\n",
        "    tweet_arabic = re.sub(r'\\s*[^ا-ي]+\\b', ' ' , tweet)\n",
        "    #output:التويتة بعد حذف المحارف غير العربية\n",
        "    return tweet_arabic\n",
        "  #off\n",
        "  else:\n",
        "    return(tweet)"
      ]
    },
    {
      "cell_type": "code",
      "execution_count": null,
      "metadata": {
        "id": "YIlroGYgKPlB"
      },
      "outputs": [],
      "source": [
        "def normalizeArabic(text,work):\n",
        "   \"\"\"Process tweet function.\n",
        "    Input:\n",
        "        tweet: a string containing a tweet without changing\n",
        "    Output:\n",
        "        cleaned_tweet: tweet after normalize Arabic word\n",
        "\n",
        "    \"\"\"\n",
        "   text = text.strip()\n",
        "   text = re.sub(\"[إأٱآا]\", \"ا\", text)\n",
        "   text = re.sub(\"ى\", \"ي\", text)\n",
        "   text = re.sub(\"ؤ\", \"ء\", text)\n",
        "   text = re.sub(\"ئ\", \"ء\", text)\n",
        "   text = re.sub(\"ة\", \"ه\", text)\n",
        "   noise = re.compile(\"\"\" ّ    | # Tashdid\n",
        "                             َ    | # Fatha\n",
        "                             ً    | # Tanwin Fath\n",
        "                             ُ    | # Damma\n",
        "                             ٌ    | # Tanwin Damm\n",
        "                             ِ    | # Kasra\n",
        "                             ٍ    | # Tanwin Kasr\n",
        "                             ْ    | # Sukun\n",
        "                             ـ     # Tatwil/Kashida\n",
        "                         \"\"\", re.VERBOSE)\n",
        "   text = re.sub(noise, '', text)\n",
        "   text = re.sub(r'(.)\\1+', r\"\\1\\1\", text) # Remove longation\n",
        "\n",
        "   if work == 1:\n",
        "     newtweet = araby.strip_tashkeel(text)\n",
        "   else:\n",
        "     newtweet = text\n",
        "     \n",
        "   return newtweet"
      ]
    },
    {
      "cell_type": "code",
      "execution_count": null,
      "metadata": {
        "id": "PZgGQ97bKRXF"
      },
      "outputs": [],
      "source": [
        "#استخدام مكتبة لايجاد الجذور للكلمات باللغة العربية  \n",
        "def lemmetize_word(tweet,work):\n",
        "   \"\"\"Process tweet function.\n",
        "    Input:\n",
        "        tweet: a string containing a tweet without changing\n",
        "     Output:\n",
        "        cleaned_tweet: tweet after normalize Arabic lemmetize \n",
        "        \n",
        "\n",
        "   \"\"\" \n",
        "   if work == 1:\n",
        "     lemmer = qalsadi.lemmatizer.Lemmatizer()\n",
        "     lemmas = lemmer.lemmatize(tweet)\n",
        "   else:\n",
        "     lemmas = tweet\n",
        "   return lemmas"
      ]
    },
    {
      "cell_type": "code",
      "execution_count": null,
      "metadata": {
        "id": "AvRlJ4mNKT3f"
      },
      "outputs": [],
      "source": [
        "arepr = pyarabic.arabrepr.ArabicRepr()\n",
        "repr = arepr.repr\n",
        "ArListem = ArabicLightStemmer()"
      ]
    },
    {
      "cell_type": "code",
      "execution_count": null,
      "metadata": {
        "id": "DOEH4RSyKV9e"
      },
      "outputs": [],
      "source": [
        "def stemming(text,work):\n",
        "    \"\"\"Process tweet function.\n",
        "    Input:\n",
        "        tweet: a string containing a tweet without changing\n",
        "    Output:\n",
        "        cleaned_tweet: tweet after normalize Arabic stemming \n",
        "    \"\"\" \n",
        "  \n",
        "    #print(text)\n",
        "    strem = ArListem.light_stem(text)\n",
        "    strem = ArListem.get_stem()\n",
        "    #strem = lemmetize_word(text,work)\n",
        "    \n",
        "    return strem"
      ]
    },
    {
      "cell_type": "code",
      "execution_count": null,
      "metadata": {
        "id": "80prFXHbKYLb"
      },
      "outputs": [],
      "source": [
        "def non_Arabic(tweet,work):\n",
        "   \"\"\"Process tweet function.\n",
        "    Input:\n",
        "        tweet: a string containing a tweet without changing\n",
        "    Output:\n",
        "        cleaned_tweet: tweet after non_Arabic \n",
        "    \"\"\" \n",
        "   if work ==1:\n",
        "      newtweet = re.sub('([@A-Za-z0-9_ـــــــــــــ]+)|[^\\w\\s]|#|http\\S+', ' ', tweet)\n",
        "   else:\n",
        "     newtweet = tweet\n",
        "   return newtweet"
      ]
    },
    {
      "cell_type": "code",
      "execution_count": null,
      "metadata": {
        "id": "ma0dIm81KbPm"
      },
      "outputs": [],
      "source": [
        "def clean_text(text):\n",
        "    search = [\"أ\",\"إ\",\"آ\",\"ة\",\"_\",\"-\",\"/\",\".\",\"،\",\" و \",\" يا \",'\"',\"ـ\",\"'\",\"ى\",\"\\\\\",'\\n', '\\t','&quot;','?','؟','!']\n",
        "    replace = [\"ا\",\"ا\",\"ا\",\"ه\",\" \",\" \",\"\",\"\",\"\",\" و\",\" يا\",\"\",\"\",\"\",\"ي\",\"\",' ', ' ',' ',' ? ',' ؟ ',' ! ']  \n",
        "    p_tashkeel = re.compile(r'[\\u0617-\\u061A\\u064B-\\u0652]')\n",
        "    text = re.sub(p_tashkeel,\"\", text)\n",
        "    p_longation = re.compile(r'(.)\\1+')\n",
        "    subst = r\"\\1\\1\"\n",
        "    text = re.sub(p_longation, subst, text)\n",
        "    text = text.replace('وو', 'و')\n",
        "    text = text.replace('يي', 'ي')\n",
        "    text = text.replace('اا', 'ا')\n",
        "    \n",
        "    for i in range(0, len(search)):\n",
        "        text = text.replace(search[i], replace[i])\n",
        "        \n",
        "    text = text.strip()\n",
        "    \n",
        "    return text"
      ]
    },
    {
      "cell_type": "code",
      "execution_count": null,
      "metadata": {
        "id": "TQtlVB5uKdKA"
      },
      "outputs": [],
      "source": [
        " #تنضيف الداتا من الفراغات الزائدة\n",
        "def remove_tweets_extra_white_space(text,work):\n",
        "    \"\"\"Process tweet function.\n",
        "    Input:\n",
        "        tweet: a string containing a tweet without changing\n",
        "    Output:\n",
        "        cleaned_tweet: tweet after extra_white_space\n",
        "\n",
        "    \"\"\"\n",
        "    if work ==1:\n",
        "       pattern = r\"\\s+\"\n",
        "       newtweet =re.sub(pattern,' ',text)\n",
        "    else:\n",
        "      newtweet = text\n",
        "    return newtweet"
      ]
    },
    {
      "cell_type": "code",
      "execution_count": null,
      "metadata": {
        "id": "uAUav4wpKgBV"
      },
      "outputs": [],
      "source": [
        "def Stemmer_word(tweet,work):\n",
        "  \"\"\"Process tweet function.\n",
        "    Input:\n",
        "        tweet: a string containing a tweet without changing\n",
        "    Output:\n",
        "        cleaned_tweet: tweet after Stemmer_word \n",
        "    \"\"\" \n",
        "  if work ==1:\n",
        "      st = ISRIStemmer()\n",
        "      newtweet = st.stem(tweet)\n",
        "  else:\n",
        "     newtweet = tweet\n",
        "\n",
        "  return newtweet\n"
      ]
    },
    {
      "cell_type": "code",
      "execution_count": null,
      "metadata": {
        "id": "elGXwGKoKhyR"
      },
      "outputs": [],
      "source": [
        "# remove harakat\n",
        "def remove_harakat(tweet):\n",
        "    noise = re.compile(\"\"\"   َ    | # Fatha\n",
        "                             ً    | # Tanwin Fath\n",
        "                             ُ    | # Damma\n",
        "                             ٌ    | # Tanwin Damm\n",
        "                             ِ    | # Kasra\n",
        "                             ٍ    | # Tanwin Kasr\n",
        "                             ْ    | # Sukun\n",
        "                             ّ      # Sukun\n",
        "                         \"\"\", re.VERBOSE)\n",
        "    out_data = re.sub(noise, '', tweet)\n",
        "    return out_data"
      ]
    },
    {
      "cell_type": "code",
      "execution_count": null,
      "metadata": {
        "id": "CFQQFt8xKkJT"
      },
      "outputs": [],
      "source": [
        "# remove everything but characters, spaces and hashtags\n",
        "def remove_symbols(tweet):\n",
        "    pattern=r'\\\\.|[^\\w\\s]'\n",
        "    out_data= re.sub(pattern,' ', tweet)\n",
        "    out_data=re.sub(r'\\d',' ',out_data)\n",
        "    return out_data"
      ]
    },
    {
      "cell_type": "code",
      "execution_count": null,
      "metadata": {
        "id": "p0V6YzMdKl5f"
      },
      "outputs": [],
      "source": [
        "# remove multiple spaces\n",
        "def remove_spaces(tweet):\n",
        "    pattern=r'\\n|\\r|\\t|(\\s+)'\n",
        "    out_data= re.sub(pattern,' ', tweet)\n",
        "    return out_data"
      ]
    },
    {
      "cell_type": "code",
      "execution_count": null,
      "metadata": {
        "id": "Q7fKtlrUKntX"
      },
      "outputs": [],
      "source": [
        "# remove duplicate consecutive characters\n",
        "# don't allow more than 2 repetiation for one character at a time \n",
        "def remove_duplicate_characters(tweet):\n",
        "    return re.compile(r\"(.)\\1{2,}\", re.IGNORECASE).sub(\"\\\\1\", tweet)"
      ]
    },
    {
      "cell_type": "code",
      "execution_count": null,
      "metadata": {
        "id": "TeT7aeAjKq1J"
      },
      "outputs": [],
      "source": [
        "def light_stem2(tweet):\n",
        "  words = tweet.split()\n",
        "  stemmer = ISRIStemmer()\n",
        "  word = stemmer.norm(tweet, num=1)      # remove diacritics which representing Arabic short vowels\n",
        "  #if not word in stemmer.stop_words:    # exclude stop words from being processed\n",
        "  word = stemmer.pre32(word)        # remove length three and length two prefixes in this order\n",
        "  word = stemmer.suf32(word)        # remove length three and length two suffixes in this order\n",
        "  word = stemmer.waw(word)          # remove connective ‘و’ if it precedes a word beginning with ‘و’\n",
        "  word = stemmer.norm(word, num=2)  # normalize initial hamza to bare alif\n",
        "  return word"
      ]
    },
    {
      "cell_type": "code",
      "execution_count": null,
      "metadata": {
        "colab": {
          "base_uri": "https://localhost:8080/"
        },
        "id": "p9LXaP0gKtHq",
        "outputId": "0dcc12ff-02e6-4df1-9139-f2fe33235027"
      },
      "outputs": [
        {
          "output_type": "stream",
          "name": "stderr",
          "text": [
            "/usr/local/lib/python3.7/dist-packages/urllib3/connectionpool.py:847: InsecureRequestWarning: Unverified HTTPS request is being made. Adding certificate verification is strongly advised. See: https://urllib3.readthedocs.io/en/latest/advanced-usage.html#ssl-warnings\n",
            "  InsecureRequestWarning)\n"
          ]
        },
        {
          "output_type": "stream",
          "name": "stdout",
          "text": [
            "100%|██████████| 241M/241M [00:14<00:00, 16.6MiB/s]\n"
          ]
        },
        {
          "output_type": "stream",
          "name": "stderr",
          "text": [
            "[2022-01-05 11:01:33,327 - farasapy_logger - WARNING]: Be careful with large lines as they may break on interactive mode. You may switch to Standalone mode for such cases.\n"
          ]
        }
      ],
      "source": [
        "model_name = \"aubmindlab/bert-base-arabertv2\"\n",
        "arabert_prep = ArabertPreprocessor(model_name=model_name)"
      ]
    },
    {
      "cell_type": "code",
      "execution_count": null,
      "metadata": {
        "id": "3pHNdSsDKvnE"
      },
      "outputs": [],
      "source": [
        "def preprocess(text):\n",
        "    result = []\n",
        "    #tokenizerr.tokenize(text)\n",
        "    newbert = arabert_prep.preprocess(text)\n",
        "    li = list(newbert.split(\" \"))\n",
        "    \n",
        "    for token in li:\n",
        "         tweet = remov_duplicates(token, 1)\n",
        "         tweet = remove_harakat(tweet)\n",
        "         tweet = remove_symbols(tweet)\n",
        "         tweet = remove_spaces(tweet)\n",
        "         tweet = remove_duplicate_characters(tweet)\n",
        "         tweet = clean_text(tweet)\n",
        "         tweet = light_stem2(tweet)\n",
        "         tweet = remove_tweets_other(tweet,1)\n",
        "         tweet = remove_english(tweet,1)\n",
        "\n",
        "         tweet = remove_tweets_extra_white_space(tweet,1)\n",
        "         if tweet != \" \":\n",
        "            result.append(tweet)\n",
        "    return result"
      ]
    },
    {
      "cell_type": "code",
      "execution_count": null,
      "metadata": {
        "colab": {
          "base_uri": "https://localhost:8080/"
        },
        "id": "xWuDuzhIK2CZ",
        "outputId": "698f3896-32c2-42fb-bc32-9073273be2bf"
      },
      "outputs": [
        {
          "output_type": "stream",
          "name": "stdout",
          "text": [
            "المغربي \"صلاح\" ينضم إلى أرسنال بعقد احترافي\n",
            "['ال+', 'مغربي', '\"', 'صلاح', '\"', 'ينضم', 'إلى', 'أرسنال', 'ب+', 'عقد', 'احترافي']\n",
            "['ال', 'مغربي', '', 'صلاح', '', 'ينضم', 'الي', 'ارسنال', 'ب', 'عقد', 'احترافي']\n"
          ]
        }
      ],
      "source": [
        "i=0\n",
        "\n",
        "print(train['title'][3])\n",
        "token = arabert_prep.preprocess(train['title'][3])\n",
        "li = list(token.split(\" \"))\n",
        "print(li)\n",
        "res = preprocess(train['title'][3])\n",
        "print(res)"
      ]
    },
    {
      "cell_type": "markdown",
      "metadata": {
        "id": "CG5abkmFK6-F"
      },
      "source": [
        "##Bag of words on the dataset"
      ]
    },
    {
      "cell_type": "code",
      "execution_count": null,
      "metadata": {
        "id": "7sgbxK8IK2oT"
      },
      "outputs": [],
      "source": [
        "processed_docs = train['title'].map(preprocess)"
      ]
    },
    {
      "cell_type": "code",
      "execution_count": null,
      "metadata": {
        "id": "3zgNnr_4r8Zv"
      },
      "outputs": [],
      "source": [
        "processed_docs.to_csv('process.csv',index=True,encoding='utf-8-sig')"
      ]
    },
    {
      "cell_type": "code",
      "execution_count": null,
      "metadata": {
        "colab": {
          "base_uri": "https://localhost:8080/",
          "height": 17
        },
        "id": "P5FVUTRITGBW",
        "outputId": "f5fde0d7-06ed-4824-a5ea-158d98435649"
      },
      "outputs": [
        {
          "output_type": "display_data",
          "data": {
            "application/javascript": [
              "\n",
              "    async function download(id, filename, size) {\n",
              "      if (!google.colab.kernel.accessAllowed) {\n",
              "        return;\n",
              "      }\n",
              "      const div = document.createElement('div');\n",
              "      const label = document.createElement('label');\n",
              "      label.textContent = `Downloading \"${filename}\": `;\n",
              "      div.appendChild(label);\n",
              "      const progress = document.createElement('progress');\n",
              "      progress.max = size;\n",
              "      div.appendChild(progress);\n",
              "      document.body.appendChild(div);\n",
              "\n",
              "      const buffers = [];\n",
              "      let downloaded = 0;\n",
              "\n",
              "      const channel = await google.colab.kernel.comms.open(id);\n",
              "      // Send a message to notify the kernel that we're ready.\n",
              "      channel.send({})\n",
              "\n",
              "      for await (const message of channel.messages) {\n",
              "        // Send a message to notify the kernel that we're ready.\n",
              "        channel.send({})\n",
              "        if (message.buffers) {\n",
              "          for (const buffer of message.buffers) {\n",
              "            buffers.push(buffer);\n",
              "            downloaded += buffer.byteLength;\n",
              "            progress.value = downloaded;\n",
              "          }\n",
              "        }\n",
              "      }\n",
              "      const blob = new Blob(buffers, {type: 'application/binary'});\n",
              "      const a = document.createElement('a');\n",
              "      a.href = window.URL.createObjectURL(blob);\n",
              "      a.download = filename;\n",
              "      div.appendChild(a);\n",
              "      a.click();\n",
              "      div.remove();\n",
              "    }\n",
              "  "
            ],
            "text/plain": [
              "<IPython.core.display.Javascript object>"
            ]
          },
          "metadata": {}
        },
        {
          "output_type": "display_data",
          "data": {
            "application/javascript": [
              "download(\"download_c504a8ad-c6af-4c81-8a47-b6967e71f511\", \"process.csv\", 565084)"
            ],
            "text/plain": [
              "<IPython.core.display.Javascript object>"
            ]
          },
          "metadata": {}
        }
      ],
      "source": [
        "from google.colab import files\n",
        "files.download(\"process.csv\")"
      ]
    },
    {
      "cell_type": "code",
      "source": [
        "process = pd.read_csv('process.csv')"
      ],
      "metadata": {
        "id": "7cNivZf8FqiM"
      },
      "execution_count": null,
      "outputs": []
    },
    {
      "cell_type": "markdown",
      "metadata": {
        "id": "lchFa45mLdFg"
      },
      "source": [
        "##Data processing for model"
      ]
    },
    {
      "cell_type": "code",
      "source": [
        "tokenizer = Tokenizer()\n",
        "def get_sequence_of_tokens(corpus):\n",
        "  #get tokens\n",
        "  tokenizer.fit_on_texts(corpus)\n",
        "  total_words = len(tokenizer.word_index) + 1\n",
        " \n",
        "  #convert to sequence of tokens\n",
        "  input_sequences = []\n",
        "  for line in corpus:\n",
        "    token_list = tokenizer.texts_to_sequences([line])[0]\n",
        "    for i in range(1, len(token_list)):\n",
        "        n_gram_sequence = token_list[:i+1]\n",
        "        input_sequences.append(n_gram_sequence)\n",
        " \n",
        "  return input_sequences, total_words\n"
      ],
      "metadata": {
        "id": "jHt1y8sjI5Yj"
      },
      "execution_count": null,
      "outputs": []
    },
    {
      "cell_type": "code",
      "source": [
        "inp_sequences, total_words = get_sequence_of_tokens(process['title'])"
      ],
      "metadata": {
        "id": "0fWVpMxeJ5zR"
      },
      "execution_count": null,
      "outputs": []
    },
    {
      "cell_type": "code",
      "source": [
        "def generate_padded_sequences(input_sequences):\n",
        "  max_sequence_len = max([len(x) for x in input_sequences])\n",
        "  input_sequences = np.array(pad_sequences(input_sequences,  maxlen=max_sequence_len, padding='pre'))\n",
        "  predictors, label = input_sequences[:,:-1], input_sequences[:, -1]\n",
        "  #label = to_categorical(label, num_classes = total_words)\n",
        "  return predictors, label, max_sequence_len"
      ],
      "metadata": {
        "id": "Dywvx5LNJ-SX"
      },
      "execution_count": null,
      "outputs": []
    },
    {
      "cell_type": "code",
      "source": [
        "predictors, label, max_sequence_len = generate_padded_sequences(inp_sequences)"
      ],
      "metadata": {
        "id": "nH908JPuKE93"
      },
      "execution_count": null,
      "outputs": []
    },
    {
      "cell_type": "code",
      "source": [
        "label1 = to_categorical(label, num_classes = total_words)"
      ],
      "metadata": {
        "id": "wR5jYkpq3fcH"
      },
      "execution_count": null,
      "outputs": []
    },
    {
      "cell_type": "code",
      "source": [
        "predictors.shape"
      ],
      "metadata": {
        "colab": {
          "base_uri": "https://localhost:8080/"
        },
        "id": "n47vLSlBO2xs",
        "outputId": "3ad9e11b-155a-44ff-e1f5-4671716f9c44"
      },
      "execution_count": null,
      "outputs": [
        {
          "output_type": "execute_result",
          "data": {
            "text/plain": [
              "(54481, 27)"
            ]
          },
          "metadata": {},
          "execution_count": 56
        }
      ]
    },
    {
      "cell_type": "code",
      "source": [
        "label.shape"
      ],
      "metadata": {
        "colab": {
          "base_uri": "https://localhost:8080/"
        },
        "id": "diACehpHO7T8",
        "outputId": "d8018c08-c0e3-4ebd-dfab-0e8fa45d4a6f"
      },
      "execution_count": null,
      "outputs": [
        {
          "output_type": "execute_result",
          "data": {
            "text/plain": [
              "(54481,)"
            ]
          },
          "metadata": {},
          "execution_count": 57
        }
      ]
    },
    {
      "cell_type": "code",
      "source": [
        "from keras import backend\n",
        "\n",
        "def ppl(y_true, y_pred):\n",
        "  return backend.pow(2.0, -(backend.sum(backend.log(tf.gather(y_pred, backend.cast(y_true, \"int32\"), axis=1, batch_dims=1))) ) / backend.cast(total_words, backend.floatx()))"
      ],
      "metadata": {
        "id": "OPJDRoc4KN4r"
      },
      "execution_count": null,
      "outputs": []
    },
    {
      "cell_type": "code",
      "source": [
        "model_comparison_table = {}"
      ],
      "metadata": {
        "id": "F3a4IgeObauW"
      },
      "execution_count": null,
      "outputs": []
    },
    {
      "cell_type": "code",
      "source": [
        "model_comparison_table['model_name'] = []\n",
        "model_comparison_table['preprocessing_methods'] = []\n",
        "model_comparison_table['validate accuracy'] = []"
      ],
      "metadata": {
        "id": "JPbLIrwGbdHF"
      },
      "execution_count": null,
      "outputs": []
    },
    {
      "cell_type": "markdown",
      "source": [
        "##model for baseline"
      ],
      "metadata": {
        "id": "_khjbkkuwDWL"
      }
    },
    {
      "cell_type": "code",
      "source": [
        "from keras.models import Sequential\n",
        "from keras import layers\n",
        "\n",
        "model2 = Sequential()\n",
        "input_len = max_sequence_len - 1\n",
        "# Add Input Embedding Layer\n",
        "model2.add(Embedding(total_words, 32, input_length=input_len))\n",
        "\n",
        "model2.add(layers.Flatten())\n",
        "model2.add(Dropout(0.5))\n",
        "model2.add(layers.Dense(32, activation='tanh'))\n",
        "model2.add(Dropout(0.2))\n",
        "model2.add(layers.Dense(total_words))\n",
        "model2.add(layers.Activation('softmax'))\n",
        "\n",
        "#model2.load_weights(\"best_model.h5\")\n",
        "\n",
        "mc = ModelCheckpoint('best_model.h5', monitor='val_loss', mode='min', verbose=1,save_best_only=True)\n",
        "#checkpoint = ModelCheckpoint(filepath, monitor='val_accuracy', verbose=1, save_best_only=True, mode='max')\n",
        "callbacks_list = [mc]\n",
        "\n",
        "model2.compile(optimizer='adam',\n",
        "              loss='sparse_categorical_crossentropy',metrics=['accuracy'])\n",
        "model2.summary()"
      ],
      "metadata": {
        "colab": {
          "base_uri": "https://localhost:8080/"
        },
        "id": "_Wsv2LyDNxYs",
        "outputId": "23c6e902-5f07-4178-f2b9-aaeeb5d6d4f4"
      },
      "execution_count": null,
      "outputs": [
        {
          "output_type": "stream",
          "name": "stdout",
          "text": [
            "Model: \"sequential_2\"\n",
            "_________________________________________________________________\n",
            " Layer (type)                Output Shape              Param #   \n",
            "=================================================================\n",
            " embedding_2 (Embedding)     (None, 27, 32)            179296    \n",
            "                                                                 \n",
            " flatten_2 (Flatten)         (None, 864)               0         \n",
            "                                                                 \n",
            " dropout_4 (Dropout)         (None, 864)               0         \n",
            "                                                                 \n",
            " dense_4 (Dense)             (None, 32)                27680     \n",
            "                                                                 \n",
            " dropout_5 (Dropout)         (None, 32)                0         \n",
            "                                                                 \n",
            " dense_5 (Dense)             (None, 5603)              184899    \n",
            "                                                                 \n",
            " activation_2 (Activation)   (None, 5603)              0         \n",
            "                                                                 \n",
            "=================================================================\n",
            "Total params: 391,875\n",
            "Trainable params: 391,875\n",
            "Non-trainable params: 0\n",
            "_________________________________________________________________\n"
          ]
        }
      ]
    },
    {
      "cell_type": "code",
      "source": [
        "history2 = model2.fit(predictors, label, batch_size=64, epochs=9,callbacks=callbacks_list, validation_split=0.2)"
      ],
      "metadata": {
        "colab": {
          "base_uri": "https://localhost:8080/"
        },
        "id": "5dCQuxVZOH3w",
        "outputId": "725c468f-318b-4f4c-a99f-f996fcb130c8"
      },
      "execution_count": null,
      "outputs": [
        {
          "output_type": "stream",
          "name": "stdout",
          "text": [
            "Epoch 1/9\n",
            "678/681 [============================>.] - ETA: 0s - loss: 5.8052 - accuracy: 0.1412\n",
            "Epoch 00001: val_loss improved from inf to 5.39418, saving model to best_model.h5\n",
            "681/681 [==============================] - 8s 11ms/step - loss: 5.8028 - accuracy: 0.1412 - val_loss: 5.3942 - val_accuracy: 0.1521\n",
            "Epoch 2/9\n",
            "680/681 [============================>.] - ETA: 0s - loss: 5.2011 - accuracy: 0.2132\n",
            "Epoch 00002: val_loss improved from 5.39418 to 5.15319, saving model to best_model.h5\n",
            "681/681 [==============================] - 7s 11ms/step - loss: 5.2010 - accuracy: 0.2132 - val_loss: 5.1532 - val_accuracy: 0.2503\n",
            "Epoch 3/9\n",
            "678/681 [============================>.] - ETA: 0s - loss: 4.9539 - accuracy: 0.2503\n",
            "Epoch 00003: val_loss improved from 5.15319 to 5.05423, saving model to best_model.h5\n",
            "681/681 [==============================] - 7s 11ms/step - loss: 4.9538 - accuracy: 0.2503 - val_loss: 5.0542 - val_accuracy: 0.2705\n",
            "Epoch 4/9\n",
            "681/681 [==============================] - ETA: 0s - loss: 4.8273 - accuracy: 0.2671\n",
            "Epoch 00004: val_loss improved from 5.05423 to 5.02237, saving model to best_model.h5\n",
            "681/681 [==============================] - 7s 11ms/step - loss: 4.8273 - accuracy: 0.2671 - val_loss: 5.0224 - val_accuracy: 0.2780\n",
            "Epoch 5/9\n",
            "680/681 [============================>.] - ETA: 0s - loss: 4.7343 - accuracy: 0.2768\n",
            "Epoch 00005: val_loss improved from 5.02237 to 4.98944, saving model to best_model.h5\n",
            "681/681 [==============================] - 7s 11ms/step - loss: 4.7341 - accuracy: 0.2767 - val_loss: 4.9894 - val_accuracy: 0.2808\n",
            "Epoch 6/9\n",
            "679/681 [============================>.] - ETA: 0s - loss: 4.6496 - accuracy: 0.2863\n",
            "Epoch 00006: val_loss improved from 4.98944 to 4.98678, saving model to best_model.h5\n",
            "681/681 [==============================] - 7s 11ms/step - loss: 4.6502 - accuracy: 0.2862 - val_loss: 4.9868 - val_accuracy: 0.2861\n",
            "Epoch 7/9\n",
            "676/681 [============================>.] - ETA: 0s - loss: 4.5634 - accuracy: 0.2927\n",
            "Epoch 00007: val_loss improved from 4.98678 to 4.96588, saving model to best_model.h5\n",
            "681/681 [==============================] - 7s 11ms/step - loss: 4.5664 - accuracy: 0.2924 - val_loss: 4.9659 - val_accuracy: 0.2908\n",
            "Epoch 8/9\n",
            "676/681 [============================>.] - ETA: 0s - loss: 4.4859 - accuracy: 0.2985\n",
            "Epoch 00008: val_loss improved from 4.96588 to 4.96019, saving model to best_model.h5\n",
            "681/681 [==============================] - 7s 11ms/step - loss: 4.4858 - accuracy: 0.2986 - val_loss: 4.9602 - val_accuracy: 0.2981\n",
            "Epoch 9/9\n",
            "677/681 [============================>.] - ETA: 0s - loss: 4.4144 - accuracy: 0.3086\n",
            "Epoch 00009: val_loss improved from 4.96019 to 4.95849, saving model to best_model.h5\n",
            "681/681 [==============================] - 7s 11ms/step - loss: 4.4153 - accuracy: 0.3085 - val_loss: 4.9585 - val_accuracy: 0.3050\n"
          ]
        }
      ]
    },
    {
      "cell_type": "code",
      "source": [
        "import matplotlib.pyplot as plt\n",
        "acc = history2.history['accuracy']\n",
        "acc1 = history2.history['val_accuracy']\n",
        "loss = history2.history['loss']\n",
        "loss1 = history2.history['val_loss']\n",
        "epochs = range(len(loss))\n",
        "\n",
        "plt.plot(epochs, acc, 'b', label='Training accuracy')\n",
        "plt.plot(epochs, acc1, 'r', label='validate accuracy')\n",
        "plt.title('Training accuracy')\n",
        "#plt.figure()\n",
        "plt.title('validate accuracy')\n",
        "plt.legend()\n",
        "plt.show()\n",
        "\n",
        "plt.figure()\n",
        "plt.plot(epochs, loss, 'b', label='Training Loss')\n",
        "plt.plot(epochs, loss1, 'r', label='validate Loss')\n",
        "plt.title('Training loss')\n",
        "plt.title('validate loss')\n",
        "plt.legend()\n",
        "plt.show()"
      ],
      "metadata": {
        "colab": {
          "base_uri": "https://localhost:8080/",
          "height": 545
        },
        "id": "ub0nIQhsEa2i",
        "outputId": "8d850c83-664e-486e-b7ee-535b8dade46f"
      },
      "execution_count": null,
      "outputs": [
        {
          "output_type": "display_data",
          "data": {
            "image/png": "[encoded data removed]",
            "text/plain": [
              "<Figure size 432x288 with 1 Axes>"
            ]
          },
          "metadata": {
            "needs_background": "light"
          }
        },
        {
          "output_type": "display_data",
          "data": {
            "image/png": "[encoded data removed]",
            "text/plain": [
              "<Figure size 432x288 with 1 Axes>"
            ]
          },
          "metadata": {
            "needs_background": "light"
          }
        }
      ]
    },
    {
      "cell_type": "code",
      "source": [
        "model_comparison_table['model_name'].append(\"model with flatten and one hidden layer\")\n",
        "model_comparison_table['preprocessing_methods'].append(\"with some proccess function  \")\n",
        "model_comparison_table['validate accuracy'].append(0.3050)"
      ],
      "metadata": {
        "id": "dXT0c5d2fI3o"
      },
      "execution_count": null,
      "outputs": []
    },
    {
      "cell_type": "markdown",
      "source": [
        "##model with Bidirectional LSTM and LSTM"
      ],
      "metadata": {
        "id": "7Iy127Q1wl-O"
      }
    },
    {
      "cell_type": "code",
      "source": [
        "model3 = Sequential()\n",
        "model3.add(Embedding(total_words, 32, input_length=max_sequence_len-1))\n",
        "model3.add(Bidirectional(LSTM(32, return_sequences = True)))\n",
        "model3.add(Dropout(0.6))\n",
        "model3.add(LSTM(64))\n",
        "#model3.add(Dropout(0.6))\n",
        "#model3.add(Dense(total_words/2, activation='relu', kernel_regularizer=regularizers.l2(0.01)))\n",
        "model3.add(Dense(total_words, activation='softmax'))\n",
        "\n",
        "#model3.load_weights(\"best_model.h5\")\n",
        "\n",
        "model3.compile(loss='categorical_crossentropy', optimizer='adam', metrics=['accuracy'])\n",
        "\n",
        "# checkpoint\n",
        "#filepath=\"weights.best.hdf5\"\n",
        "\n",
        "mc = ModelCheckpoint('best_model.h5', monitor='val_loss', mode='min', verbose=1,save_best_only=True)\n",
        "#checkpoint = ModelCheckpoint(filepath, monitor='val_accuracy', verbose=1, save_best_only=True, mode='max')\n",
        "callbacks_list = [mc]\n",
        "\n",
        "print(model3.summary())"
      ],
      "metadata": {
        "colab": {
          "base_uri": "https://localhost:8080/"
        },
        "id": "h5O6Dryc9rPP",
        "outputId": "6fae95ab-baf5-4158-faf9-e3ff6b6298ce"
      },
      "execution_count": null,
      "outputs": [
        {
          "output_type": "stream",
          "name": "stdout",
          "text": [
            "Model: \"sequential_10\"\n",
            "_________________________________________________________________\n",
            " Layer (type)                Output Shape              Param #   \n",
            "=================================================================\n",
            " embedding_10 (Embedding)    (None, 27, 32)            179296    \n",
            "                                                                 \n",
            " bidirectional_6 (Bidirectio  (None, 27, 64)           16640     \n",
            " nal)                                                            \n",
            "                                                                 \n",
            " dropout_16 (Dropout)        (None, 27, 64)            0         \n",
            "                                                                 \n",
            " lstm_14 (LSTM)              (None, 64)                33024     \n",
            "                                                                 \n",
            " dense_13 (Dense)            (None, 5603)              364195    \n",
            "                                                                 \n",
            "=================================================================\n",
            "Total params: 593,155\n",
            "Trainable params: 593,155\n",
            "Non-trainable params: 0\n",
            "_________________________________________________________________\n",
            "None\n"
          ]
        }
      ]
    },
    {
      "cell_type": "code",
      "source": [
        "history3 = model3.fit(predictors, label1, batch_size=64, epochs=5,callbacks=callbacks_list, validation_split=0.2)"
      ],
      "metadata": {
        "colab": {
          "base_uri": "https://localhost:8080/"
        },
        "id": "QD1hmhh_-E2m",
        "outputId": "004496aa-44dd-47ee-d8fc-94dff6336600"
      },
      "execution_count": null,
      "outputs": [
        {
          "output_type": "stream",
          "name": "stdout",
          "text": [
            "Epoch 1/5\n",
            "680/681 [============================>.] - ETA: 0s - loss: 5.6237 - accuracy: 0.1718\n",
            "Epoch 00001: val_loss improved from inf to 5.26792, saving model to best_model.h5\n",
            "681/681 [==============================] - 36s 47ms/step - loss: 5.6231 - accuracy: 0.1718 - val_loss: 5.2679 - val_accuracy: 0.2202\n",
            "Epoch 2/5\n",
            "681/681 [==============================] - ETA: 0s - loss: 5.0200 - accuracy: 0.2353\n",
            "Epoch 00002: val_loss improved from 5.26792 to 5.12270, saving model to best_model.h5\n",
            "681/681 [==============================] - 31s 46ms/step - loss: 5.0200 - accuracy: 0.2353 - val_loss: 5.1227 - val_accuracy: 0.2496\n",
            "Epoch 3/5\n",
            "680/681 [============================>.] - ETA: 0s - loss: 4.8342 - accuracy: 0.2629\n",
            "Epoch 00003: val_loss improved from 5.12270 to 5.06007, saving model to best_model.h5\n",
            "681/681 [==============================] - 31s 46ms/step - loss: 4.8339 - accuracy: 0.2629 - val_loss: 5.0601 - val_accuracy: 0.2697\n",
            "Epoch 4/5\n",
            "680/681 [============================>.] - ETA: 0s - loss: 4.7152 - accuracy: 0.2761\n",
            "Epoch 00004: val_loss improved from 5.06007 to 5.02040, saving model to best_model.h5\n",
            "681/681 [==============================] - 32s 46ms/step - loss: 4.7156 - accuracy: 0.2759 - val_loss: 5.0204 - val_accuracy: 0.2703\n",
            "Epoch 5/5\n",
            "680/681 [============================>.] - ETA: 0s - loss: 4.6185 - accuracy: 0.2830\n",
            "Epoch 00005: val_loss improved from 5.02040 to 5.00340, saving model to best_model.h5\n",
            "681/681 [==============================] - 31s 45ms/step - loss: 4.6184 - accuracy: 0.2829 - val_loss: 5.0034 - val_accuracy: 0.2706\n"
          ]
        }
      ]
    },
    {
      "cell_type": "code",
      "source": [
        "import matplotlib.pyplot as plt\n",
        "acc = history3.history['accuracy']\n",
        "acc1 = history3.history['val_accuracy']\n",
        "loss = history3.history['loss']\n",
        "loss1 = history3.history['val_loss']\n",
        "epochs = range(len(loss))\n",
        "\n",
        "plt.plot(epochs, acc, 'b', label='Training accuracy')\n",
        "plt.plot(epochs, acc1, 'r', label='validate accuracy')\n",
        "plt.title('Training accuracy')\n",
        "#plt.figure()\n",
        "plt.title('validate accuracy')\n",
        "plt.legend()\n",
        "plt.show()\n",
        "\n",
        "plt.figure()\n",
        "plt.plot(epochs, loss, 'b', label='Training Loss')\n",
        "plt.plot(epochs, loss1, 'r', label='validate Loss')\n",
        "plt.title('Training loss')\n",
        "plt.title('validate loss')\n",
        "plt.legend()\n",
        "plt.show()"
      ],
      "metadata": {
        "colab": {
          "base_uri": "https://localhost:8080/",
          "height": 545
        },
        "id": "t4LXtMobBW9T",
        "outputId": "81629cf3-1208-42b9-a179-91ff618e820a"
      },
      "execution_count": null,
      "outputs": [
        {
          "output_type": "display_data",
          "data": {
            "image/png": "[encoded data removed]",
            "text/plain": [
              "<Figure size 432x288 with 1 Axes>"
            ]
          },
          "metadata": {
            "needs_background": "light"
          }
        },
        {
          "output_type": "display_data",
          "data": {
            "image/png": "[encoded data removed]",
            "text/plain": [
              "<Figure size 432x288 with 1 Axes>"
            ]
          },
          "metadata": {
            "needs_background": "light"
          }
        }
      ]
    },
    {
      "cell_type": "code",
      "source": [
        "model_comparison_table['model_name'].append(\"model with Bidirectional lstm\")\n",
        "model_comparison_table['preprocessing_methods'].append(\"with some proccess function  \")\n",
        "model_comparison_table['validate accuracy'].append(0.2706)"
      ],
      "metadata": {
        "id": "Ae8FB_U9brdz"
      },
      "execution_count": null,
      "outputs": []
    },
    {
      "cell_type": "markdown",
      "source": [
        "##model with LSTM "
      ],
      "metadata": {
        "id": "xaHW3i4oxMZa"
      }
    },
    {
      "cell_type": "code",
      "source": [
        "def create_model(max_sequence_len, total_words):\n",
        "  input_len = max_sequence_len - 1\n",
        "  model = Sequential()\n",
        " \n",
        "  # Add Input Embedding Layer\n",
        "  model.add(Embedding(total_words, 32, input_length=input_len))\n",
        " \n",
        "  # Add Hidden Layer 1 — LSTM Layer\n",
        "  model.add(LSTM(50))\n",
        "  model.add(Dropout(0.2))\n",
        " \n",
        "  # Add Output Layer\n",
        "  model.add(Dense(total_words, activation='softmax'))\n",
        "\n",
        "  #model.load_weights(\"best_model.h5\")\n",
        "\n",
        "  mc = ModelCheckpoint('best_model1.h5', monitor='val_loss', mode='min', verbose=1,save_best_only=True)\n",
        "  #checkpoint = ModelCheckpoint(filepath, monitor='val_accuracy', verbose=1, save_best_only=True, mode='max')\n",
        "  callbacks_list = [mc]\n",
        "\n",
        "  model.compile(loss='categorical_crossentropy', optimizer='adam',metrics=['accuracy'])\n",
        "  model.summary()\n",
        " \n",
        "  return model"
      ],
      "metadata": {
        "id": "AECgjYVcExuM"
      },
      "execution_count": null,
      "outputs": []
    },
    {
      "cell_type": "code",
      "source": [
        "model = create_model(max_sequence_len, total_words)"
      ],
      "metadata": {
        "id": "byjrXZCzSnVG",
        "colab": {
          "base_uri": "https://localhost:8080/"
        },
        "outputId": "8175132d-0d4e-43ad-8ac4-3cbe610d1840"
      },
      "execution_count": null,
      "outputs": [
        {
          "output_type": "stream",
          "name": "stdout",
          "text": [
            "Model: \"sequential_4\"\n",
            "_________________________________________________________________\n",
            " Layer (type)                Output Shape              Param #   \n",
            "=================================================================\n",
            " embedding_4 (Embedding)     (None, 27, 32)            179296    \n",
            "                                                                 \n",
            " lstm_2 (LSTM)               (None, 50)                16600     \n",
            "                                                                 \n",
            " dropout_7 (Dropout)         (None, 50)                0         \n",
            "                                                                 \n",
            " dense_7 (Dense)             (None, 5603)              285753    \n",
            "                                                                 \n",
            "=================================================================\n",
            "Total params: 481,649\n",
            "Trainable params: 481,649\n",
            "Non-trainable params: 0\n",
            "_________________________________________________________________\n"
          ]
        }
      ]
    },
    {
      "cell_type": "code",
      "source": [
        "history = model.fit(predictors, label1, batch_size=64, epochs=10,callbacks=callbacks_list, validation_split=0.2)"
      ],
      "metadata": {
        "colab": {
          "base_uri": "https://localhost:8080/"
        },
        "id": "5KkvnuYoLWSB",
        "outputId": "d3c70dfb-9e44-449f-b173-ab9374324378"
      },
      "execution_count": null,
      "outputs": [
        {
          "output_type": "stream",
          "name": "stdout",
          "text": [
            "Epoch 1/10\n",
            "680/681 [============================>.] - ETA: 0s - loss: 5.6542 - accuracy: 0.1602\n",
            "Epoch 00001: val_loss did not improve from 5.00340\n",
            "681/681 [==============================] - 20s 26ms/step - loss: 5.6537 - accuracy: 0.1603 - val_loss: 5.3004 - val_accuracy: 0.2171\n",
            "Epoch 2/10\n",
            "679/681 [============================>.] - ETA: 0s - loss: 5.1028 - accuracy: 0.2238\n",
            "Epoch 00002: val_loss did not improve from 5.00340\n",
            "681/681 [==============================] - 17s 25ms/step - loss: 5.1025 - accuracy: 0.2239 - val_loss: 5.1444 - val_accuracy: 0.2460\n",
            "Epoch 3/10\n",
            "679/681 [============================>.] - ETA: 0s - loss: 4.9023 - accuracy: 0.2498\n",
            "Epoch 00003: val_loss did not improve from 5.00340\n",
            "681/681 [==============================] - 17s 26ms/step - loss: 4.9019 - accuracy: 0.2498 - val_loss: 5.0614 - val_accuracy: 0.2578\n",
            "Epoch 4/10\n",
            "680/681 [============================>.] - ETA: 0s - loss: 4.7747 - accuracy: 0.2627\n",
            "Epoch 00004: val_loss did not improve from 5.00340\n",
            "681/681 [==============================] - 18s 26ms/step - loss: 4.7752 - accuracy: 0.2626 - val_loss: 5.0270 - val_accuracy: 0.2670\n",
            "Epoch 5/10\n",
            "680/681 [============================>.] - ETA: 0s - loss: 4.6707 - accuracy: 0.2784\n",
            "Epoch 00005: val_loss did not improve from 5.00340\n",
            "681/681 [==============================] - 18s 26ms/step - loss: 4.6704 - accuracy: 0.2782 - val_loss: 5.0070 - val_accuracy: 0.2775\n",
            "Epoch 6/10\n",
            "680/681 [============================>.] - ETA: 0s - loss: 4.5708 - accuracy: 0.2948\n",
            "Epoch 00006: val_loss improved from 5.00340 to 4.98348, saving model to best_model.h5\n",
            "681/681 [==============================] - 18s 26ms/step - loss: 4.5707 - accuracy: 0.2948 - val_loss: 4.9835 - val_accuracy: 0.2933\n",
            "Epoch 7/10\n",
            "680/681 [============================>.] - ETA: 0s - loss: 4.4648 - accuracy: 0.3088\n",
            "Epoch 00007: val_loss improved from 4.98348 to 4.95928, saving model to best_model.h5\n",
            "681/681 [==============================] - 18s 26ms/step - loss: 4.4655 - accuracy: 0.3087 - val_loss: 4.9593 - val_accuracy: 0.3004\n",
            "Epoch 8/10\n",
            "681/681 [==============================] - ETA: 0s - loss: 4.3657 - accuracy: 0.3214\n",
            "Epoch 00008: val_loss improved from 4.95928 to 4.94829, saving model to best_model.h5\n",
            "681/681 [==============================] - 18s 26ms/step - loss: 4.3657 - accuracy: 0.3214 - val_loss: 4.9483 - val_accuracy: 0.3029\n",
            "Epoch 9/10\n",
            "681/681 [==============================] - ETA: 0s - loss: 4.2713 - accuracy: 0.3298\n",
            "Epoch 00009: val_loss improved from 4.94829 to 4.94300, saving model to best_model.h5\n",
            "681/681 [==============================] - 18s 26ms/step - loss: 4.2713 - accuracy: 0.3298 - val_loss: 4.9430 - val_accuracy: 0.3070\n",
            "Epoch 10/10\n",
            "679/681 [============================>.] - ETA: 0s - loss: 4.1820 - accuracy: 0.3419\n",
            "Epoch 00010: val_loss improved from 4.94300 to 4.93716, saving model to best_model.h5\n",
            "681/681 [==============================] - 18s 26ms/step - loss: 4.1812 - accuracy: 0.3419 - val_loss: 4.9372 - val_accuracy: 0.3188\n"
          ]
        }
      ]
    },
    {
      "cell_type": "code",
      "source": [
        "import matplotlib.pyplot as plt\n",
        "acc = history.history['accuracy']\n",
        "acc1 = history.history['val_accuracy']\n",
        "loss = history.history['loss']\n",
        "loss1 = history.history['val_loss']\n",
        "epochs = range(len(loss))\n",
        "\n",
        "plt.plot(epochs, acc, 'b', label='Training accuracy')\n",
        "plt.plot(epochs, acc1, 'r', label='validate accuracy')\n",
        "plt.title('Training accuracy')\n",
        "#plt.figure()\n",
        "plt.title('validate accuracy')\n",
        "plt.legend()\n",
        "plt.show()\n",
        "\n",
        "plt.figure()\n",
        "plt.plot(epochs, loss, 'b', label='Training Loss')\n",
        "plt.plot(epochs, loss1, 'r', label='validate Loss')\n",
        "plt.title('Training loss')\n",
        "plt.title('validate loss')\n",
        "plt.legend()\n",
        "plt.show()"
      ],
      "metadata": {
        "colab": {
          "base_uri": "https://localhost:8080/",
          "height": 545
        },
        "id": "SjUXaZncLBzj",
        "outputId": "490e8f0a-9c60-4684-e853-62b741a3dbbf"
      },
      "execution_count": null,
      "outputs": [
        {
          "output_type": "display_data",
          "data": {
            "image/png": "[encoded data removed]",
            "text/plain": [
              "<Figure size 432x288 with 1 Axes>"
            ]
          },
          "metadata": {
            "needs_background": "light"
          }
        },
        {
          "output_type": "display_data",
          "data": {
            "image/png": "[encoded data removed]",
            "text/plain": [
              "<Figure size 432x288 with 1 Axes>"
            ]
          },
          "metadata": {
            "needs_background": "light"
          }
        }
      ]
    },
    {
      "cell_type": "code",
      "source": [
        "model_comparison_table['model_name'].append(\"model with lstm\")\n",
        "model_comparison_table['preprocessing_methods'].append(\"with some proccess function  \")\n",
        "model_comparison_table['validate accuracy'].append(0.3188)"
      ],
      "metadata": {
        "id": "cynGvyjJom7l"
      },
      "execution_count": null,
      "outputs": []
    },
    {
      "cell_type": "markdown",
      "source": [
        "##model with GRU"
      ],
      "metadata": {
        "id": "ENW4Y2rdxuYy"
      }
    },
    {
      "cell_type": "code",
      "source": [
        "gru_model = Sequential()\n",
        "gru_model.add(Embedding(input_dim=total_words, output_dim=32, input_length=max_sequence_len-1))\n",
        "gru_model.add(GRU(units=32))\n",
        "gru_model.add(Dropout(rate=0.7))\n",
        "gru_model.add(Dense(total_words, activation=\"softmax\"))\n",
        "\n",
        "#gru_model.load_weights(\"best_model2.h5\")\n",
        "\n",
        "\n",
        "mc = ModelCheckpoint('best_model2.h5', monitor='val_loss', mode='min', verbose=1,save_best_only=True)\n",
        "callbacks_list = [mc]\n",
        "\n",
        "gru_model.compile(loss='categorical_crossentropy', optimizer='adam', metrics=['accuracy'])\n",
        "print(gru_model.summary())"
      ],
      "metadata": {
        "colab": {
          "base_uri": "https://localhost:8080/"
        },
        "id": "Ju5chy2lpAsi",
        "outputId": "522b7d05-66c6-4dfd-f936-7c5060a4ba30"
      },
      "execution_count": null,
      "outputs": [
        {
          "output_type": "stream",
          "name": "stdout",
          "text": [
            "Model: \"sequential_11\"\n",
            "_________________________________________________________________\n",
            " Layer (type)                Output Shape              Param #   \n",
            "=================================================================\n",
            " embedding_11 (Embedding)    (None, 27, 32)            179296    \n",
            "                                                                 \n",
            " gru (GRU)                   (None, 32)                6336      \n",
            "                                                                 \n",
            " dropout_17 (Dropout)        (None, 32)                0         \n",
            "                                                                 \n",
            " dense_14 (Dense)            (None, 5603)              184899    \n",
            "                                                                 \n",
            "=================================================================\n",
            "Total params: 370,531\n",
            "Trainable params: 370,531\n",
            "Non-trainable params: 0\n",
            "_________________________________________________________________\n",
            "None\n"
          ]
        }
      ]
    },
    {
      "cell_type": "code",
      "source": [
        "historygru = gru_model.fit(predictors, label1, batch_size=64, epochs=10,callbacks=callbacks_list, validation_split=0.2)"
      ],
      "metadata": {
        "colab": {
          "base_uri": "https://localhost:8080/"
        },
        "id": "ZwqxqSHYqP6k",
        "outputId": "bcd3b9ee-addd-4e08-8ec3-ad2eff5492b8"
      },
      "execution_count": null,
      "outputs": [
        {
          "output_type": "stream",
          "name": "stdout",
          "text": [
            "Epoch 1/10\n",
            "679/681 [============================>.] - ETA: 0s - loss: 6.0091 - accuracy: 0.1388\n",
            "Epoch 00001: val_loss improved from inf to 5.33981, saving model to best_model2.h5\n",
            "681/681 [==============================] - 16s 21ms/step - loss: 6.0078 - accuracy: 0.1390 - val_loss: 5.3398 - val_accuracy: 0.1844\n",
            "Epoch 2/10\n",
            "679/681 [============================>.] - ETA: 0s - loss: 5.4708 - accuracy: 0.1757\n",
            "Epoch 00002: val_loss improved from 5.33981 to 5.25965, saving model to best_model2.h5\n",
            "681/681 [==============================] - 14s 21ms/step - loss: 5.4705 - accuracy: 0.1757 - val_loss: 5.2597 - val_accuracy: 0.2186\n",
            "Epoch 3/10\n",
            "681/681 [==============================] - ETA: 0s - loss: 5.3303 - accuracy: 0.1921\n",
            "Epoch 00003: val_loss improved from 5.25965 to 5.22664, saving model to best_model2.h5\n",
            "681/681 [==============================] - 14s 21ms/step - loss: 5.3303 - accuracy: 0.1921 - val_loss: 5.2266 - val_accuracy: 0.2338\n",
            "Epoch 4/10\n",
            "679/681 [============================>.] - ETA: 0s - loss: 5.2192 - accuracy: 0.2054\n",
            "Epoch 00004: val_loss improved from 5.22664 to 5.19041, saving model to best_model2.h5\n",
            "681/681 [==============================] - 14s 20ms/step - loss: 5.2193 - accuracy: 0.2055 - val_loss: 5.1904 - val_accuracy: 0.2429\n",
            "Epoch 5/10\n",
            "679/681 [============================>.] - ETA: 0s - loss: 5.1406 - accuracy: 0.2139\n",
            "Epoch 00005: val_loss improved from 5.19041 to 5.18483, saving model to best_model2.h5\n",
            "681/681 [==============================] - 14s 20ms/step - loss: 5.1412 - accuracy: 0.2138 - val_loss: 5.1848 - val_accuracy: 0.2488\n",
            "Epoch 6/10\n",
            "679/681 [============================>.] - ETA: 0s - loss: 5.0641 - accuracy: 0.2238\n",
            "Epoch 00006: val_loss improved from 5.18483 to 5.14576, saving model to best_model2.h5\n",
            "681/681 [==============================] - 14s 21ms/step - loss: 5.0646 - accuracy: 0.2236 - val_loss: 5.1458 - val_accuracy: 0.2517\n",
            "Epoch 7/10\n",
            "679/681 [============================>.] - ETA: 0s - loss: 4.9995 - accuracy: 0.2307\n",
            "Epoch 00007: val_loss improved from 5.14576 to 5.13583, saving model to best_model2.h5\n",
            "681/681 [==============================] - 14s 21ms/step - loss: 5.0008 - accuracy: 0.2307 - val_loss: 5.1358 - val_accuracy: 0.2617\n",
            "Epoch 8/10\n",
            "679/681 [============================>.] - ETA: 0s - loss: 4.9413 - accuracy: 0.2384\n",
            "Epoch 00008: val_loss improved from 5.13583 to 5.10550, saving model to best_model2.h5\n",
            "681/681 [==============================] - 14s 21ms/step - loss: 4.9403 - accuracy: 0.2386 - val_loss: 5.1055 - val_accuracy: 0.2630\n",
            "Epoch 9/10\n",
            "681/681 [==============================] - ETA: 0s - loss: 4.8887 - accuracy: 0.2452\n",
            "Epoch 00009: val_loss improved from 5.10550 to 5.10461, saving model to best_model2.h5\n",
            "681/681 [==============================] - 14s 21ms/step - loss: 4.8887 - accuracy: 0.2452 - val_loss: 5.1046 - val_accuracy: 0.2635\n",
            "Epoch 10/10\n",
            "679/681 [============================>.] - ETA: 0s - loss: 4.8309 - accuracy: 0.2483\n",
            "Epoch 00010: val_loss improved from 5.10461 to 5.10381, saving model to best_model2.h5\n",
            "681/681 [==============================] - 14s 20ms/step - loss: 4.8303 - accuracy: 0.2484 - val_loss: 5.1038 - val_accuracy: 0.2623\n"
          ]
        }
      ]
    },
    {
      "cell_type": "code",
      "source": [
        "import matplotlib.pyplot as plt\n",
        "acc = historygru.history['accuracy']\n",
        "acc1 = historygru.history['val_accuracy']\n",
        "loss = historygru.history['loss']\n",
        "loss1 = historygru.history['val_loss']\n",
        "epochs = range(len(loss))\n",
        "\n",
        "plt.plot(epochs, acc, 'b', label='Training accuracy')\n",
        "plt.plot(epochs, acc1, 'r', label='validate accuracy')\n",
        "plt.title('Training accuracy')\n",
        "#plt.figure()\n",
        "plt.title('validate accuracy')\n",
        "plt.legend()\n",
        "plt.show()\n",
        "\n",
        "plt.figure()\n",
        "plt.plot(epochs, loss, 'b', label='Training Loss')\n",
        "plt.plot(epochs, loss1, 'r', label='validate Loss')\n",
        "plt.title('Training loss')\n",
        "plt.title('validate loss')\n",
        "plt.legend()\n",
        "plt.show()"
      ],
      "metadata": {
        "colab": {
          "base_uri": "https://localhost:8080/",
          "height": 545
        },
        "id": "CJnhqV-YvCHW",
        "outputId": "eeeedb6a-f378-440f-dc2b-6a1f9b26ab86"
      },
      "execution_count": null,
      "outputs": [
        {
          "output_type": "display_data",
          "data": {
            "image/png": "[encoded data removed]",
            "text/plain": [
              "<Figure size 432x288 with 1 Axes>"
            ]
          },
          "metadata": {
            "needs_background": "light"
          }
        },
        {
          "output_type": "display_data",
          "data": {
            "image/png": "[encoded data removed]",
            "text/plain": [
              "<Figure size 432x288 with 1 Axes>"
            ]
          },
          "metadata": {
            "needs_background": "light"
          }
        }
      ]
    },
    {
      "cell_type": "code",
      "source": [
        "model_comparison_table['model_name'].append(\"model with GRU\")\n",
        "model_comparison_table['preprocessing_methods'].append(\"with some proccess function  \")\n",
        "model_comparison_table['validate accuracy'].append(0.2623)"
      ],
      "metadata": {
        "id": "Xz0LL3n2vTJA"
      },
      "execution_count": null,
      "outputs": []
    },
    {
      "cell_type": "markdown",
      "source": [
        "##model with Attention and Lstm"
      ],
      "metadata": {
        "id": "OoXkDE0V2vTr"
      }
    },
    {
      "cell_type": "code",
      "source": [
        "from tensorflow.keras.layers import Layer\n",
        "from tensorflow.keras import backend as K\n",
        "\n",
        "class Attention(Layer):\n",
        "    \n",
        "    def __init__(self, return_sequences=True):\n",
        "        self.return_sequences = return_sequences\n",
        "        super(Attention,self).__init__()\n",
        "        \n",
        "    def build(self, input_shape):\n",
        "        \n",
        "        self.W=self.add_weight(name=\"att_weight\", shape=(input_shape[-1],1),\n",
        "                               initializer=\"normal\")\n",
        "        self.b=self.add_weight(name=\"att_bias\", shape=(input_shape[1],1),\n",
        "                               initializer=\"zeros\")\n",
        "        \n",
        "        super(Attention,self).build(input_shape)\n",
        "        \n",
        "    def call(self, x):\n",
        "        \n",
        "        e = K.tanh(K.dot(x,self.W)+self.b)\n",
        "        a = K.softmax(e, axis=1)\n",
        "        output = x*a\n",
        "        \n",
        "        if self.return_sequences:\n",
        "            return output\n",
        "        \n",
        "        return K.sum(output, axis=1)"
      ],
      "metadata": {
        "id": "W825j-wB2qgi"
      },
      "execution_count": null,
      "outputs": []
    },
    {
      "cell_type": "code",
      "source": [
        "modelAttention = Sequential()\n",
        "\n",
        "modelAttention.add(Embedding(total_words, 32, input_length=input_len))\n",
        "modelAttention.add(Bidirectional(LSTM(32, return_sequences=True)))\n",
        "\n",
        "modelAttention.add(Attention(return_sequences=True)) # receive 3D and output 3D\n",
        "modelAttention.add(LSTM(32))\n",
        "\n",
        "modelAttention.add(Dense(total_words, activation='softmax'))\n",
        "\n",
        "modelAttention.compile(optimizer='adam',\n",
        "              loss='sparse_categorical_crossentropy',metrics=['accuracy'])\n",
        "modelAttention.summary()"
      ],
      "metadata": {
        "colab": {
          "base_uri": "https://localhost:8080/"
        },
        "id": "DzHIs1f42186",
        "outputId": "9051d72c-202c-4626-cfd0-8751b916c86a"
      },
      "execution_count": null,
      "outputs": [
        {
          "output_type": "stream",
          "name": "stdout",
          "text": [
            "Model: \"sequential_15\"\n",
            "_________________________________________________________________\n",
            " Layer (type)                Output Shape              Param #   \n",
            "=================================================================\n",
            " embedding_15 (Embedding)    (None, 27, 32)            179296    \n",
            "                                                                 \n",
            " bidirectional_10 (Bidirecti  (None, 27, 64)           16640     \n",
            " onal)                                                           \n",
            "                                                                 \n",
            " attention_3 (Attention)     (None, 27, 64)            91        \n",
            "                                                                 \n",
            " lstm_22 (LSTM)              (None, 32)                12416     \n",
            "                                                                 \n",
            " dense_18 (Dense)            (None, 5603)              184899    \n",
            "                                                                 \n",
            "=================================================================\n",
            "Total params: 393,342\n",
            "Trainable params: 393,342\n",
            "Non-trainable params: 0\n",
            "_________________________________________________________________\n"
          ]
        }
      ]
    },
    {
      "cell_type": "code",
      "source": [
        "historyAttention = modelAttention.fit(predictors, label, batch_size=64, epochs=10, validation_split=0.2)"
      ],
      "metadata": {
        "colab": {
          "base_uri": "https://localhost:8080/"
        },
        "id": "sBxRYpDc3Uu_",
        "outputId": "8faa7b2d-fbd1-4a7b-815c-3d2c0a0a3717"
      },
      "execution_count": null,
      "outputs": [
        {
          "output_type": "stream",
          "name": "stdout",
          "text": [
            "Epoch 1/10\n",
            "681/681 [==============================] - 32s 40ms/step - loss: 5.7589 - accuracy: 0.1484 - val_loss: 5.3839 - val_accuracy: 0.1809\n",
            "Epoch 2/10\n",
            "681/681 [==============================] - 26s 38ms/step - loss: 5.1756 - accuracy: 0.2177 - val_loss: 5.2715 - val_accuracy: 0.2370\n",
            "Epoch 3/10\n",
            "681/681 [==============================] - 26s 38ms/step - loss: 5.0120 - accuracy: 0.2395 - val_loss: 5.2380 - val_accuracy: 0.2443\n",
            "Epoch 4/10\n",
            "681/681 [==============================] - 26s 38ms/step - loss: 4.9116 - accuracy: 0.2487 - val_loss: 5.2077 - val_accuracy: 0.2545\n",
            "Epoch 5/10\n",
            "681/681 [==============================] - 26s 39ms/step - loss: 4.8180 - accuracy: 0.2582 - val_loss: 5.1768 - val_accuracy: 0.2524\n",
            "Epoch 6/10\n",
            "681/681 [==============================] - 26s 38ms/step - loss: 4.7334 - accuracy: 0.2662 - val_loss: 5.1590 - val_accuracy: 0.2624\n",
            "Epoch 7/10\n",
            "681/681 [==============================] - 26s 39ms/step - loss: 4.6639 - accuracy: 0.2788 - val_loss: 5.1430 - val_accuracy: 0.2724\n",
            "Epoch 8/10\n",
            "681/681 [==============================] - 26s 38ms/step - loss: 4.6001 - accuracy: 0.2835 - val_loss: 5.1273 - val_accuracy: 0.2777\n",
            "Epoch 9/10\n",
            "681/681 [==============================] - 26s 38ms/step - loss: 4.5368 - accuracy: 0.2918 - val_loss: 5.1196 - val_accuracy: 0.2890\n",
            "Epoch 10/10\n",
            "681/681 [==============================] - 26s 39ms/step - loss: 4.4753 - accuracy: 0.3082 - val_loss: 5.1080 - val_accuracy: 0.2955\n"
          ]
        }
      ]
    },
    {
      "cell_type": "code",
      "source": [
        "import matplotlib.pyplot as plt\n",
        "acc = historyAttention.history['accuracy']\n",
        "acc1 = historyAttention.history['val_accuracy']\n",
        "loss = historyAttention.history['loss']\n",
        "loss1 = historyAttention.history['val_loss']\n",
        "epochs = range(len(loss))\n",
        "\n",
        "plt.plot(epochs, acc, 'b', label='Training accuracy')\n",
        "plt.plot(epochs, acc1, 'r', label='validate accuracy')\n",
        "plt.title('Training accuracy')\n",
        "#plt.figure()\n",
        "plt.title('validate accuracy')\n",
        "plt.legend()\n",
        "plt.show()\n",
        "\n",
        "plt.figure()\n",
        "plt.plot(epochs, loss, 'b', label='Training Loss')\n",
        "plt.plot(epochs, loss1, 'r', label='validate Loss')\n",
        "plt.title('Training loss')\n",
        "plt.title('validate loss')\n",
        "plt.legend()\n",
        "plt.show()"
      ],
      "metadata": {
        "colab": {
          "base_uri": "https://localhost:8080/",
          "height": 545
        },
        "id": "ssSMd1WU4szM",
        "outputId": "0cfa5ab9-8516-41e0-937e-acd29da02748"
      },
      "execution_count": null,
      "outputs": [
        {
          "output_type": "display_data",
          "data": {
            "image/png": "[encoded data removed]",
            "text/plain": [
              "<Figure size 432x288 with 1 Axes>"
            ]
          },
          "metadata": {
            "needs_background": "light"
          }
        },
        {
          "output_type": "display_data",
          "data": {
            "image/png": "[encoded data removed]",
            "text/plain": [
              "<Figure size 432x288 with 1 Axes>"
            ]
          },
          "metadata": {
            "needs_background": "light"
          }
        }
      ]
    },
    {
      "cell_type": "code",
      "source": [
        "model_comparison_table['model_name'].append(\"model with Attention and lstm\")\n",
        "model_comparison_table['preprocessing_methods'].append(\"with some proccess function  \")\n",
        "model_comparison_table['validate accuracy'].append(0.2955)"
      ],
      "metadata": {
        "id": "YLli1BRH8KSJ"
      },
      "execution_count": null,
      "outputs": []
    },
    {
      "cell_type": "markdown",
      "source": [
        "##get best parameter using grid search"
      ],
      "metadata": {
        "id": "axaNB8JnyI6b"
      }
    },
    {
      "cell_type": "code",
      "source": [
        "def create_model1(num_Lstm1,num_Lstm2,embedding_dim):\n",
        "\n",
        "    model3 = Sequential()\n",
        "    model3.add(Embedding(total_words, embedding_dim, input_length=max_sequence_len-1))\n",
        "    model3.add(Bidirectional(LSTM(num_Lstm1, return_sequences = True)))\n",
        "    model3.add(Dropout(0.2))\n",
        "    model3.add(LSTM(num_Lstm2))\n",
        "    #model3.add(Dense(total_words/2, activation='relu', kernel_regularizer=regularizers.l2(0.01)))\n",
        "    model3.add(Dense(total_words, activation='softmax'))\n",
        "    model3.compile(loss='categorical_crossentropy', optimizer='adam', metrics=['accuracy'])\n",
        "    print(model3.summary())\n",
        "    # Compile the model\n",
        "    return model3"
      ],
      "metadata": {
        "id": "1URjAMgBF8i0"
      },
      "execution_count": null,
      "outputs": []
    },
    {
      "cell_type": "code",
      "source": [
        "from keras.wrappers.scikit_learn import KerasClassifier\n",
        "from sklearn.model_selection import RandomizedSearchCV\n",
        "\n",
        "\n",
        "# Parameter grid for grid search  64, 100 ,50,60\n",
        "param_grid = dict(num_Lstm1=[32,64], \n",
        "                  num_Lstm2=[32,64],\n",
        "                  embedding_dim=[32,50],)\n",
        "\n",
        "model = KerasClassifier(build_fn=create_model1,\n",
        "                            epochs=10, batch_size=64,\n",
        "                            verbose=False)\n",
        "\n",
        "grid = RandomizedSearchCV(estimator=model, param_distributions=param_grid,\n",
        "                              cv=4, verbose=1, n_iter=5)\n",
        "\n",
        "grid_result = grid.fit(predictors, label1)\n",
        "\n",
        "# Evaluate testing set\n",
        "#test_accuracy = grid.score(X_test, y_test)\n",
        "\n",
        "#print(test_accuracy)\n",
        "# Save and evaluate results\n",
        "s = ('Running {} data set\\nBest Accuracy : '\n",
        "'{:.4f}\\n{}\\nTest Accuracy : {:.4f}\\n\\n')\n",
        "#output_string = s.format(\n",
        "#grid_result.best_score_,\n",
        "#grid_result.best_params_,\n",
        "#test_accuracy)\n",
        "#print(output_string)"
      ],
      "metadata": {
        "id": "ow8R3GTTEf_L"
      },
      "execution_count": null,
      "outputs": []
    },
    {
      "cell_type": "code",
      "source": [
        "print(grid_result.best_score_)\n",
        "print(grid_result.best_params_)"
      ],
      "metadata": {
        "colab": {
          "base_uri": "https://localhost:8080/"
        },
        "id": "QaPv5Lpzp13h",
        "outputId": "82952e90-ff1f-48a2-b45d-6bbcde1b94bf"
      },
      "execution_count": null,
      "outputs": [
        {
          "output_type": "stream",
          "name": "stdout",
          "text": [
            "0.31601841002702713\n",
            "{'num_Lstm2': 64, 'num_Lstm1': 64, 'embedding_dim': 50}\n"
          ]
        }
      ]
    },
    {
      "cell_type": "markdown",
      "source": [
        "##process the test "
      ],
      "metadata": {
        "id": "AXM28ssnywfW"
      }
    },
    {
      "cell_type": "code",
      "source": [
        "X_test = np.array(test)\n",
        "X_test, y_test = X_test[:,:-1], X_test[:,-1]"
      ],
      "metadata": {
        "id": "UJSYUOKVyGLT"
      },
      "execution_count": null,
      "outputs": []
    },
    {
      "cell_type": "code",
      "source": [
        "#check if you have duplicated in data\n",
        "test.duplicated().sum()\n",
        "test['title'].duplicated().sum()"
      ],
      "metadata": {
        "colab": {
          "base_uri": "https://localhost:8080/"
        },
        "id": "DgPeZoHyyy7T",
        "outputId": "971d034d-c52a-4930-e0db-2323396c326a"
      },
      "execution_count": null,
      "outputs": [
        {
          "output_type": "execute_result",
          "data": {
            "text/plain": [
              "1318"
            ]
          },
          "metadata": {},
          "execution_count": 18
        }
      ]
    },
    {
      "cell_type": "code",
      "source": [
        "test.duplicated().sum()\n",
        "test['story'].duplicated().sum()"
      ],
      "metadata": {
        "colab": {
          "base_uri": "https://localhost:8080/"
        },
        "id": "JWRzwYtD3e-y",
        "outputId": "582a99fa-b8b5-49c7-ee91-2f47312d59c9"
      },
      "execution_count": null,
      "outputs": [
        {
          "output_type": "execute_result",
          "data": {
            "text/plain": [
              "2581"
            ]
          },
          "metadata": {},
          "execution_count": 19
        }
      ]
    },
    {
      "cell_type": "code",
      "source": [
        "# dropping ALL duplicate values\n",
        "test.drop_duplicates(subset =\"title\",\n",
        "                     keep = False, inplace = True)"
      ],
      "metadata": {
        "id": "KYEPI3bU3Yb2"
      },
      "execution_count": null,
      "outputs": []
    },
    {
      "cell_type": "code",
      "source": [
        "# dropping ALL duplicate values\n",
        "test.drop_duplicates(subset =\"story\",\n",
        "                     keep = False, inplace = True)"
      ],
      "metadata": {
        "id": "D_XtIDRM3jhj"
      },
      "execution_count": null,
      "outputs": []
    },
    {
      "cell_type": "code",
      "source": [
        "test['title'].duplicated().sum()"
      ],
      "metadata": {
        "colab": {
          "base_uri": "https://localhost:8080/"
        },
        "id": "_0aStokY3bma",
        "outputId": "b8b14876-8468-4e0d-d52e-cd8706dbb2b8"
      },
      "execution_count": null,
      "outputs": [
        {
          "output_type": "execute_result",
          "data": {
            "text/plain": [
              "0"
            ]
          },
          "metadata": {},
          "execution_count": 22
        }
      ]
    },
    {
      "cell_type": "code",
      "source": [
        "test['story'].duplicated().sum()"
      ],
      "metadata": {
        "colab": {
          "base_uri": "https://localhost:8080/"
        },
        "id": "YE6WmGAl3miB",
        "outputId": "63f0ad31-c3b2-4c14-9874-23ed36aa5b4c"
      },
      "execution_count": null,
      "outputs": [
        {
          "output_type": "execute_result",
          "data": {
            "text/plain": [
              "0"
            ]
          },
          "metadata": {},
          "execution_count": 23
        }
      ]
    },
    {
      "cell_type": "code",
      "source": [
        "test.shape"
      ],
      "metadata": {
        "colab": {
          "base_uri": "https://localhost:8080/"
        },
        "id": "HrmbN2CY3vTF",
        "outputId": "c2452052-2735-476d-e8f8-f821345d7b23"
      },
      "execution_count": null,
      "outputs": [
        {
          "output_type": "execute_result",
          "data": {
            "text/plain": [
              "(2788, 2)"
            ]
          },
          "metadata": {},
          "execution_count": 24
        }
      ]
    },
    {
      "cell_type": "code",
      "source": [
        "def preprocess1(text):\n",
        "    result = []\n",
        "    newbert = arabert_prep.preprocess(text)\n",
        "    li = list(newbert.split(\" \"))\n",
        "    for token in li:\n",
        "         tweet = remov_duplicates(token, 1)\n",
        "         tweet = remove_harakat(tweet)\n",
        "         tweet = remove_symbols(tweet)\n",
        "         tweet = remove_spaces(tweet)\n",
        "         tweet = remove_duplicate_characters(tweet)\n",
        "         tweet = clean_text(tweet)\n",
        "         #tweet = light_stem2(tweet)\n",
        "         tweet = remove_tweets_other(tweet,1)\n",
        "         tweet = remove_english(tweet,1)\n",
        "         tweet = remove_tweets_extra_white_space(tweet,1)\n",
        "         if tweet != \" \":\n",
        "            if len(tweet) >2:\n",
        "                result.append(tweet)\n",
        "    return result"
      ],
      "metadata": {
        "id": "f22SoWBdVz5z"
      },
      "execution_count": null,
      "outputs": []
    },
    {
      "cell_type": "code",
      "source": [
        "test.index"
      ],
      "metadata": {
        "colab": {
          "base_uri": "https://localhost:8080/"
        },
        "id": "9mx_e4_n6pu9",
        "outputId": "9751e310-dcbe-4fc9-d74c-4988bb647ed4"
      },
      "execution_count": null,
      "outputs": [
        {
          "output_type": "execute_result",
          "data": {
            "text/plain": [
              "Int64Index([   1,    4,    5,    8,    9,   13,   14,   15,   16,   26,\n",
              "            ...\n",
              "            6375, 6377, 6378, 6379, 6380, 6388, 6392, 6395, 6396, 6398],\n",
              "           dtype='int64', length=2788)"
            ]
          },
          "metadata": {},
          "execution_count": 26
        }
      ]
    },
    {
      "cell_type": "code",
      "source": [
        "test['story'][5]"
      ],
      "metadata": {
        "colab": {
          "base_uri": "https://localhost:8080/",
          "height": 106
        },
        "id": "rdr_YeL714Jc",
        "outputId": "bead3fe0-e6dd-4121-d81d-f2f0f00b02a5"
      },
      "execution_count": null,
      "outputs": [
        {
          "output_type": "execute_result",
          "data": {
            "application/vnd.google.colaboratory.intrinsic+json": {
              "type": "string"
            },
            "text/plain": [
              "'أعلن الاتحاد الكاميروني لكرة القدم، اعتذار الحكومة الكاميرونية رسميا، للكونفدرالية الإفريقية للعبة \"كاف\"، عن احتضان مباريات \"المربع الذهبي\" ونهائي مسابقة دوري أبطال إفريقيا، بسبب تفشي وباء \"كورونا\" في البلاد.وقال سايدو مبومبو، رئيس الاتحاد الكاميروني، خلال مؤتمر صحفي عُقد اليوم الاثنين: \"الحكومة تعتذر عن استضافة المباريات المتبقية من مسابقة دوري أبطال إفريقيا، بسبب انتشار فيروس كورونا، وعدم استقرار الوضع الصحي داخل البلاد\".وأضاف المتحدث نفسه: \"نتمنى من الكونفدرالية الإفريقية أن تقبل اعتذارنا الرسمي عن استضافة مباريات نصف نهائي ونهائي دوري الأبطال، ونتمنى التوفيق للمسابقة والقارة السمراء\".ومن المنتظر أن يُواجه الرجاء والوداد الرياضيان الزمالك والأهلي المصريين على التوالي، في مباراة نصف النهائي التي ستُلعب من لقاء واحد بنظام خروج المغلوب، ومباراة النهاية التي ستلعب على شكل لقاء فاصل.وبعد اعتذار الكاميرون عن استضافة المباريات المتبقية، تجد الكونفدرالية الإفريقية نفسها في موقف حرج، إذ من المتوقع أن تعقد لجنة الطوارئ التابعة للـ\"كاف\" اجتماعا عاجلا، للبحث عن حل بديل وإيجاد بلد آخر لاستضافة المباريات.'"
            ]
          },
          "metadata": {},
          "execution_count": 48
        }
      ]
    },
    {
      "cell_type": "markdown",
      "source": [
        "##using  Markov Chain to generation random title"
      ],
      "metadata": {
        "id": "d4u0WHkan8P0"
      }
    },
    {
      "cell_type": "code",
      "source": [
        "def markov_blanket(text, order):\n",
        "  result = {} # The Markov Blanket\n",
        "\n",
        "  for i in range(len(text) - order + 1): # For every n-gram\n",
        "    ngram = \"\"\n",
        "    for off in range(order):\n",
        "      ngram += text[i+off]\n",
        "    \n",
        "    if not ngram in result: # If we didn't see it yet\n",
        "      result[ngram] = []\n",
        "    if i < len(text) - order: # If we didn't reach the end\n",
        "      result[ngram].append(text[i+order]) # Add the next letter as a possibility\n",
        "  \n",
        "  return result # Give the result back"
      ],
      "metadata": {
        "id": "axQgi0GM7i_M"
      },
      "execution_count": null,
      "outputs": []
    },
    {
      "cell_type": "code",
      "source": [
        "import random\n",
        "def markov_chain(blanket):\n",
        "  keys = blanket.keys()\n",
        "  ngram = random.choice(list(keys)) # Starting Point\n",
        "  new_text = ngram\n",
        "  while True:\n",
        "    try:\n",
        "      nxt = random.choice(blanket[ngram]) # Choose a next letter\n",
        "      new_text += nxt # Add it to the text\n",
        "      ngram += nxt # Add it to the ngram and remove the 1st character\n",
        "      ngram = ngram[1:]\n",
        "    except IndexError: # If we can't choose a next letter, maybe because there is none\n",
        "      break\n",
        "  return new_text # Give the result back"
      ],
      "metadata": {
        "id": "aMfCinGF8pyM"
      },
      "execution_count": null,
      "outputs": []
    },
    {
      "cell_type": "code",
      "source": [
        "text = \"أعلن الاتحاد الكاميروني لكرة القدم، اعتذار الحكومة الكاميرونية رسميا، للكونفدرالية الإفريقية للعبة كاف، عن احتضان مباريات المربع الذهبي ونهائي مسابقة دوري أبطال إفريقيا، بسبب تفشي وباء كورونا في البلاد\"\n",
        "text = text[:len(text)-1]\n",
        "order = 4"
      ],
      "metadata": {
        "id": "kbBgdGgAAAjr"
      },
      "execution_count": null,
      "outputs": []
    },
    {
      "cell_type": "code",
      "source": [
        "new_text = markov_chain(markov_blanket(text, order))\n",
        "print(new_text) # Print the new text out"
      ],
      "metadata": {
        "colab": {
          "base_uri": "https://localhost:8080/"
        },
        "id": "PPu8NU9k9MfA",
        "outputId": "9744615f-9450-49e6-e50e-7dc2ce937f12"
      },
      "execution_count": null,
      "outputs": [
        {
          "output_type": "stream",
          "name": "stdout",
          "text": [
            "سبب تفشي وباء كورونا في البلا\n"
          ]
        }
      ]
    },
    {
      "cell_type": "markdown",
      "source": [
        "##using BERTopic to get the important word"
      ],
      "metadata": {
        "id": "BjQ9N-snzDsh"
      }
    },
    {
      "cell_type": "code",
      "source": [
        "#processed_docs ={ }\n",
        "processed_docs = preprocess1(test['story'][5])"
      ],
      "metadata": {
        "id": "qF1b6G_jTUAX"
      },
      "execution_count": null,
      "outputs": []
    },
    {
      "cell_type": "code",
      "source": [
        "type(test['story'])"
      ],
      "metadata": {
        "colab": {
          "base_uri": "https://localhost:8080/"
        },
        "id": "EmuDd9JcV1uC",
        "outputId": "d196044e-7992-4c48-f124-cb421b59eca4"
      },
      "execution_count": null,
      "outputs": [
        {
          "output_type": "execute_result",
          "data": {
            "text/plain": [
              "pandas.core.series.Series"
            ]
          },
          "metadata": {},
          "execution_count": 96
        }
      ]
    },
    {
      "cell_type": "code",
      "source": [
        "type(processed_docs)"
      ],
      "metadata": {
        "colab": {
          "base_uri": "https://localhost:8080/"
        },
        "id": "T632-c3XOnQA",
        "outputId": "b028872a-9506-4ea3-9d9c-6ac032b7674b"
      },
      "execution_count": null,
      "outputs": [
        {
          "output_type": "execute_result",
          "data": {
            "text/plain": [
              "list"
            ]
          },
          "metadata": {},
          "execution_count": 97
        }
      ]
    },
    {
      "cell_type": "code",
      "source": [
        "topic_modeln_gram = BERTopic(language=\"arabic\",min_topic_size=5, n_gram_range=(1,3), verbose=True)"
      ],
      "metadata": {
        "id": "BZ0vM4KNkeKj"
      },
      "execution_count": null,
      "outputs": []
    },
    {
      "cell_type": "code",
      "source": [
        "#topic_model = BERTopic(language=\"english\", calculate_probabilities=True, verbose=True)\n",
        "topics, probs = topic_modeln_gram.fit_transform(processed_docs)"
      ],
      "metadata": {
        "colab": {
          "base_uri": "https://localhost:8080/",
          "height": 101,
          "referenced_widgets": [
            "181df6a295e944e4ba006d6d9add370e",
            "90bcfcd166544f2c9c21cc1a485726be",
            "b90df18d336141889c61f7753dd30519",
            "8252438e83c643a69923aca06a1af5ee",
            "97d40d1b2b714e68becab46d98e19977",
            "f7174408563045beb444710baeb95f2e",
            "9cf3d89ae7fb42aab3ba65dab42b1796",
            "33e717a989184a8cb195954164cf1bdd",
            "3d932b0f116948608ba9508b778c756e",
            "5603a61f7f8e4e8a9f4cd3d4ba2be9d7",
            "2bbaf3e661c5460bb208ccca4a23b3d1"
          ]
        },
        "id": "E2PAN9R-lQ22",
        "outputId": "5a485186-d05c-4bba-cab2-3faa12f835f0"
      },
      "execution_count": null,
      "outputs": [
        {
          "output_type": "display_data",
          "data": {
            "application/vnd.jupyter.widget-view+json": {
              "model_id": "181df6a295e944e4ba006d6d9add370e",
              "version_minor": 0,
              "version_major": 2
            },
            "text/plain": [
              "Batches:   0%|          | 0/5 [00:00<?, ?it/s]"
            ]
          },
          "metadata": {}
        },
        {
          "output_type": "stream",
          "name": "stderr",
          "text": [
            "2022-01-03 15:43:24,418 - BERTopic - Transformed documents to Embeddings\n",
            "2022-01-03 15:43:27,752 - BERTopic - Reduced dimensionality with UMAP\n",
            "2022-01-03 15:43:27,768 - BERTopic - Clustered UMAP embeddings with HDBSCAN\n"
          ]
        }
      ]
    },
    {
      "cell_type": "code",
      "source": [
        "freq = topic_modeln_gram.get_topic_info(); freq.head(5)"
      ],
      "metadata": {
        "colab": {
          "base_uri": "https://localhost:8080/",
          "height": 206
        },
        "id": "rY1bax9VlUmd",
        "outputId": "32e1c4de-7398-456b-b1a4-619af3396a72"
      },
      "execution_count": null,
      "outputs": [
        {
          "output_type": "execute_result",
          "data": {
            "text/html": [
              "\n",
              "  <div id=\"df-dea07809-fcdb-4d3c-bba8-2dec73000bee\">\n",
              "    <div class=\"colab-df-container\">\n",
              "      <div>\n",
              "<style scoped>\n",
              "    .dataframe tbody tr th:only-of-type {\n",
              "        vertical-align: middle;\n",
              "    }\n",
              "\n",
              "    .dataframe tbody tr th {\n",
              "        vertical-align: top;\n",
              "    }\n",
              "\n",
              "    .dataframe thead th {\n",
              "        text-align: right;\n",
              "    }\n",
              "</style>\n",
              "<table border=\"1\" class=\"dataframe\">\n",
              "  <thead>\n",
              "    <tr style=\"text-align: right;\">\n",
              "      <th></th>\n",
              "      <th>Topic</th>\n",
              "      <th>Count</th>\n",
              "      <th>Name</th>\n",
              "    </tr>\n",
              "  </thead>\n",
              "  <tbody>\n",
              "    <tr>\n",
              "      <th>0</th>\n",
              "      <td>0</td>\n",
              "      <td>76</td>\n",
              "      <td>0_مباري__مسابق_التي</td>\n",
              "    </tr>\n",
              "    <tr>\n",
              "      <th>1</th>\n",
              "      <td>1</td>\n",
              "      <td>18</td>\n",
              "      <td>1_استضاف_اتحاد_داخل اضاف_اجتماع استضاف</td>\n",
              "    </tr>\n",
              "    <tr>\n",
              "      <th>2</th>\n",
              "      <td>-1</td>\n",
              "      <td>13</td>\n",
              "      <td>-1_نهائي_اعتذار_رسمي نهائي_اعتذار رسمي</td>\n",
              "    </tr>\n",
              "    <tr>\n",
              "      <th>3</th>\n",
              "      <td>2</td>\n",
              "      <td>10</td>\n",
              "      <td>2_دوري_نتمني_متبقي_دوري متبقي دوري</td>\n",
              "    </tr>\n",
              "    <tr>\n",
              "      <th>4</th>\n",
              "      <td>3</td>\n",
              "      <td>9</td>\n",
              "      <td>3_كاميروني_افريقي_افريقيا_افريقي كاميرون افريقي</td>\n",
              "    </tr>\n",
              "  </tbody>\n",
              "</table>\n",
              "</div>\n",
              "      <button class=\"colab-df-convert\" onclick=\"convertToInteractive('df-dea07809-fcdb-4d3c-bba8-2dec73000bee')\"\n",
              "              title=\"Convert this dataframe to an interactive table.\"\n",
              "              style=\"display:none;\">\n",
              "        \n",
              "  <svg xmlns=\"http://www.w3.org/2000/svg\" height=\"24px\"viewBox=\"0 0 24 24\"\n",
              "       width=\"24px\">\n",
              "    <path d=\"M0 0h24v24H0V0z\" fill=\"none\"/>\n",
              "    <path d=\"M18.56 5.44l.94 2.06.94-2.06 2.06-.94-2.06-.94-.94-2.06-.94 2.06-2.06.94zm-11 1L8.5 8.5l.94-2.06 2.06-.94-2.06-.94L8.5 2.5l-.94 2.06-2.06.94zm10 10l.94 2.06.94-2.06 2.06-.94-2.06-.94-.94-2.06-.94 2.06-2.06.94z\"/><path d=\"M17.41 7.96l-1.37-1.37c-.4-.4-.92-.59-1.43-.59-.52 0-1.04.2-1.43.59L10.3 9.45l-7.72 7.72c-.78.78-.78 2.05 0 2.83L4 21.41c.39.39.9.59 1.41.59.51 0 1.02-.2 1.41-.59l7.78-7.78 2.81-2.81c.8-.78.8-2.07 0-2.86zM5.41 20L4 18.59l7.72-7.72 1.47 1.35L5.41 20z\"/>\n",
              "  </svg>\n",
              "      </button>\n",
              "      \n",
              "  <style>\n",
              "    .colab-df-container {\n",
              "      display:flex;\n",
              "      flex-wrap:wrap;\n",
              "      gap: 12px;\n",
              "    }\n",
              "\n",
              "    .colab-df-convert {\n",
              "      background-color: #E8F0FE;\n",
              "      border: none;\n",
              "      border-radius: 50%;\n",
              "      cursor: pointer;\n",
              "      display: none;\n",
              "      fill: #1967D2;\n",
              "      height: 32px;\n",
              "      padding: 0 0 0 0;\n",
              "      width: 32px;\n",
              "    }\n",
              "\n",
              "    .colab-df-convert:hover {\n",
              "      background-color: #E2EBFA;\n",
              "      box-shadow: 0px 1px 2px rgba(60, 64, 67, 0.3), 0px 1px 3px 1px rgba(60, 64, 67, 0.15);\n",
              "      fill: #174EA6;\n",
              "    }\n",
              "\n",
              "    [theme=dark] .colab-df-convert {\n",
              "      background-color: #3B4455;\n",
              "      fill: #D2E3FC;\n",
              "    }\n",
              "\n",
              "    [theme=dark] .colab-df-convert:hover {\n",
              "      background-color: #434B5C;\n",
              "      box-shadow: 0px 1px 3px 1px rgba(0, 0, 0, 0.15);\n",
              "      filter: drop-shadow(0px 1px 2px rgba(0, 0, 0, 0.3));\n",
              "      fill: #FFFFFF;\n",
              "    }\n",
              "  </style>\n",
              "\n",
              "      <script>\n",
              "        const buttonEl =\n",
              "          document.querySelector('#df-dea07809-fcdb-4d3c-bba8-2dec73000bee button.colab-df-convert');\n",
              "        buttonEl.style.display =\n",
              "          google.colab.kernel.accessAllowed ? 'block' : 'none';\n",
              "\n",
              "        async function convertToInteractive(key) {\n",
              "          const element = document.querySelector('#df-dea07809-fcdb-4d3c-bba8-2dec73000bee');\n",
              "          const dataTable =\n",
              "            await google.colab.kernel.invokeFunction('convertToInteractive',\n",
              "                                                     [key], {});\n",
              "          if (!dataTable) return;\n",
              "\n",
              "          const docLinkHtml = 'Like what you see? Visit the ' +\n",
              "            '<a target=\"_blank\" href=https://colab.research.google.com/notebooks/data_table.ipynb>data table notebook</a>'\n",
              "            + ' to learn more about interactive tables.';\n",
              "          element.innerHTML = '';\n",
              "          dataTable['output_type'] = 'display_data';\n",
              "          await google.colab.output.renderOutput(dataTable, element);\n",
              "          const docLink = document.createElement('div');\n",
              "          docLink.innerHTML = docLinkHtml;\n",
              "          element.appendChild(docLink);\n",
              "        }\n",
              "      </script>\n",
              "    </div>\n",
              "  </div>\n",
              "  "
            ],
            "text/plain": [
              "   Topic  Count                                             Name\n",
              "0      0     76                              0_مباري__مسابق_التي\n",
              "1      1     18           1_استضاف_اتحاد_داخل اضاف_اجتماع استضاف\n",
              "2     -1     13           -1_نهائي_اعتذار_رسمي نهائي_اعتذار رسمي\n",
              "3      2     10               2_دوري_نتمني_متبقي_دوري متبقي دوري\n",
              "4      3      9  3_كاميروني_افريقي_افريقيا_افريقي كاميرون افريقي"
            ]
          },
          "metadata": {},
          "execution_count": 118
        }
      ]
    },
    {
      "cell_type": "code",
      "source": [
        "topic_nr = freq.iloc[0][\"Topic\"] # select a frequent topic\n",
        "topic_modeln_gram.get_topic(topic_nr)"
      ],
      "metadata": {
        "colab": {
          "base_uri": "https://localhost:8080/"
        },
        "id": "CTHa3ZhSlgln",
        "outputId": "b5f55cb1-0704-4a09-edb7-2fde00753a40"
      },
      "execution_count": null,
      "outputs": [
        {
          "output_type": "execute_result",
          "data": {
            "text/plain": [
              "[('مباري', 0.058001550949822366),\n",
              " ('', 1e-05),\n",
              " ('مسابق', 0.04121389937811088),\n",
              " ('التي', 0.030944356349650592),\n",
              " ('علي', 0.030944356349650592),\n",
              " ('كاف', 0.030944356349650592),\n",
              " ('كورونا', 0.030944356349650592),\n",
              " ('لقا', 0.030944356349650592),\n",
              " ('نفس', 0.030944356349650592),\n",
              " ('مبارا', 0.030944356349650592)]"
            ]
          },
          "metadata": {},
          "execution_count": 120
        }
      ]
    },
    {
      "cell_type": "code",
      "source": [
        "bestTopic = []"
      ],
      "metadata": {
        "id": "RxOZcT2anNgV"
      },
      "execution_count": null,
      "outputs": []
    },
    {
      "cell_type": "code",
      "source": [
        "for index,scor in topic_modeln_gram.get_topic(topic_nr):\n",
        "  if index !=\"''\":\n",
        "     bestTopic.append(index)\n",
        "  print(index)\n",
        "  print(scor)"
      ],
      "metadata": {
        "colab": {
          "base_uri": "https://localhost:8080/"
        },
        "id": "uaTH1ajBnRkm",
        "outputId": "aef66513-aae2-48fa-e8d3-9c8f6d8f716a"
      },
      "execution_count": null,
      "outputs": [
        {
          "output_type": "stream",
          "name": "stdout",
          "text": [
            "مباري\n",
            "0.058001550949822366\n",
            "\n",
            "1e-05\n",
            "مسابق\n",
            "0.04121389937811088\n",
            "التي\n",
            "0.030944356349650592\n",
            "علي\n",
            "0.030944356349650592\n",
            "كاف\n",
            "0.030944356349650592\n",
            "كورونا\n",
            "0.030944356349650592\n",
            "لقا\n",
            "0.030944356349650592\n",
            "نفس\n",
            "0.030944356349650592\n",
            "مبارا\n",
            "0.030944356349650592\n"
          ]
        }
      ]
    },
    {
      "cell_type": "code",
      "source": [
        "bestTopic"
      ],
      "metadata": {
        "colab": {
          "base_uri": "https://localhost:8080/"
        },
        "id": "fmUdEh0Anak1",
        "outputId": "8f43d6ff-899d-4aa3-d82a-ade83a28fbba"
      },
      "execution_count": null,
      "outputs": [
        {
          "output_type": "execute_result",
          "data": {
            "text/plain": [
              "['مباري', '', 'مسابق', 'التي', 'علي', 'كاف', 'كورونا', 'لقا', 'نفس', 'مبارا']"
            ]
          },
          "metadata": {},
          "execution_count": 123
        }
      ]
    },
    {
      "cell_type": "markdown",
      "source": [
        "##generate the title using the model"
      ],
      "metadata": {
        "id": "hyRt32knzhaN"
      }
    },
    {
      "cell_type": "code",
      "source": [
        "def generate_text(seed_text,model, next_words = 5, max_sequence_len=max_sequence_len):\n",
        "  for _ in range(next_words):\n",
        "     token_list = tokenizer.texts_to_sequences([seed_text])[0]\n",
        "     token_list = pad_sequences([token_list], maxlen=max_sequence_len-1,  padding='pre')\n",
        "     predict_x=model.predict(token_list) \n",
        "     predicted=np.argmax(predict_x,axis=1)\n",
        " \n",
        "  output_word = \"\"\n",
        "  for word,index in tokenizer.word_index.items():\n",
        "     if index == predicted:\n",
        "         output_word = word\n",
        "         break\n",
        "  seed_text += \" \"+output_word\n",
        "  return seed_text.title()"
      ],
      "metadata": {
        "id": "_DuFKgLc7Dwl"
      },
      "execution_count": null,
      "outputs": []
    },
    {
      "cell_type": "code",
      "source": [
        "for x in words[0]:\n",
        "   print(generate_text(x,model3))"
      ],
      "metadata": {
        "colab": {
          "base_uri": "https://localhost:8080/"
        },
        "id": "U6iJLgHvfjHP",
        "outputId": "730ce862-f2b5-41c2-d881-d6f63eb77709"
      },
      "execution_count": null,
      "outputs": [
        {
          "output_type": "stream",
          "name": "stdout",
          "text": [
            "الي ''\n",
            "متسائل ''\n",
            "حسب ''\n",
            "مهني ''\n",
            "طرق ''\n",
            "راح ''\n"
          ]
        }
      ]
    },
    {
      "cell_type": "code",
      "source": [
        "for x in words[0]:\n",
        "   print(generate_text(x,model))"
      ],
      "metadata": {
        "colab": {
          "base_uri": "https://localhost:8080/"
        },
        "id": "S4DeUlXY-TLO",
        "outputId": "1e0260f6-c085-496a-f2f6-32ea6bd9d9bd"
      },
      "execution_count": null,
      "outputs": [
        {
          "output_type": "stream",
          "name": "stdout",
          "text": [
            "الي 'ال'\n",
            "متسائل 'ال'\n",
            "حسب 'ال'\n",
            "مهني 'ال'\n",
            "طرق 'ال'\n",
            "راح 'ال'\n"
          ]
        }
      ]
    },
    {
      "cell_type": "code",
      "source": [
        "#gru_model\n",
        "for x in words[0]:\n",
        "   print(generate_text(x,gru_model))"
      ],
      "metadata": {
        "colab": {
          "base_uri": "https://localhost:8080/"
        },
        "id": "j6Ls0R6I-Xpd",
        "outputId": "8948f953-c34d-47fd-9d27-01847b0a7227"
      },
      "execution_count": null,
      "outputs": [
        {
          "output_type": "stream",
          "name": "stdout",
          "text": [
            "الي 'ه'\n",
            "متسائل 'ه'\n",
            "حسب 'ه'\n",
            "مهني 'ه'\n",
            "طرق 'ه'\n",
            "راح 'ه'\n"
          ]
        }
      ]
    },
    {
      "cell_type": "code",
      "source": [
        "#modelAttention\n",
        "for x in words[0]:\n",
        "   print(generate_text(x,modelAttention))"
      ],
      "metadata": {
        "colab": {
          "base_uri": "https://localhost:8080/"
        },
        "id": "WJH-SuXv-mvQ",
        "outputId": "8ab97798-6589-4fe4-e925-9a51dc64d962"
      },
      "execution_count": null,
      "outputs": [
        {
          "output_type": "stream",
          "name": "stdout",
          "text": [
            "الي 'مغرب'\n",
            "متسائل 'مغرب'\n",
            "حسب 'مغرب'\n",
            "مهني 'مغرب'\n",
            "طرق 'مغرب'\n",
            "راح 'مغرب'\n"
          ]
        }
      ]
    },
    {
      "cell_type": "markdown",
      "source": [
        "##generate the title using the aragpt2 model"
      ],
      "metadata": {
        "id": "dM0gy6TUzqcj"
      }
    },
    {
      "cell_type": "code",
      "source": [
        "MODEL_NAME='aubmindlab/aragpt2-base'\n",
        "arabert_prep1 = ArabertPreprocessor(model_name=MODEL_NAME)\n",
        "\n",
        "model1 = GPT2LMHeadModel.from_pretrained(MODEL_NAME)\n",
        "tokenizer1 = GPT2TokenizerFast.from_pretrained(MODEL_NAME)\n",
        "generation_pipeline = pipeline(\"text-generation\",model=model1,tokenizer=tokenizer1)"
      ],
      "metadata": {
        "id": "h5dX3Ntl9iu_",
        "colab": {
          "base_uri": "https://localhost:8080/",
          "height": 177,
          "referenced_widgets": [
            "f7566c7750cb4fca8a01ead842b702bf",
            "d004a39c55af43a6b211cfccf34a8940",
            "f02c5e10cb0449908cbb28a6533c02f2",
            "94851f3547f34e2ead993b9f2ccc6bb0",
            "bc4333ed685847e58938a7c10369c60e",
            "2073d629a62949b79d7839c32d897cc5",
            "e638b8bec0d84e06a001b6cc7dddfaec",
            "8d435ea8d24f41d88c972d3b3ba2dfe9",
            "ac037d51d2254a89aba068d4b9947842",
            "26e86c9aa4694bbfbda726d002bd5518",
            "0112d6015a014613ad2abe9ed02b58d5",
            "ef2b8ef12c004caa8aa25452f7c2e3c2",
            "e7b71d9eb1334e549eb815b61cb6809e",
            "eda90753d014483c86ebc4fd1fdc0160",
            "b7b48162d1c6472f8376fdd023ca8597",
            "41de76fc102e46b386db05753175f71a",
            "4816350b04bb42b39297e7660ac6d639",
            "eb0039185642440a806f4849e71b11d1",
            "13bb5c8b815f40dfae92ab4123f374e4",
            "c537b74868dd4b3a8e7825baaf913574",
            "9dbd577dcbb44587b6440a82b6697aa3",
            "dea2bcf17ba648d1b07aac6f86980164",
            "aecafce92ddb4473ac149c0ddbdcf66a",
            "bc452e35dab24a8191b37e80bd49f81c",
            "b84492fc4de64dc899cc16a391b54689",
            "a464b66cb43a45bd9c9835cea2f2fd97",
            "cddef9c4d0d8434fbc5059dff14f711c",
            "e5d507bbf56e4fba97d8741a58cada1b",
            "8e260240db034ec084c54902007b4135",
            "9d56ae12ceae4ebcad2e0955cf00be0c",
            "0934f6b2f5674d519584d0b4bf5e50ec",
            "ee3b289c1f2f49eba897ce32f5bd7996",
            "325f9105ef614eccb1fd70281d35f99c",
            "4215dd9258314af1b0d9602981d2f297",
            "c7833ca8ab0b4d828b94f5cbe2f581ad",
            "1086ecab58ac483d8f72be5122f4076e",
            "b1cd16afc1c346f18f9d3efeebd07908",
            "72f25a0faebb4541a126afbb15cc6778",
            "3d6fbfebcf15496da2e0e562c4854a73",
            "77b20fd46fb34fd685b28a01a17da120",
            "72d3ba26bd6d419cb61a551226ae91e8",
            "0eebdfd190ea4ae39f14e51777d83c0f",
            "f04dba8dc75543b685469aa843588c92",
            "e8bc05d89c37475d9a6b793c89932afb",
            "60671cfe369e40fc930b594e36730a61",
            "05d18e16a8f64359b80d94ba07ba2d20",
            "9e84b6156a0d4416b28fd0fc04c1bbf9",
            "376f9c697a76468d97dd3bc501618680",
            "6aaf5dfbd13944718e778e2d56b48d6c",
            "c5e8d77301414fed9496ab05244f7b17",
            "b629e4d385184aebb05319fa3830fe7a",
            "3e57a0147fe44d36bd6ffb7398aee372",
            "e51e804c8e9e4603acbd44d3d023e2d0",
            "3667062970704926957cef94f5f8c92f",
            "0e08b035f1084930a52dcf554ccc8ab4"
          ]
        },
        "outputId": "365dafab-71de-491b-ba7c-00cf958b7a40"
      },
      "execution_count": null,
      "outputs": [
        {
          "output_type": "display_data",
          "data": {
            "application/vnd.jupyter.widget-view+json": {
              "model_id": "f7566c7750cb4fca8a01ead842b702bf",
              "version_minor": 0,
              "version_major": 2
            },
            "text/plain": [
              "Downloading:   0%|          | 0.00/843 [00:00<?, ?B/s]"
            ]
          },
          "metadata": {}
        },
        {
          "output_type": "display_data",
          "data": {
            "application/vnd.jupyter.widget-view+json": {
              "model_id": "ef2b8ef12c004caa8aa25452f7c2e3c2",
              "version_minor": 0,
              "version_major": 2
            },
            "text/plain": [
              "Downloading:   0%|          | 0.00/527M [00:00<?, ?B/s]"
            ]
          },
          "metadata": {}
        },
        {
          "output_type": "display_data",
          "data": {
            "application/vnd.jupyter.widget-view+json": {
              "model_id": "aecafce92ddb4473ac149c0ddbdcf66a",
              "version_minor": 0,
              "version_major": 2
            },
            "text/plain": [
              "Downloading:   0%|          | 0.00/1.85M [00:00<?, ?B/s]"
            ]
          },
          "metadata": {}
        },
        {
          "output_type": "display_data",
          "data": {
            "application/vnd.jupyter.widget-view+json": {
              "model_id": "4215dd9258314af1b0d9602981d2f297",
              "version_minor": 0,
              "version_major": 2
            },
            "text/plain": [
              "Downloading:   0%|          | 0.00/1.43M [00:00<?, ?B/s]"
            ]
          },
          "metadata": {}
        },
        {
          "output_type": "display_data",
          "data": {
            "application/vnd.jupyter.widget-view+json": {
              "model_id": "60671cfe369e40fc930b594e36730a61",
              "version_minor": 0,
              "version_major": 2
            },
            "text/plain": [
              "Downloading:   0%|          | 0.00/4.31M [00:00<?, ?B/s]"
            ]
          },
          "metadata": {}
        }
      ]
    },
    {
      "cell_type": "code",
      "source": [
        "len(bestTopic)"
      ],
      "metadata": {
        "colab": {
          "base_uri": "https://localhost:8080/"
        },
        "id": "Q4joGG49oPH9",
        "outputId": "62124e21-d578-4b64-a9a8-cf501e2dbe54"
      },
      "execution_count": null,
      "outputs": [
        {
          "output_type": "execute_result",
          "data": {
            "text/plain": [
              "10"
            ]
          },
          "metadata": {},
          "execution_count": 129
        }
      ]
    },
    {
      "cell_type": "code",
      "source": [
        "finalList =[]\n",
        "finalList.append(test['story'][5])"
      ],
      "metadata": {
        "id": "RRVgUOwZn-tL"
      },
      "execution_count": null,
      "outputs": []
    },
    {
      "cell_type": "code",
      "source": [
        "finalList.append(generation_pipeline(bestTopic[0], pad_token_id=tokenizer1.eos_token_id,num_beams=10,max_length=15,top_p=0.9,repetition_penalty = 3.0,no_repeat_ngram_size = 3)[0]['generated_text'])"
      ],
      "metadata": {
        "id": "NekD0qwMlK01"
      },
      "execution_count": null,
      "outputs": []
    },
    {
      "cell_type": "code",
      "source": [
        "finalList.append(generation_pipeline(bestTopic[1], pad_token_id=tokenizer1.eos_token_id,num_beams=10,max_length=15,top_p=0.9,repetition_penalty = 3.0,no_repeat_ngram_size = 3)[0]['generated_text'])"
      ],
      "metadata": {
        "id": "ZCHdEW5n7mdw"
      },
      "execution_count": null,
      "outputs": []
    },
    {
      "cell_type": "code",
      "source": [
        "finalList.append(generation_pipeline(bestTopic[2], pad_token_id=tokenizer1.eos_token_id,num_beams=10,max_length=15,top_p=0.9,repetition_penalty = 3.0,no_repeat_ngram_size = 3)[0]['generated_text'])"
      ],
      "metadata": {
        "id": "zl41GpOMobuZ"
      },
      "execution_count": null,
      "outputs": []
    },
    {
      "cell_type": "code",
      "source": [
        "finalList.append(generation_pipeline(bestTopic[3], pad_token_id=tokenizer1.eos_token_id,num_beams=10,max_length=15,top_p=0.9,repetition_penalty = 3.0,no_repeat_ngram_size = 3)[0]['generated_text'])"
      ],
      "metadata": {
        "id": "UffdfIEIofdE"
      },
      "execution_count": null,
      "outputs": []
    },
    {
      "cell_type": "code",
      "source": [
        "finalList.append(generation_pipeline(bestTopic[4], pad_token_id=tokenizer1.eos_token_id,num_beams=10,max_length=15,top_p=0.9,repetition_penalty = 3.0,no_repeat_ngram_size = 3)[0]['generated_text'])"
      ],
      "metadata": {
        "id": "86Ect8wvoiUI"
      },
      "execution_count": null,
      "outputs": []
    },
    {
      "cell_type": "code",
      "source": [
        "finalList"
      ],
      "metadata": {
        "colab": {
          "base_uri": "https://localhost:8080/"
        },
        "id": "5a83GjTJosoK",
        "outputId": "6728ae46-6eed-4cd2-c22e-e24021e36a4a"
      },
      "execution_count": null,
      "outputs": [
        {
          "output_type": "execute_result",
          "data": {
            "text/plain": [
              "['أعلن الاتحاد الكاميروني لكرة القدم، اعتذار الحكومة الكاميرونية رسميا، للكونفدرالية الإفريقية للعبة \"كاف\"، عن احتضان مباريات \"المربع الذهبي\" ونهائي مسابقة دوري أبطال إفريقيا، بسبب تفشي وباء \"كورونا\" في البلاد.وقال سايدو مبومبو، رئيس الاتحاد الكاميروني، خلال مؤتمر صحفي عُقد اليوم الاثنين: \"الحكومة تعتذر عن استضافة المباريات المتبقية من مسابقة دوري أبطال إفريقيا، بسبب انتشار فيروس كورونا، وعدم استقرار الوضع الصحي داخل البلاد\".وأضاف المتحدث نفسه: \"نتمنى من الكونفدرالية الإفريقية أن تقبل اعتذارنا الرسمي عن استضافة مباريات نصف نهائي ونهائي دوري الأبطال، ونتمنى التوفيق للمسابقة والقارة السمراء\".ومن المنتظر أن يُواجه الرجاء والوداد الرياضيان الزمالك والأهلي المصريين على التوالي، في مباراة نصف النهائي التي ستُلعب من لقاء واحد بنظام خروج المغلوب، ومباراة النهاية التي ستلعب على شكل لقاء فاصل.وبعد اعتذار الكاميرون عن استضافة المباريات المتبقية، تجد الكونفدرالية الإفريقية نفسها في موقف حرج، إذ من المتوقع أن تعقد لجنة الطوارئ التابعة للـ\"كاف\" اجتماعا عاجلا، للبحث عن حل بديل وإيجاد بلد آخر لاستضافة المباريات.',\n",
              " 'مباري : لا بد من وضع حد لهذه المهاترات الإعلامية التي',\n",
              " 'أنت لم تسجل الدخول بعد أو أنك لا تملك صلاحية لدخول لهذه الصفحة',\n",
              " 'مسابقتي المفضلة هي : [رابط] و[رابط].و',\n",
              " 'التي هي في الحقيقة من صنع الإنسان.فإذا كان الله قد خلق',\n",
              " 'علي ( الكاتب : - آخر مشاركة : - مشاركات : 5 - المشاهدات :']"
            ]
          },
          "metadata": {},
          "execution_count": 145
        }
      ]
    },
    {
      "cell_type": "code",
      "source": [
        "model = SentenceTransformer('bert-base-nli-mean-tokens')\n",
        "#Encoding:\n",
        "sen_embeddings = model.encode(finalList)\n",
        "sen_embeddings.shape"
      ],
      "metadata": {
        "colab": {
          "base_uri": "https://localhost:8080/"
        },
        "id": "vggkCbaqoxBV",
        "outputId": "071ae1ae-542f-4fa6-ad74-a3c02f25144a"
      },
      "execution_count": null,
      "outputs": [
        {
          "output_type": "execute_result",
          "data": {
            "text/plain": [
              "(6, 768)"
            ]
          },
          "metadata": {},
          "execution_count": 146
        }
      ]
    },
    {
      "cell_type": "code",
      "source": [
        "similarity =[]"
      ],
      "metadata": {
        "id": "fN12_ZcSruv4"
      },
      "execution_count": null,
      "outputs": []
    },
    {
      "cell_type": "code",
      "source": [
        "from sklearn.metrics.pairwise import cosine_similarity\n",
        "#let's calculate cosine similarity for sentence 0:\n",
        "similarity =cosine_similarity(\n",
        "    [sen_embeddings[0]],\n",
        "    sen_embeddings[1:]\n",
        ")"
      ],
      "metadata": {
        "id": "TAWqVtu5o3kK"
      },
      "execution_count": null,
      "outputs": []
    },
    {
      "cell_type": "code",
      "source": [
        "similarity"
      ],
      "metadata": {
        "colab": {
          "base_uri": "https://localhost:8080/"
        },
        "id": "pdSrZApGsJCP",
        "outputId": "40431cfa-5b5a-42d8-b327-e718dfa02a69"
      },
      "execution_count": null,
      "outputs": [
        {
          "output_type": "execute_result",
          "data": {
            "text/plain": [
              "array([[0.9486864 , 0.9384899 , 0.90473914, 0.93295777, 0.8621174 ]],\n",
              "      dtype=float32)"
            ]
          },
          "metadata": {},
          "execution_count": 177
        }
      ]
    },
    {
      "cell_type": "code",
      "source": [
        "i =0 \n",
        "for b in finalList:\n",
        "  i = i+1\n",
        "  if(i ==1):\n",
        "    continue\n",
        "  print(b)\n",
        "  "
      ],
      "metadata": {
        "colab": {
          "base_uri": "https://localhost:8080/"
        },
        "id": "tUv139ZHtJHn",
        "outputId": "d6655215-fc8e-42d4-e8f5-6ea78ab711b7"
      },
      "execution_count": null,
      "outputs": [
        {
          "output_type": "stream",
          "name": "stdout",
          "text": [
            "مباري : لا بد من وضع حد لهذه المهاترات الإعلامية التي\n",
            "أنت لم تسجل الدخول بعد أو أنك لا تملك صلاحية لدخول لهذه الصفحة\n",
            "مسابقتي المفضلة هي : [رابط] و[رابط].و\n",
            "التي هي في الحقيقة من صنع الإنسان.فإذا كان الله قد خلق\n",
            "علي ( الكاتب : - آخر مشاركة : - مشاركات : 5 - المشاهدات :\n"
          ]
        }
      ]
    },
    {
      "cell_type": "code",
      "source": [
        "for c in similarity:\n",
        "  print(c)"
      ],
      "metadata": {
        "colab": {
          "base_uri": "https://localhost:8080/"
        },
        "id": "kYStZ4farklm",
        "outputId": "38669614-187a-4807-c88a-2ca01ab9d340"
      },
      "execution_count": null,
      "outputs": [
        {
          "output_type": "stream",
          "name": "stdout",
          "text": [
            "[0.9486864  0.9384899  0.90473914 0.93295777 0.8621174 ]\n"
          ]
        }
      ]
    },
    {
      "cell_type": "code",
      "source": [
        "X_test"
      ],
      "metadata": {
        "colab": {
          "base_uri": "https://localhost:8080/"
        },
        "id": "7QMj_0Y5x_BE",
        "outputId": "45fe5612-3c9f-4190-896c-73bdeeff870b"
      },
      "execution_count": null,
      "outputs": [
        {
          "output_type": "execute_result",
          "data": {
            "text/plain": [
              "array([['آيت الطالب يميط اللثام عن أسرار \"صفقات كورونا\" بوزارة الصحة'],\n",
              "       ['غطاسو الوقاية ينتشلون جثة غريق من سد الوحدة'],\n",
              "       ['الكاميرون تعتذر عن احتضان مباريات \"أبطال إفريقيا\"'],\n",
              "       ...,\n",
              "       ['لسعات عقارب ترسل طفلين إلى الإنعاش بسطات'],\n",
              "       ['إطلاق اسم الرامي على مؤسسة تعليمية بتطوان'],\n",
              "       ['لانس يراهن على خبرة الكوثري في الموسم المقبل\\u200e']],\n",
              "      dtype=object)"
            ]
          },
          "metadata": {},
          "execution_count": 132
        }
      ]
    },
    {
      "cell_type": "code",
      "source": [
        "from random import randint\n",
        "encoded = X_test[randint(0,len(X_test))]\n",
        "seed_text1 = tokenizer.sequences_to_texts([encoded.tolist()])[0].split()\n",
        "print(seed_text1)"
      ],
      "metadata": {
        "id": "pOSx-UoWnc1I",
        "colab": {
          "base_uri": "https://localhost:8080/"
        },
        "outputId": "2dd70c09-94da-481b-d594-357aa43f33d6"
      },
      "execution_count": null,
      "outputs": [
        {
          "output_type": "stream",
          "name": "stdout",
          "text": [
            "[]\n"
          ]
        }
      ]
    },
    {
      "cell_type": "code",
      "source": [
        "np.array(encoded).reshape(1, -1)"
      ],
      "metadata": {
        "colab": {
          "base_uri": "https://localhost:8080/"
        },
        "id": "2kAbKX91uQ79",
        "outputId": "1e0ae454-01ed-4a82-be21-d5043abf2ea6"
      },
      "execution_count": null,
      "outputs": [
        {
          "output_type": "execute_result",
          "data": {
            "text/plain": [
              "array([['الزفزافي يخوض إضرابا لتحسين ظروف الاعتقال']], dtype=object)"
            ]
          },
          "metadata": {},
          "execution_count": 139
        }
      ]
    },
    {
      "cell_type": "markdown",
      "source": [
        "##print the table of all model"
      ],
      "metadata": {
        "id": "nSguEJ3p8X7O"
      }
    },
    {
      "cell_type": "code",
      "source": [
        "import pandas as pd\n",
        "\n",
        "df = pd.DataFrame(model_comparison_table)\n",
        "df"
      ],
      "metadata": {
        "id": "Z10Tv21SQvJl",
        "colab": {
          "base_uri": "https://localhost:8080/",
          "height": 206
        },
        "outputId": "eea227c8-e2c4-49d6-fc30-4d03732d34c5"
      },
      "execution_count": null,
      "outputs": [
        {
          "output_type": "execute_result",
          "data": {
            "text/html": [
              "\n",
              "  <div id=\"df-f3e4fac4-daa7-4701-a83e-92757c81bc38\">\n",
              "    <div class=\"colab-df-container\">\n",
              "      <div>\n",
              "<style scoped>\n",
              "    .dataframe tbody tr th:only-of-type {\n",
              "        vertical-align: middle;\n",
              "    }\n",
              "\n",
              "    .dataframe tbody tr th {\n",
              "        vertical-align: top;\n",
              "    }\n",
              "\n",
              "    .dataframe thead th {\n",
              "        text-align: right;\n",
              "    }\n",
              "</style>\n",
              "<table border=\"1\" class=\"dataframe\">\n",
              "  <thead>\n",
              "    <tr style=\"text-align: right;\">\n",
              "      <th></th>\n",
              "      <th>model_name</th>\n",
              "      <th>preprocessing_methods</th>\n",
              "      <th>validate accuracy</th>\n",
              "    </tr>\n",
              "  </thead>\n",
              "  <tbody>\n",
              "    <tr>\n",
              "      <th>0</th>\n",
              "      <td>model with flatten and one hidden layer</td>\n",
              "      <td>with some proccess function</td>\n",
              "      <td>0.3050</td>\n",
              "    </tr>\n",
              "    <tr>\n",
              "      <th>1</th>\n",
              "      <td>model with Bidirectional lstm</td>\n",
              "      <td>with some proccess function</td>\n",
              "      <td>0.2706</td>\n",
              "    </tr>\n",
              "    <tr>\n",
              "      <th>2</th>\n",
              "      <td>model with lstm</td>\n",
              "      <td>with some proccess function</td>\n",
              "      <td>0.3188</td>\n",
              "    </tr>\n",
              "    <tr>\n",
              "      <th>3</th>\n",
              "      <td>model with GRU</td>\n",
              "      <td>with some proccess function</td>\n",
              "      <td>0.2623</td>\n",
              "    </tr>\n",
              "    <tr>\n",
              "      <th>4</th>\n",
              "      <td>model with Attention and lstm</td>\n",
              "      <td>with some proccess function</td>\n",
              "      <td>0.2955</td>\n",
              "    </tr>\n",
              "  </tbody>\n",
              "</table>\n",
              "</div>\n",
              "      <button class=\"colab-df-convert\" onclick=\"convertToInteractive('df-f3e4fac4-daa7-4701-a83e-92757c81bc38')\"\n",
              "              title=\"Convert this dataframe to an interactive table.\"\n",
              "              style=\"display:none;\">\n",
              "        \n",
              "  <svg xmlns=\"http://www.w3.org/2000/svg\" height=\"24px\"viewBox=\"0 0 24 24\"\n",
              "       width=\"24px\">\n",
              "    <path d=\"M0 0h24v24H0V0z\" fill=\"none\"/>\n",
              "    <path d=\"M18.56 5.44l.94 2.06.94-2.06 2.06-.94-2.06-.94-.94-2.06-.94 2.06-2.06.94zm-11 1L8.5 8.5l.94-2.06 2.06-.94-2.06-.94L8.5 2.5l-.94 2.06-2.06.94zm10 10l.94 2.06.94-2.06 2.06-.94-2.06-.94-.94-2.06-.94 2.06-2.06.94z\"/><path d=\"M17.41 7.96l-1.37-1.37c-.4-.4-.92-.59-1.43-.59-.52 0-1.04.2-1.43.59L10.3 9.45l-7.72 7.72c-.78.78-.78 2.05 0 2.83L4 21.41c.39.39.9.59 1.41.59.51 0 1.02-.2 1.41-.59l7.78-7.78 2.81-2.81c.8-.78.8-2.07 0-2.86zM5.41 20L4 18.59l7.72-7.72 1.47 1.35L5.41 20z\"/>\n",
              "  </svg>\n",
              "      </button>\n",
              "      \n",
              "  <style>\n",
              "    .colab-df-container {\n",
              "      display:flex;\n",
              "      flex-wrap:wrap;\n",
              "      gap: 12px;\n",
              "    }\n",
              "\n",
              "    .colab-df-convert {\n",
              "      background-color: #E8F0FE;\n",
              "      border: none;\n",
              "      border-radius: 50%;\n",
              "      cursor: pointer;\n",
              "      display: none;\n",
              "      fill: #1967D2;\n",
              "      height: 32px;\n",
              "      padding: 0 0 0 0;\n",
              "      width: 32px;\n",
              "    }\n",
              "\n",
              "    .colab-df-convert:hover {\n",
              "      background-color: #E2EBFA;\n",
              "      box-shadow: 0px 1px 2px rgba(60, 64, 67, 0.3), 0px 1px 3px 1px rgba(60, 64, 67, 0.15);\n",
              "      fill: #174EA6;\n",
              "    }\n",
              "\n",
              "    [theme=dark] .colab-df-convert {\n",
              "      background-color: #3B4455;\n",
              "      fill: #D2E3FC;\n",
              "    }\n",
              "\n",
              "    [theme=dark] .colab-df-convert:hover {\n",
              "      background-color: #434B5C;\n",
              "      box-shadow: 0px 1px 3px 1px rgba(0, 0, 0, 0.15);\n",
              "      filter: drop-shadow(0px 1px 2px rgba(0, 0, 0, 0.3));\n",
              "      fill: #FFFFFF;\n",
              "    }\n",
              "  </style>\n",
              "\n",
              "      <script>\n",
              "        const buttonEl =\n",
              "          document.querySelector('#df-f3e4fac4-daa7-4701-a83e-92757c81bc38 button.colab-df-convert');\n",
              "        buttonEl.style.display =\n",
              "          google.colab.kernel.accessAllowed ? 'block' : 'none';\n",
              "\n",
              "        async function convertToInteractive(key) {\n",
              "          const element = document.querySelector('#df-f3e4fac4-daa7-4701-a83e-92757c81bc38');\n",
              "          const dataTable =\n",
              "            await google.colab.kernel.invokeFunction('convertToInteractive',\n",
              "                                                     [key], {});\n",
              "          if (!dataTable) return;\n",
              "\n",
              "          const docLinkHtml = 'Like what you see? Visit the ' +\n",
              "            '<a target=\"_blank\" href=https://colab.research.google.com/notebooks/data_table.ipynb>data table notebook</a>'\n",
              "            + ' to learn more about interactive tables.';\n",
              "          element.innerHTML = '';\n",
              "          dataTable['output_type'] = 'display_data';\n",
              "          await google.colab.output.renderOutput(dataTable, element);\n",
              "          const docLink = document.createElement('div');\n",
              "          docLink.innerHTML = docLinkHtml;\n",
              "          element.appendChild(docLink);\n",
              "        }\n",
              "      </script>\n",
              "    </div>\n",
              "  </div>\n",
              "  "
            ],
            "text/plain": [
              "                                model_name  ... validate accuracy\n",
              "0  model with flatten and one hidden layer  ...            0.3050\n",
              "1            model with Bidirectional lstm  ...            0.2706\n",
              "2                          model with lstm  ...            0.3188\n",
              "3                           model with GRU  ...            0.2623\n",
              "4            model with Attention and lstm  ...            0.2955\n",
              "\n",
              "[5 rows x 3 columns]"
            ]
          },
          "metadata": {},
          "execution_count": 82
        }
      ]
    },
    {
      "cell_type": "code",
      "source": [
        ""
      ],
      "metadata": {
        "id": "iKEtOioOj6wu"
      },
      "execution_count": null,
      "outputs": []
    }
  ],
  "metadata": {
    "colab": {
      "collapsed_sections": [],
      "machine_shape": "hm",
      "name": "TitleGenerationArabicTitle .ipynb",
      "provenance": [],
      "toc_visible": true
    },
    "kernelspec": {
      "display_name": "Python 3",
      "name": "python3"
    },
    "widgets": {
      "application/vnd.jupyter.widget-state+json": {
        "181df6a295e944e4ba006d6d9add370e": {
          "model_module": "@jupyter-widgets/controls",
          "model_name": "HBoxModel",
          "model_module_version": "1.5.0",
          "state": {
            "_view_name": "HBoxView",
            "_dom_classes": [],
            "_model_name": "HBoxModel",
            "_view_module": "@jupyter-widgets/controls",
            "_model_module_version": "1.5.0",
            "_view_count": null,
            "_view_module_version": "1.5.0",
            "box_style": "",
            "layout": "IPY_MODEL_90bcfcd166544f2c9c21cc1a485726be",
            "_model_module": "@jupyter-widgets/controls",
            "children": [
              "IPY_MODEL_b90df18d336141889c61f7753dd30519",
              "IPY_MODEL_8252438e83c643a69923aca06a1af5ee",
              "IPY_MODEL_97d40d1b2b714e68becab46d98e19977"
            ]
          }
        },
        "90bcfcd166544f2c9c21cc1a485726be": {
          "model_module": "@jupyter-widgets/base",
          "model_name": "LayoutModel",
          "model_module_version": "1.2.0",
          "state": {
            "_view_name": "LayoutView",
            "grid_template_rows": null,
            "right": null,
            "justify_content": null,
            "_view_module": "@jupyter-widgets/base",
            "overflow": null,
            "_model_module_version": "1.2.0",
            "_view_count": null,
            "flex_flow": null,
            "width": null,
            "min_width": null,
            "border": null,
            "align_items": null,
            "bottom": null,
            "_model_module": "@jupyter-widgets/base",
            "top": null,
            "grid_column": null,
            "overflow_y": null,
            "overflow_x": null,
            "grid_auto_flow": null,
            "grid_area": null,
            "grid_template_columns": null,
            "flex": null,
            "_model_name": "LayoutModel",
            "justify_items": null,
            "grid_row": null,
            "max_height": null,
            "align_content": null,
            "visibility": null,
            "align_self": null,
            "height": null,
            "min_height": null,
            "padding": null,
            "grid_auto_rows": null,
            "grid_gap": null,
            "max_width": null,
            "order": null,
            "_view_module_version": "1.2.0",
            "grid_template_areas": null,
            "object_position": null,
            "object_fit": null,
            "grid_auto_columns": null,
            "margin": null,
            "display": null,
            "left": null
          }
        },
        "b90df18d336141889c61f7753dd30519": {
          "model_module": "@jupyter-widgets/controls",
          "model_name": "HTMLModel",
          "model_module_version": "1.5.0",
          "state": {
            "_view_name": "HTMLView",
            "style": "IPY_MODEL_f7174408563045beb444710baeb95f2e",
            "_dom_classes": [],
            "description": "",
            "_model_name": "HTMLModel",
            "placeholder": "​",
            "_view_module": "@jupyter-widgets/controls",
            "_model_module_version": "1.5.0",
            "value": "Batches: 100%",
            "_view_count": null,
            "_view_module_version": "1.5.0",
            "description_tooltip": null,
            "_model_module": "@jupyter-widgets/controls",
            "layout": "IPY_MODEL_9cf3d89ae7fb42aab3ba65dab42b1796"
          }
        },
        "8252438e83c643a69923aca06a1af5ee": {
          "model_module": "@jupyter-widgets/controls",
          "model_name": "FloatProgressModel",
          "model_module_version": "1.5.0",
          "state": {
            "_view_name": "ProgressView",
            "style": "IPY_MODEL_33e717a989184a8cb195954164cf1bdd",
            "_dom_classes": [],
            "description": "",
            "_model_name": "FloatProgressModel",
            "bar_style": "success",
            "max": 5,
            "_view_module": "@jupyter-widgets/controls",
            "_model_module_version": "1.5.0",
            "value": 5,
            "_view_count": null,
            "_view_module_version": "1.5.0",
            "orientation": "horizontal",
            "min": 0,
            "description_tooltip": null,
            "_model_module": "@jupyter-widgets/controls",
            "layout": "IPY_MODEL_3d932b0f116948608ba9508b778c756e"
          }
        },
        "97d40d1b2b714e68becab46d98e19977": {
          "model_module": "@jupyter-widgets/controls",
          "model_name": "HTMLModel",
          "model_module_version": "1.5.0",
          "state": {
            "_view_name": "HTMLView",
            "style": "IPY_MODEL_5603a61f7f8e4e8a9f4cd3d4ba2be9d7",
            "_dom_classes": [],
            "description": "",
            "_model_name": "HTMLModel",
            "placeholder": "​",
            "_view_module": "@jupyter-widgets/controls",
            "_model_module_version": "1.5.0",
            "value": " 5/5 [00:01&lt;00:00,  3.34it/s]",
            "_view_count": null,
            "_view_module_version": "1.5.0",
            "description_tooltip": null,
            "_model_module": "@jupyter-widgets/controls",
            "layout": "IPY_MODEL_2bbaf3e661c5460bb208ccca4a23b3d1"
          }
        },
        "f7174408563045beb444710baeb95f2e": {
          "model_module": "@jupyter-widgets/controls",
          "model_name": "DescriptionStyleModel",
          "model_module_version": "1.5.0",
          "state": {
            "_view_name": "StyleView",
            "_model_name": "DescriptionStyleModel",
            "description_width": "",
            "_view_module": "@jupyter-widgets/base",
            "_model_module_version": "1.5.0",
            "_view_count": null,
            "_view_module_version": "1.2.0",
            "_model_module": "@jupyter-widgets/controls"
          }
        },
        "9cf3d89ae7fb42aab3ba65dab42b1796": {
          "model_module": "@jupyter-widgets/base",
          "model_name": "LayoutModel",
          "model_module_version": "1.2.0",
          "state": {
            "_view_name": "LayoutView",
            "grid_template_rows": null,
            "right": null,
            "justify_content": null,
            "_view_module": "@jupyter-widgets/base",
            "overflow": null,
            "_model_module_version": "1.2.0",
            "_view_count": null,
            "flex_flow": null,
            "width": null,
            "min_width": null,
            "border": null,
            "align_items": null,
            "bottom": null,
            "_model_module": "@jupyter-widgets/base",
            "top": null,
            "grid_column": null,
            "overflow_y": null,
            "overflow_x": null,
            "grid_auto_flow": null,
            "grid_area": null,
            "grid_template_columns": null,
            "flex": null,
            "_model_name": "LayoutModel",
            "justify_items": null,
            "grid_row": null,
            "max_height": null,
            "align_content": null,
            "visibility": null,
            "align_self": null,
            "height": null,
            "min_height": null,
            "padding": null,
            "grid_auto_rows": null,
            "grid_gap": null,
            "max_width": null,
            "order": null,
            "_view_module_version": "1.2.0",
            "grid_template_areas": null,
            "object_position": null,
            "object_fit": null,
            "grid_auto_columns": null,
            "margin": null,
            "display": null,
            "left": null
          }
        },
        "33e717a989184a8cb195954164cf1bdd": {
          "model_module": "@jupyter-widgets/controls",
          "model_name": "ProgressStyleModel",
          "model_module_version": "1.5.0",
          "state": {
            "_view_name": "StyleView",
            "_model_name": "ProgressStyleModel",
            "description_width": "",
            "_view_module": "@jupyter-widgets/base",
            "_model_module_version": "1.5.0",
            "_view_count": null,
            "_view_module_version": "1.2.0",
            "bar_color": null,
            "_model_module": "@jupyter-widgets/controls"
          }
        },
        "3d932b0f116948608ba9508b778c756e": {
          "model_module": "@jupyter-widgets/base",
          "model_name": "LayoutModel",
          "model_module_version": "1.2.0",
          "state": {
            "_view_name": "LayoutView",
            "grid_template_rows": null,
            "right": null,
            "justify_content": null,
            "_view_module": "@jupyter-widgets/base",
            "overflow": null,
            "_model_module_version": "1.2.0",
            "_view_count": null,
            "flex_flow": null,
            "width": null,
            "min_width": null,
            "border": null,
            "align_items": null,
            "bottom": null,
            "_model_module": "@jupyter-widgets/base",
            "top": null,
            "grid_column": null,
            "overflow_y": null,
            "overflow_x": null,
            "grid_auto_flow": null,
            "grid_area": null,
            "grid_template_columns": null,
            "flex": null,
            "_model_name": "LayoutModel",
            "justify_items": null,
            "grid_row": null,
            "max_height": null,
            "align_content": null,
            "visibility": null,
            "align_self": null,
            "height": null,
            "min_height": null,
            "padding": null,
            "grid_auto_rows": null,
            "grid_gap": null,
            "max_width": null,
            "order": null,
            "_view_module_version": "1.2.0",
            "grid_template_areas": null,
            "object_position": null,
            "object_fit": null,
            "grid_auto_columns": null,
            "margin": null,
            "display": null,
            "left": null
          }
        },
        "5603a61f7f8e4e8a9f4cd3d4ba2be9d7": {
          "model_module": "@jupyter-widgets/controls",
          "model_name": "DescriptionStyleModel",
          "model_module_version": "1.5.0",
          "state": {
            "_view_name": "StyleView",
            "_model_name": "DescriptionStyleModel",
            "description_width": "",
            "_view_module": "@jupyter-widgets/base",
            "_model_module_version": "1.5.0",
            "_view_count": null,
            "_view_module_version": "1.2.0",
            "_model_module": "@jupyter-widgets/controls"
          }
        },
        "2bbaf3e661c5460bb208ccca4a23b3d1": {
          "model_module": "@jupyter-widgets/base",
          "model_name": "LayoutModel",
          "model_module_version": "1.2.0",
          "state": {
            "_view_name": "LayoutView",
            "grid_template_rows": null,
            "right": null,
            "justify_content": null,
            "_view_module": "@jupyter-widgets/base",
            "overflow": null,
            "_model_module_version": "1.2.0",
            "_view_count": null,
            "flex_flow": null,
            "width": null,
            "min_width": null,
            "border": null,
            "align_items": null,
            "bottom": null,
            "_model_module": "@jupyter-widgets/base",
            "top": null,
            "grid_column": null,
            "overflow_y": null,
            "overflow_x": null,
            "grid_auto_flow": null,
            "grid_area": null,
            "grid_template_columns": null,
            "flex": null,
            "_model_name": "LayoutModel",
            "justify_items": null,
            "grid_row": null,
            "max_height": null,
            "align_content": null,
            "visibility": null,
            "align_self": null,
            "height": null,
            "min_height": null,
            "padding": null,
            "grid_auto_rows": null,
            "grid_gap": null,
            "max_width": null,
            "order": null,
            "_view_module_version": "1.2.0",
            "grid_template_areas": null,
            "object_position": null,
            "object_fit": null,
            "grid_auto_columns": null,
            "margin": null,
            "display": null,
            "left": null
          }
        },
        "f7566c7750cb4fca8a01ead842b702bf": {
          "model_module": "@jupyter-widgets/controls",
          "model_name": "HBoxModel",
          "model_module_version": "1.5.0",
          "state": {
            "_view_name": "HBoxView",
            "_dom_classes": [],
            "_model_name": "HBoxModel",
            "_view_module": "@jupyter-widgets/controls",
            "_model_module_version": "1.5.0",
            "_view_count": null,
            "_view_module_version": "1.5.0",
            "box_style": "",
            "layout": "IPY_MODEL_d004a39c55af43a6b211cfccf34a8940",
            "_model_module": "@jupyter-widgets/controls",
            "children": [
              "IPY_MODEL_f02c5e10cb0449908cbb28a6533c02f2",
              "IPY_MODEL_94851f3547f34e2ead993b9f2ccc6bb0",
              "IPY_MODEL_bc4333ed685847e58938a7c10369c60e"
            ]
          }
        },
        "d004a39c55af43a6b211cfccf34a8940": {
          "model_module": "@jupyter-widgets/base",
          "model_name": "LayoutModel",
          "model_module_version": "1.2.0",
          "state": {
            "_view_name": "LayoutView",
            "grid_template_rows": null,
            "right": null,
            "justify_content": null,
            "_view_module": "@jupyter-widgets/base",
            "overflow": null,
            "_model_module_version": "1.2.0",
            "_view_count": null,
            "flex_flow": null,
            "width": null,
            "min_width": null,
            "border": null,
            "align_items": null,
            "bottom": null,
            "_model_module": "@jupyter-widgets/base",
            "top": null,
            "grid_column": null,
            "overflow_y": null,
            "overflow_x": null,
            "grid_auto_flow": null,
            "grid_area": null,
            "grid_template_columns": null,
            "flex": null,
            "_model_name": "LayoutModel",
            "justify_items": null,
            "grid_row": null,
            "max_height": null,
            "align_content": null,
            "visibility": null,
            "align_self": null,
            "height": null,
            "min_height": null,
            "padding": null,
            "grid_auto_rows": null,
            "grid_gap": null,
            "max_width": null,
            "order": null,
            "_view_module_version": "1.2.0",
            "grid_template_areas": null,
            "object_position": null,
            "object_fit": null,
            "grid_auto_columns": null,
            "margin": null,
            "display": null,
            "left": null
          }
        },
        "f02c5e10cb0449908cbb28a6533c02f2": {
          "model_module": "@jupyter-widgets/controls",
          "model_name": "HTMLModel",
          "model_module_version": "1.5.0",
          "state": {
            "_view_name": "HTMLView",
            "style": "IPY_MODEL_2073d629a62949b79d7839c32d897cc5",
            "_dom_classes": [],
            "description": "",
            "_model_name": "HTMLModel",
            "placeholder": "​",
            "_view_module": "@jupyter-widgets/controls",
            "_model_module_version": "1.5.0",
            "value": "Downloading: 100%",
            "_view_count": null,
            "_view_module_version": "1.5.0",
            "description_tooltip": null,
            "_model_module": "@jupyter-widgets/controls",
            "layout": "IPY_MODEL_e638b8bec0d84e06a001b6cc7dddfaec"
          }
        },
        "94851f3547f34e2ead993b9f2ccc6bb0": {
          "model_module": "@jupyter-widgets/controls",
          "model_name": "FloatProgressModel",
          "model_module_version": "1.5.0",
          "state": {
            "_view_name": "ProgressView",
            "style": "IPY_MODEL_8d435ea8d24f41d88c972d3b3ba2dfe9",
            "_dom_classes": [],
            "description": "",
            "_model_name": "FloatProgressModel",
            "bar_style": "success",
            "max": 843,
            "_view_module": "@jupyter-widgets/controls",
            "_model_module_version": "1.5.0",
            "value": 843,
            "_view_count": null,
            "_view_module_version": "1.5.0",
            "orientation": "horizontal",
            "min": 0,
            "description_tooltip": null,
            "_model_module": "@jupyter-widgets/controls",
            "layout": "IPY_MODEL_ac037d51d2254a89aba068d4b9947842"
          }
        },
        "bc4333ed685847e58938a7c10369c60e": {
          "model_module": "@jupyter-widgets/controls",
          "model_name": "HTMLModel",
          "model_module_version": "1.5.0",
          "state": {
            "_view_name": "HTMLView",
            "style": "IPY_MODEL_26e86c9aa4694bbfbda726d002bd5518",
            "_dom_classes": [],
            "description": "",
            "_model_name": "HTMLModel",
            "placeholder": "​",
            "_view_module": "@jupyter-widgets/controls",
            "_model_module_version": "1.5.0",
            "value": " 843/843 [00:00&lt;00:00, 20.4kB/s]",
            "_view_count": null,
            "_view_module_version": "1.5.0",
            "description_tooltip": null,
            "_model_module": "@jupyter-widgets/controls",
            "layout": "IPY_MODEL_0112d6015a014613ad2abe9ed02b58d5"
          }
        },
        "2073d629a62949b79d7839c32d897cc5": {
          "model_module": "@jupyter-widgets/controls",
          "model_name": "DescriptionStyleModel",
          "model_module_version": "1.5.0",
          "state": {
            "_view_name": "StyleView",
            "_model_name": "DescriptionStyleModel",
            "description_width": "",
            "_view_module": "@jupyter-widgets/base",
            "_model_module_version": "1.5.0",
            "_view_count": null,
            "_view_module_version": "1.2.0",
            "_model_module": "@jupyter-widgets/controls"
          }
        },
        "e638b8bec0d84e06a001b6cc7dddfaec": {
          "model_module": "@jupyter-widgets/base",
          "model_name": "LayoutModel",
          "model_module_version": "1.2.0",
          "state": {
            "_view_name": "LayoutView",
            "grid_template_rows": null,
            "right": null,
            "justify_content": null,
            "_view_module": "@jupyter-widgets/base",
            "overflow": null,
            "_model_module_version": "1.2.0",
            "_view_count": null,
            "flex_flow": null,
            "width": null,
            "min_width": null,
            "border": null,
            "align_items": null,
            "bottom": null,
            "_model_module": "@jupyter-widgets/base",
            "top": null,
            "grid_column": null,
            "overflow_y": null,
            "overflow_x": null,
            "grid_auto_flow": null,
            "grid_area": null,
            "grid_template_columns": null,
            "flex": null,
            "_model_name": "LayoutModel",
            "justify_items": null,
            "grid_row": null,
            "max_height": null,
            "align_content": null,
            "visibility": null,
            "align_self": null,
            "height": null,
            "min_height": null,
            "padding": null,
            "grid_auto_rows": null,
            "grid_gap": null,
            "max_width": null,
            "order": null,
            "_view_module_version": "1.2.0",
            "grid_template_areas": null,
            "object_position": null,
            "object_fit": null,
            "grid_auto_columns": null,
            "margin": null,
            "display": null,
            "left": null
          }
        },
        "8d435ea8d24f41d88c972d3b3ba2dfe9": {
          "model_module": "@jupyter-widgets/controls",
          "model_name": "ProgressStyleModel",
          "model_module_version": "1.5.0",
          "state": {
            "_view_name": "StyleView",
            "_model_name": "ProgressStyleModel",
            "description_width": "",
            "_view_module": "@jupyter-widgets/base",
            "_model_module_version": "1.5.0",
            "_view_count": null,
            "_view_module_version": "1.2.0",
            "bar_color": null,
            "_model_module": "@jupyter-widgets/controls"
          }
        },
        "ac037d51d2254a89aba068d4b9947842": {
          "model_module": "@jupyter-widgets/base",
          "model_name": "LayoutModel",
          "model_module_version": "1.2.0",
          "state": {
            "_view_name": "LayoutView",
            "grid_template_rows": null,
            "right": null,
            "justify_content": null,
            "_view_module": "@jupyter-widgets/base",
            "overflow": null,
            "_model_module_version": "1.2.0",
            "_view_count": null,
            "flex_flow": null,
            "width": null,
            "min_width": null,
            "border": null,
            "align_items": null,
            "bottom": null,
            "_model_module": "@jupyter-widgets/base",
            "top": null,
            "grid_column": null,
            "overflow_y": null,
            "overflow_x": null,
            "grid_auto_flow": null,
            "grid_area": null,
            "grid_template_columns": null,
            "flex": null,
            "_model_name": "LayoutModel",
            "justify_items": null,
            "grid_row": null,
            "max_height": null,
            "align_content": null,
            "visibility": null,
            "align_self": null,
            "height": null,
            "min_height": null,
            "padding": null,
            "grid_auto_rows": null,
            "grid_gap": null,
            "max_width": null,
            "order": null,
            "_view_module_version": "1.2.0",
            "grid_template_areas": null,
            "object_position": null,
            "object_fit": null,
            "grid_auto_columns": null,
            "margin": null,
            "display": null,
            "left": null
          }
        },
        "26e86c9aa4694bbfbda726d002bd5518": {
          "model_module": "@jupyter-widgets/controls",
          "model_name": "DescriptionStyleModel",
          "model_module_version": "1.5.0",
          "state": {
            "_view_name": "StyleView",
            "_model_name": "DescriptionStyleModel",
            "description_width": "",
            "_view_module": "@jupyter-widgets/base",
            "_model_module_version": "1.5.0",
            "_view_count": null,
            "_view_module_version": "1.2.0",
            "_model_module": "@jupyter-widgets/controls"
          }
        },
        "0112d6015a014613ad2abe9ed02b58d5": {
          "model_module": "@jupyter-widgets/base",
          "model_name": "LayoutModel",
          "model_module_version": "1.2.0",
          "state": {
            "_view_name": "LayoutView",
            "grid_template_rows": null,
            "right": null,
            "justify_content": null,
            "_view_module": "@jupyter-widgets/base",
            "overflow": null,
            "_model_module_version": "1.2.0",
            "_view_count": null,
            "flex_flow": null,
            "width": null,
            "min_width": null,
            "border": null,
            "align_items": null,
            "bottom": null,
            "_model_module": "@jupyter-widgets/base",
            "top": null,
            "grid_column": null,
            "overflow_y": null,
            "overflow_x": null,
            "grid_auto_flow": null,
            "grid_area": null,
            "grid_template_columns": null,
            "flex": null,
            "_model_name": "LayoutModel",
            "justify_items": null,
            "grid_row": null,
            "max_height": null,
            "align_content": null,
            "visibility": null,
            "align_self": null,
            "height": null,
            "min_height": null,
            "padding": null,
            "grid_auto_rows": null,
            "grid_gap": null,
            "max_width": null,
            "order": null,
            "_view_module_version": "1.2.0",
            "grid_template_areas": null,
            "object_position": null,
            "object_fit": null,
            "grid_auto_columns": null,
            "margin": null,
            "display": null,
            "left": null
          }
        },
        "ef2b8ef12c004caa8aa25452f7c2e3c2": {
          "model_module": "@jupyter-widgets/controls",
          "model_name": "HBoxModel",
          "model_module_version": "1.5.0",
          "state": {
            "_view_name": "HBoxView",
            "_dom_classes": [],
            "_model_name": "HBoxModel",
            "_view_module": "@jupyter-widgets/controls",
            "_model_module_version": "1.5.0",
            "_view_count": null,
            "_view_module_version": "1.5.0",
            "box_style": "",
            "layout": "IPY_MODEL_e7b71d9eb1334e549eb815b61cb6809e",
            "_model_module": "@jupyter-widgets/controls",
            "children": [
              "IPY_MODEL_eda90753d014483c86ebc4fd1fdc0160",
              "IPY_MODEL_b7b48162d1c6472f8376fdd023ca8597",
              "IPY_MODEL_41de76fc102e46b386db05753175f71a"
            ]
          }
        },
        "e7b71d9eb1334e549eb815b61cb6809e": {
          "model_module": "@jupyter-widgets/base",
          "model_name": "LayoutModel",
          "model_module_version": "1.2.0",
          "state": {
            "_view_name": "LayoutView",
            "grid_template_rows": null,
            "right": null,
            "justify_content": null,
            "_view_module": "@jupyter-widgets/base",
            "overflow": null,
            "_model_module_version": "1.2.0",
            "_view_count": null,
            "flex_flow": null,
            "width": null,
            "min_width": null,
            "border": null,
            "align_items": null,
            "bottom": null,
            "_model_module": "@jupyter-widgets/base",
            "top": null,
            "grid_column": null,
            "overflow_y": null,
            "overflow_x": null,
            "grid_auto_flow": null,
            "grid_area": null,
            "grid_template_columns": null,
            "flex": null,
            "_model_name": "LayoutModel",
            "justify_items": null,
            "grid_row": null,
            "max_height": null,
            "align_content": null,
            "visibility": null,
            "align_self": null,
            "height": null,
            "min_height": null,
            "padding": null,
            "grid_auto_rows": null,
            "grid_gap": null,
            "max_width": null,
            "order": null,
            "_view_module_version": "1.2.0",
            "grid_template_areas": null,
            "object_position": null,
            "object_fit": null,
            "grid_auto_columns": null,
            "margin": null,
            "display": null,
            "left": null
          }
        },
        "eda90753d014483c86ebc4fd1fdc0160": {
          "model_module": "@jupyter-widgets/controls",
          "model_name": "HTMLModel",
          "model_module_version": "1.5.0",
          "state": {
            "_view_name": "HTMLView",
            "style": "IPY_MODEL_4816350b04bb42b39297e7660ac6d639",
            "_dom_classes": [],
            "description": "",
            "_model_name": "HTMLModel",
            "placeholder": "​",
            "_view_module": "@jupyter-widgets/controls",
            "_model_module_version": "1.5.0",
            "value": "Downloading: 100%",
            "_view_count": null,
            "_view_module_version": "1.5.0",
            "description_tooltip": null,
            "_model_module": "@jupyter-widgets/controls",
            "layout": "IPY_MODEL_eb0039185642440a806f4849e71b11d1"
          }
        },
        "b7b48162d1c6472f8376fdd023ca8597": {
          "model_module": "@jupyter-widgets/controls",
          "model_name": "FloatProgressModel",
          "model_module_version": "1.5.0",
          "state": {
            "_view_name": "ProgressView",
            "style": "IPY_MODEL_13bb5c8b815f40dfae92ab4123f374e4",
            "_dom_classes": [],
            "description": "",
            "_model_name": "FloatProgressModel",
            "bar_style": "success",
            "max": 552618653,
            "_view_module": "@jupyter-widgets/controls",
            "_model_module_version": "1.5.0",
            "value": 552618653,
            "_view_count": null,
            "_view_module_version": "1.5.0",
            "orientation": "horizontal",
            "min": 0,
            "description_tooltip": null,
            "_model_module": "@jupyter-widgets/controls",
            "layout": "IPY_MODEL_c537b74868dd4b3a8e7825baaf913574"
          }
        },
        "41de76fc102e46b386db05753175f71a": {
          "model_module": "@jupyter-widgets/controls",
          "model_name": "HTMLModel",
          "model_module_version": "1.5.0",
          "state": {
            "_view_name": "HTMLView",
            "style": "IPY_MODEL_9dbd577dcbb44587b6440a82b6697aa3",
            "_dom_classes": [],
            "description": "",
            "_model_name": "HTMLModel",
            "placeholder": "​",
            "_view_module": "@jupyter-widgets/controls",
            "_model_module_version": "1.5.0",
            "value": " 527M/527M [00:12&lt;00:00, 46.2MB/s]",
            "_view_count": null,
            "_view_module_version": "1.5.0",
            "description_tooltip": null,
            "_model_module": "@jupyter-widgets/controls",
            "layout": "IPY_MODEL_dea2bcf17ba648d1b07aac6f86980164"
          }
        },
        "4816350b04bb42b39297e7660ac6d639": {
          "model_module": "@jupyter-widgets/controls",
          "model_name": "DescriptionStyleModel",
          "model_module_version": "1.5.0",
          "state": {
            "_view_name": "StyleView",
            "_model_name": "DescriptionStyleModel",
            "description_width": "",
            "_view_module": "@jupyter-widgets/base",
            "_model_module_version": "1.5.0",
            "_view_count": null,
            "_view_module_version": "1.2.0",
            "_model_module": "@jupyter-widgets/controls"
          }
        },
        "eb0039185642440a806f4849e71b11d1": {
          "model_module": "@jupyter-widgets/base",
          "model_name": "LayoutModel",
          "model_module_version": "1.2.0",
          "state": {
            "_view_name": "LayoutView",
            "grid_template_rows": null,
            "right": null,
            "justify_content": null,
            "_view_module": "@jupyter-widgets/base",
            "overflow": null,
            "_model_module_version": "1.2.0",
            "_view_count": null,
            "flex_flow": null,
            "width": null,
            "min_width": null,
            "border": null,
            "align_items": null,
            "bottom": null,
            "_model_module": "@jupyter-widgets/base",
            "top": null,
            "grid_column": null,
            "overflow_y": null,
            "overflow_x": null,
            "grid_auto_flow": null,
            "grid_area": null,
            "grid_template_columns": null,
            "flex": null,
            "_model_name": "LayoutModel",
            "justify_items": null,
            "grid_row": null,
            "max_height": null,
            "align_content": null,
            "visibility": null,
            "align_self": null,
            "height": null,
            "min_height": null,
            "padding": null,
            "grid_auto_rows": null,
            "grid_gap": null,
            "max_width": null,
            "order": null,
            "_view_module_version": "1.2.0",
            "grid_template_areas": null,
            "object_position": null,
            "object_fit": null,
            "grid_auto_columns": null,
            "margin": null,
            "display": null,
            "left": null
          }
        },
        "13bb5c8b815f40dfae92ab4123f374e4": {
          "model_module": "@jupyter-widgets/controls",
          "model_name": "ProgressStyleModel",
          "model_module_version": "1.5.0",
          "state": {
            "_view_name": "StyleView",
            "_model_name": "ProgressStyleModel",
            "description_width": "",
            "_view_module": "@jupyter-widgets/base",
            "_model_module_version": "1.5.0",
            "_view_count": null,
            "_view_module_version": "1.2.0",
            "bar_color": null,
            "_model_module": "@jupyter-widgets/controls"
          }
        },
        "c537b74868dd4b3a8e7825baaf913574": {
          "model_module": "@jupyter-widgets/base",
          "model_name": "LayoutModel",
          "model_module_version": "1.2.0",
          "state": {
            "_view_name": "LayoutView",
            "grid_template_rows": null,
            "right": null,
            "justify_content": null,
            "_view_module": "@jupyter-widgets/base",
            "overflow": null,
            "_model_module_version": "1.2.0",
            "_view_count": null,
            "flex_flow": null,
            "width": null,
            "min_width": null,
            "border": null,
            "align_items": null,
            "bottom": null,
            "_model_module": "@jupyter-widgets/base",
            "top": null,
            "grid_column": null,
            "overflow_y": null,
            "overflow_x": null,
            "grid_auto_flow": null,
            "grid_area": null,
            "grid_template_columns": null,
            "flex": null,
            "_model_name": "LayoutModel",
            "justify_items": null,
            "grid_row": null,
            "max_height": null,
            "align_content": null,
            "visibility": null,
            "align_self": null,
            "height": null,
            "min_height": null,
            "padding": null,
            "grid_auto_rows": null,
            "grid_gap": null,
            "max_width": null,
            "order": null,
            "_view_module_version": "1.2.0",
            "grid_template_areas": null,
            "object_position": null,
            "object_fit": null,
            "grid_auto_columns": null,
            "margin": null,
            "display": null,
            "left": null
          }
        },
        "9dbd577dcbb44587b6440a82b6697aa3": {
          "model_module": "@jupyter-widgets/controls",
          "model_name": "DescriptionStyleModel",
          "model_module_version": "1.5.0",
          "state": {
            "_view_name": "StyleView",
            "_model_name": "DescriptionStyleModel",
            "description_width": "",
            "_view_module": "@jupyter-widgets/base",
            "_model_module_version": "1.5.0",
            "_view_count": null,
            "_view_module_version": "1.2.0",
            "_model_module": "@jupyter-widgets/controls"
          }
        },
        "dea2bcf17ba648d1b07aac6f86980164": {
          "model_module": "@jupyter-widgets/base",
          "model_name": "LayoutModel",
          "model_module_version": "1.2.0",
          "state": {
            "_view_name": "LayoutView",
            "grid_template_rows": null,
            "right": null,
            "justify_content": null,
            "_view_module": "@jupyter-widgets/base",
            "overflow": null,
            "_model_module_version": "1.2.0",
            "_view_count": null,
            "flex_flow": null,
            "width": null,
            "min_width": null,
            "border": null,
            "align_items": null,
            "bottom": null,
            "_model_module": "@jupyter-widgets/base",
            "top": null,
            "grid_column": null,
            "overflow_y": null,
            "overflow_x": null,
            "grid_auto_flow": null,
            "grid_area": null,
            "grid_template_columns": null,
            "flex": null,
            "_model_name": "LayoutModel",
            "justify_items": null,
            "grid_row": null,
            "max_height": null,
            "align_content": null,
            "visibility": null,
            "align_self": null,
            "height": null,
            "min_height": null,
            "padding": null,
            "grid_auto_rows": null,
            "grid_gap": null,
            "max_width": null,
            "order": null,
            "_view_module_version": "1.2.0",
            "grid_template_areas": null,
            "object_position": null,
            "object_fit": null,
            "grid_auto_columns": null,
            "margin": null,
            "display": null,
            "left": null
          }
        },
        "aecafce92ddb4473ac149c0ddbdcf66a": {
          "model_module": "@jupyter-widgets/controls",
          "model_name": "HBoxModel",
          "model_module_version": "1.5.0",
          "state": {
            "_view_name": "HBoxView",
            "_dom_classes": [],
            "_model_name": "HBoxModel",
            "_view_module": "@jupyter-widgets/controls",
            "_model_module_version": "1.5.0",
            "_view_count": null,
            "_view_module_version": "1.5.0",
            "box_style": "",
            "layout": "IPY_MODEL_bc452e35dab24a8191b37e80bd49f81c",
            "_model_module": "@jupyter-widgets/controls",
            "children": [
              "IPY_MODEL_b84492fc4de64dc899cc16a391b54689",
              "IPY_MODEL_a464b66cb43a45bd9c9835cea2f2fd97",
              "IPY_MODEL_cddef9c4d0d8434fbc5059dff14f711c"
            ]
          }
        },
        "bc452e35dab24a8191b37e80bd49f81c": {
          "model_module": "@jupyter-widgets/base",
          "model_name": "LayoutModel",
          "model_module_version": "1.2.0",
          "state": {
            "_view_name": "LayoutView",
            "grid_template_rows": null,
            "right": null,
            "justify_content": null,
            "_view_module": "@jupyter-widgets/base",
            "overflow": null,
            "_model_module_version": "1.2.0",
            "_view_count": null,
            "flex_flow": null,
            "width": null,
            "min_width": null,
            "border": null,
            "align_items": null,
            "bottom": null,
            "_model_module": "@jupyter-widgets/base",
            "top": null,
            "grid_column": null,
            "overflow_y": null,
            "overflow_x": null,
            "grid_auto_flow": null,
            "grid_area": null,
            "grid_template_columns": null,
            "flex": null,
            "_model_name": "LayoutModel",
            "justify_items": null,
            "grid_row": null,
            "max_height": null,
            "align_content": null,
            "visibility": null,
            "align_self": null,
            "height": null,
            "min_height": null,
            "padding": null,
            "grid_auto_rows": null,
            "grid_gap": null,
            "max_width": null,
            "order": null,
            "_view_module_version": "1.2.0",
            "grid_template_areas": null,
            "object_position": null,
            "object_fit": null,
            "grid_auto_columns": null,
            "margin": null,
            "display": null,
            "left": null
          }
        },
        "b84492fc4de64dc899cc16a391b54689": {
          "model_module": "@jupyter-widgets/controls",
          "model_name": "HTMLModel",
          "model_module_version": "1.5.0",
          "state": {
            "_view_name": "HTMLView",
            "style": "IPY_MODEL_e5d507bbf56e4fba97d8741a58cada1b",
            "_dom_classes": [],
            "description": "",
            "_model_name": "HTMLModel",
            "placeholder": "​",
            "_view_module": "@jupyter-widgets/controls",
            "_model_module_version": "1.5.0",
            "value": "Downloading: 100%",
            "_view_count": null,
            "_view_module_version": "1.5.0",
            "description_tooltip": null,
            "_model_module": "@jupyter-widgets/controls",
            "layout": "IPY_MODEL_8e260240db034ec084c54902007b4135"
          }
        },
        "a464b66cb43a45bd9c9835cea2f2fd97": {
          "model_module": "@jupyter-widgets/controls",
          "model_name": "FloatProgressModel",
          "model_module_version": "1.5.0",
          "state": {
            "_view_name": "ProgressView",
            "style": "IPY_MODEL_9d56ae12ceae4ebcad2e0955cf00be0c",
            "_dom_classes": [],
            "description": "",
            "_model_name": "FloatProgressModel",
            "bar_style": "success",
            "max": 1935314,
            "_view_module": "@jupyter-widgets/controls",
            "_model_module_version": "1.5.0",
            "value": 1935314,
            "_view_count": null,
            "_view_module_version": "1.5.0",
            "orientation": "horizontal",
            "min": 0,
            "description_tooltip": null,
            "_model_module": "@jupyter-widgets/controls",
            "layout": "IPY_MODEL_0934f6b2f5674d519584d0b4bf5e50ec"
          }
        },
        "cddef9c4d0d8434fbc5059dff14f711c": {
          "model_module": "@jupyter-widgets/controls",
          "model_name": "HTMLModel",
          "model_module_version": "1.5.0",
          "state": {
            "_view_name": "HTMLView",
            "style": "IPY_MODEL_ee3b289c1f2f49eba897ce32f5bd7996",
            "_dom_classes": [],
            "description": "",
            "_model_name": "HTMLModel",
            "placeholder": "​",
            "_view_module": "@jupyter-widgets/controls",
            "_model_module_version": "1.5.0",
            "value": " 1.85M/1.85M [00:00&lt;00:00, 3.31MB/s]",
            "_view_count": null,
            "_view_module_version": "1.5.0",
            "description_tooltip": null,
            "_model_module": "@jupyter-widgets/controls",
            "layout": "IPY_MODEL_325f9105ef614eccb1fd70281d35f99c"
          }
        },
        "e5d507bbf56e4fba97d8741a58cada1b": {
          "model_module": "@jupyter-widgets/controls",
          "model_name": "DescriptionStyleModel",
          "model_module_version": "1.5.0",
          "state": {
            "_view_name": "StyleView",
            "_model_name": "DescriptionStyleModel",
            "description_width": "",
            "_view_module": "@jupyter-widgets/base",
            "_model_module_version": "1.5.0",
            "_view_count": null,
            "_view_module_version": "1.2.0",
            "_model_module": "@jupyter-widgets/controls"
          }
        },
        "8e260240db034ec084c54902007b4135": {
          "model_module": "@jupyter-widgets/base",
          "model_name": "LayoutModel",
          "model_module_version": "1.2.0",
          "state": {
            "_view_name": "LayoutView",
            "grid_template_rows": null,
            "right": null,
            "justify_content": null,
            "_view_module": "@jupyter-widgets/base",
            "overflow": null,
            "_model_module_version": "1.2.0",
            "_view_count": null,
            "flex_flow": null,
            "width": null,
            "min_width": null,
            "border": null,
            "align_items": null,
            "bottom": null,
            "_model_module": "@jupyter-widgets/base",
            "top": null,
            "grid_column": null,
            "overflow_y": null,
            "overflow_x": null,
            "grid_auto_flow": null,
            "grid_area": null,
            "grid_template_columns": null,
            "flex": null,
            "_model_name": "LayoutModel",
            "justify_items": null,
            "grid_row": null,
            "max_height": null,
            "align_content": null,
            "visibility": null,
            "align_self": null,
            "height": null,
            "min_height": null,
            "padding": null,
            "grid_auto_rows": null,
            "grid_gap": null,
            "max_width": null,
            "order": null,
            "_view_module_version": "1.2.0",
            "grid_template_areas": null,
            "object_position": null,
            "object_fit": null,
            "grid_auto_columns": null,
            "margin": null,
            "display": null,
            "left": null
          }
        },
        "9d56ae12ceae4ebcad2e0955cf00be0c": {
          "model_module": "@jupyter-widgets/controls",
          "model_name": "ProgressStyleModel",
          "model_module_version": "1.5.0",
          "state": {
            "_view_name": "StyleView",
            "_model_name": "ProgressStyleModel",
            "description_width": "",
            "_view_module": "@jupyter-widgets/base",
            "_model_module_version": "1.5.0",
            "_view_count": null,
            "_view_module_version": "1.2.0",
            "bar_color": null,
            "_model_module": "@jupyter-widgets/controls"
          }
        },
        "0934f6b2f5674d519584d0b4bf5e50ec": {
          "model_module": "@jupyter-widgets/base",
          "model_name": "LayoutModel",
          "model_module_version": "1.2.0",
          "state": {
            "_view_name": "LayoutView",
            "grid_template_rows": null,
            "right": null,
            "justify_content": null,
            "_view_module": "@jupyter-widgets/base",
            "overflow": null,
            "_model_module_version": "1.2.0",
            "_view_count": null,
            "flex_flow": null,
            "width": null,
            "min_width": null,
            "border": null,
            "align_items": null,
            "bottom": null,
            "_model_module": "@jupyter-widgets/base",
            "top": null,
            "grid_column": null,
            "overflow_y": null,
            "overflow_x": null,
            "grid_auto_flow": null,
            "grid_area": null,
            "grid_template_columns": null,
            "flex": null,
            "_model_name": "LayoutModel",
            "justify_items": null,
            "grid_row": null,
            "max_height": null,
            "align_content": null,
            "visibility": null,
            "align_self": null,
            "height": null,
            "min_height": null,
            "padding": null,
            "grid_auto_rows": null,
            "grid_gap": null,
            "max_width": null,
            "order": null,
            "_view_module_version": "1.2.0",
            "grid_template_areas": null,
            "object_position": null,
            "object_fit": null,
            "grid_auto_columns": null,
            "margin": null,
            "display": null,
            "left": null
          }
        },
        "ee3b289c1f2f49eba897ce32f5bd7996": {
          "model_module": "@jupyter-widgets/controls",
          "model_name": "DescriptionStyleModel",
          "model_module_version": "1.5.0",
          "state": {
            "_view_name": "StyleView",
            "_model_name": "DescriptionStyleModel",
            "description_width": "",
            "_view_module": "@jupyter-widgets/base",
            "_model_module_version": "1.5.0",
            "_view_count": null,
            "_view_module_version": "1.2.0",
            "_model_module": "@jupyter-widgets/controls"
          }
        },
        "325f9105ef614eccb1fd70281d35f99c": {
          "model_module": "@jupyter-widgets/base",
          "model_name": "LayoutModel",
          "model_module_version": "1.2.0",
          "state": {
            "_view_name": "LayoutView",
            "grid_template_rows": null,
            "right": null,
            "justify_content": null,
            "_view_module": "@jupyter-widgets/base",
            "overflow": null,
            "_model_module_version": "1.2.0",
            "_view_count": null,
            "flex_flow": null,
            "width": null,
            "min_width": null,
            "border": null,
            "align_items": null,
            "bottom": null,
            "_model_module": "@jupyter-widgets/base",
            "top": null,
            "grid_column": null,
            "overflow_y": null,
            "overflow_x": null,
            "grid_auto_flow": null,
            "grid_area": null,
            "grid_template_columns": null,
            "flex": null,
            "_model_name": "LayoutModel",
            "justify_items": null,
            "grid_row": null,
            "max_height": null,
            "align_content": null,
            "visibility": null,
            "align_self": null,
            "height": null,
            "min_height": null,
            "padding": null,
            "grid_auto_rows": null,
            "grid_gap": null,
            "max_width": null,
            "order": null,
            "_view_module_version": "1.2.0",
            "grid_template_areas": null,
            "object_position": null,
            "object_fit": null,
            "grid_auto_columns": null,
            "margin": null,
            "display": null,
            "left": null
          }
        },
        "4215dd9258314af1b0d9602981d2f297": {
          "model_module": "@jupyter-widgets/controls",
          "model_name": "HBoxModel",
          "model_module_version": "1.5.0",
          "state": {
            "_view_name": "HBoxView",
            "_dom_classes": [],
            "_model_name": "HBoxModel",
            "_view_module": "@jupyter-widgets/controls",
            "_model_module_version": "1.5.0",
            "_view_count": null,
            "_view_module_version": "1.5.0",
            "box_style": "",
            "layout": "IPY_MODEL_c7833ca8ab0b4d828b94f5cbe2f581ad",
            "_model_module": "@jupyter-widgets/controls",
            "children": [
              "IPY_MODEL_1086ecab58ac483d8f72be5122f4076e",
              "IPY_MODEL_b1cd16afc1c346f18f9d3efeebd07908",
              "IPY_MODEL_72f25a0faebb4541a126afbb15cc6778"
            ]
          }
        },
        "c7833ca8ab0b4d828b94f5cbe2f581ad": {
          "model_module": "@jupyter-widgets/base",
          "model_name": "LayoutModel",
          "model_module_version": "1.2.0",
          "state": {
            "_view_name": "LayoutView",
            "grid_template_rows": null,
            "right": null,
            "justify_content": null,
            "_view_module": "@jupyter-widgets/base",
            "overflow": null,
            "_model_module_version": "1.2.0",
            "_view_count": null,
            "flex_flow": null,
            "width": null,
            "min_width": null,
            "border": null,
            "align_items": null,
            "bottom": null,
            "_model_module": "@jupyter-widgets/base",
            "top": null,
            "grid_column": null,
            "overflow_y": null,
            "overflow_x": null,
            "grid_auto_flow": null,
            "grid_area": null,
            "grid_template_columns": null,
            "flex": null,
            "_model_name": "LayoutModel",
            "justify_items": null,
            "grid_row": null,
            "max_height": null,
            "align_content": null,
            "visibility": null,
            "align_self": null,
            "height": null,
            "min_height": null,
            "padding": null,
            "grid_auto_rows": null,
            "grid_gap": null,
            "max_width": null,
            "order": null,
            "_view_module_version": "1.2.0",
            "grid_template_areas": null,
            "object_position": null,
            "object_fit": null,
            "grid_auto_columns": null,
            "margin": null,
            "display": null,
            "left": null
          }
        },
        "1086ecab58ac483d8f72be5122f4076e": {
          "model_module": "@jupyter-widgets/controls",
          "model_name": "HTMLModel",
          "model_module_version": "1.5.0",
          "state": {
            "_view_name": "HTMLView",
            "style": "IPY_MODEL_3d6fbfebcf15496da2e0e562c4854a73",
            "_dom_classes": [],
            "description": "",
            "_model_name": "HTMLModel",
            "placeholder": "​",
            "_view_module": "@jupyter-widgets/controls",
            "_model_module_version": "1.5.0",
            "value": "Downloading: 100%",
            "_view_count": null,
            "_view_module_version": "1.5.0",
            "description_tooltip": null,
            "_model_module": "@jupyter-widgets/controls",
            "layout": "IPY_MODEL_77b20fd46fb34fd685b28a01a17da120"
          }
        },
        "b1cd16afc1c346f18f9d3efeebd07908": {
          "model_module": "@jupyter-widgets/controls",
          "model_name": "FloatProgressModel",
          "model_module_version": "1.5.0",
          "state": {
            "_view_name": "ProgressView",
            "style": "IPY_MODEL_72d3ba26bd6d419cb61a551226ae91e8",
            "_dom_classes": [],
            "description": "",
            "_model_name": "FloatProgressModel",
            "bar_style": "success",
            "max": 1497508,
            "_view_module": "@jupyter-widgets/controls",
            "_model_module_version": "1.5.0",
            "value": 1497508,
            "_view_count": null,
            "_view_module_version": "1.5.0",
            "orientation": "horizontal",
            "min": 0,
            "description_tooltip": null,
            "_model_module": "@jupyter-widgets/controls",
            "layout": "IPY_MODEL_0eebdfd190ea4ae39f14e51777d83c0f"
          }
        },
        "72f25a0faebb4541a126afbb15cc6778": {
          "model_module": "@jupyter-widgets/controls",
          "model_name": "HTMLModel",
          "model_module_version": "1.5.0",
          "state": {
            "_view_name": "HTMLView",
            "style": "IPY_MODEL_f04dba8dc75543b685469aa843588c92",
            "_dom_classes": [],
            "description": "",
            "_model_name": "HTMLModel",
            "placeholder": "​",
            "_view_module": "@jupyter-widgets/controls",
            "_model_module_version": "1.5.0",
            "value": " 1.43M/1.43M [00:00&lt;00:00, 1.19MB/s]",
            "_view_count": null,
            "_view_module_version": "1.5.0",
            "description_tooltip": null,
            "_model_module": "@jupyter-widgets/controls",
            "layout": "IPY_MODEL_e8bc05d89c37475d9a6b793c89932afb"
          }
        },
        "3d6fbfebcf15496da2e0e562c4854a73": {
          "model_module": "@jupyter-widgets/controls",
          "model_name": "DescriptionStyleModel",
          "model_module_version": "1.5.0",
          "state": {
            "_view_name": "StyleView",
            "_model_name": "DescriptionStyleModel",
            "description_width": "",
            "_view_module": "@jupyter-widgets/base",
            "_model_module_version": "1.5.0",
            "_view_count": null,
            "_view_module_version": "1.2.0",
            "_model_module": "@jupyter-widgets/controls"
          }
        },
        "77b20fd46fb34fd685b28a01a17da120": {
          "model_module": "@jupyter-widgets/base",
          "model_name": "LayoutModel",
          "model_module_version": "1.2.0",
          "state": {
            "_view_name": "LayoutView",
            "grid_template_rows": null,
            "right": null,
            "justify_content": null,
            "_view_module": "@jupyter-widgets/base",
            "overflow": null,
            "_model_module_version": "1.2.0",
            "_view_count": null,
            "flex_flow": null,
            "width": null,
            "min_width": null,
            "border": null,
            "align_items": null,
            "bottom": null,
            "_model_module": "@jupyter-widgets/base",
            "top": null,
            "grid_column": null,
            "overflow_y": null,
            "overflow_x": null,
            "grid_auto_flow": null,
            "grid_area": null,
            "grid_template_columns": null,
            "flex": null,
            "_model_name": "LayoutModel",
            "justify_items": null,
            "grid_row": null,
            "max_height": null,
            "align_content": null,
            "visibility": null,
            "align_self": null,
            "height": null,
            "min_height": null,
            "padding": null,
            "grid_auto_rows": null,
            "grid_gap": null,
            "max_width": null,
            "order": null,
            "_view_module_version": "1.2.0",
            "grid_template_areas": null,
            "object_position": null,
            "object_fit": null,
            "grid_auto_columns": null,
            "margin": null,
            "display": null,
            "left": null
          }
        },
        "72d3ba26bd6d419cb61a551226ae91e8": {
          "model_module": "@jupyter-widgets/controls",
          "model_name": "ProgressStyleModel",
          "model_module_version": "1.5.0",
          "state": {
            "_view_name": "StyleView",
            "_model_name": "ProgressStyleModel",
            "description_width": "",
            "_view_module": "@jupyter-widgets/base",
            "_model_module_version": "1.5.0",
            "_view_count": null,
            "_view_module_version": "1.2.0",
            "bar_color": null,
            "_model_module": "@jupyter-widgets/controls"
          }
        },
        "0eebdfd190ea4ae39f14e51777d83c0f": {
          "model_module": "@jupyter-widgets/base",
          "model_name": "LayoutModel",
          "model_module_version": "1.2.0",
          "state": {
            "_view_name": "LayoutView",
            "grid_template_rows": null,
            "right": null,
            "justify_content": null,
            "_view_module": "@jupyter-widgets/base",
            "overflow": null,
            "_model_module_version": "1.2.0",
            "_view_count": null,
            "flex_flow": null,
            "width": null,
            "min_width": null,
            "border": null,
            "align_items": null,
            "bottom": null,
            "_model_module": "@jupyter-widgets/base",
            "top": null,
            "grid_column": null,
            "overflow_y": null,
            "overflow_x": null,
            "grid_auto_flow": null,
            "grid_area": null,
            "grid_template_columns": null,
            "flex": null,
            "_model_name": "LayoutModel",
            "justify_items": null,
            "grid_row": null,
            "max_height": null,
            "align_content": null,
            "visibility": null,
            "align_self": null,
            "height": null,
            "min_height": null,
            "padding": null,
            "grid_auto_rows": null,
            "grid_gap": null,
            "max_width": null,
            "order": null,
            "_view_module_version": "1.2.0",
            "grid_template_areas": null,
            "object_position": null,
            "object_fit": null,
            "grid_auto_columns": null,
            "margin": null,
            "display": null,
            "left": null
          }
        },
        "f04dba8dc75543b685469aa843588c92": {
          "model_module": "@jupyter-widgets/controls",
          "model_name": "DescriptionStyleModel",
          "model_module_version": "1.5.0",
          "state": {
            "_view_name": "StyleView",
            "_model_name": "DescriptionStyleModel",
            "description_width": "",
            "_view_module": "@jupyter-widgets/base",
            "_model_module_version": "1.5.0",
            "_view_count": null,
            "_view_module_version": "1.2.0",
            "_model_module": "@jupyter-widgets/controls"
          }
        },
        "e8bc05d89c37475d9a6b793c89932afb": {
          "model_module": "@jupyter-widgets/base",
          "model_name": "LayoutModel",
          "model_module_version": "1.2.0",
          "state": {
            "_view_name": "LayoutView",
            "grid_template_rows": null,
            "right": null,
            "justify_content": null,
            "_view_module": "@jupyter-widgets/base",
            "overflow": null,
            "_model_module_version": "1.2.0",
            "_view_count": null,
            "flex_flow": null,
            "width": null,
            "min_width": null,
            "border": null,
            "align_items": null,
            "bottom": null,
            "_model_module": "@jupyter-widgets/base",
            "top": null,
            "grid_column": null,
            "overflow_y": null,
            "overflow_x": null,
            "grid_auto_flow": null,
            "grid_area": null,
            "grid_template_columns": null,
            "flex": null,
            "_model_name": "LayoutModel",
            "justify_items": null,
            "grid_row": null,
            "max_height": null,
            "align_content": null,
            "visibility": null,
            "align_self": null,
            "height": null,
            "min_height": null,
            "padding": null,
            "grid_auto_rows": null,
            "grid_gap": null,
            "max_width": null,
            "order": null,
            "_view_module_version": "1.2.0",
            "grid_template_areas": null,
            "object_position": null,
            "object_fit": null,
            "grid_auto_columns": null,
            "margin": null,
            "display": null,
            "left": null
          }
        },
        "60671cfe369e40fc930b594e36730a61": {
          "model_module": "@jupyter-widgets/controls",
          "model_name": "HBoxModel",
          "model_module_version": "1.5.0",
          "state": {
            "_view_name": "HBoxView",
            "_dom_classes": [],
            "_model_name": "HBoxModel",
            "_view_module": "@jupyter-widgets/controls",
            "_model_module_version": "1.5.0",
            "_view_count": null,
            "_view_module_version": "1.5.0",
            "box_style": "",
            "layout": "IPY_MODEL_05d18e16a8f64359b80d94ba07ba2d20",
            "_model_module": "@jupyter-widgets/controls",
            "children": [
              "IPY_MODEL_9e84b6156a0d4416b28fd0fc04c1bbf9",
              "IPY_MODEL_376f9c697a76468d97dd3bc501618680",
              "IPY_MODEL_6aaf5dfbd13944718e778e2d56b48d6c"
            ]
          }
        },
        "05d18e16a8f64359b80d94ba07ba2d20": {
          "model_module": "@jupyter-widgets/base",
          "model_name": "LayoutModel",
          "model_module_version": "1.2.0",
          "state": {
            "_view_name": "LayoutView",
            "grid_template_rows": null,
            "right": null,
            "justify_content": null,
            "_view_module": "@jupyter-widgets/base",
            "overflow": null,
            "_model_module_version": "1.2.0",
            "_view_count": null,
            "flex_flow": null,
            "width": null,
            "min_width": null,
            "border": null,
            "align_items": null,
            "bottom": null,
            "_model_module": "@jupyter-widgets/base",
            "top": null,
            "grid_column": null,
            "overflow_y": null,
            "overflow_x": null,
            "grid_auto_flow": null,
            "grid_area": null,
            "grid_template_columns": null,
            "flex": null,
            "_model_name": "LayoutModel",
            "justify_items": null,
            "grid_row": null,
            "max_height": null,
            "align_content": null,
            "visibility": null,
            "align_self": null,
            "height": null,
            "min_height": null,
            "padding": null,
            "grid_auto_rows": null,
            "grid_gap": null,
            "max_width": null,
            "order": null,
            "_view_module_version": "1.2.0",
            "grid_template_areas": null,
            "object_position": null,
            "object_fit": null,
            "grid_auto_columns": null,
            "margin": null,
            "display": null,
            "left": null
          }
        },
        "9e84b6156a0d4416b28fd0fc04c1bbf9": {
          "model_module": "@jupyter-widgets/controls",
          "model_name": "HTMLModel",
          "model_module_version": "1.5.0",
          "state": {
            "_view_name": "HTMLView",
            "style": "IPY_MODEL_c5e8d77301414fed9496ab05244f7b17",
            "_dom_classes": [],
            "description": "",
            "_model_name": "HTMLModel",
            "placeholder": "​",
            "_view_module": "@jupyter-widgets/controls",
            "_model_module_version": "1.5.0",
            "value": "Downloading: 100%",
            "_view_count": null,
            "_view_module_version": "1.5.0",
            "description_tooltip": null,
            "_model_module": "@jupyter-widgets/controls",
            "layout": "IPY_MODEL_b629e4d385184aebb05319fa3830fe7a"
          }
        },
        "376f9c697a76468d97dd3bc501618680": {
          "model_module": "@jupyter-widgets/controls",
          "model_name": "FloatProgressModel",
          "model_module_version": "1.5.0",
          "state": {
            "_view_name": "ProgressView",
            "style": "IPY_MODEL_3e57a0147fe44d36bd6ffb7398aee372",
            "_dom_classes": [],
            "description": "",
            "_model_name": "FloatProgressModel",
            "bar_style": "success",
            "max": 4519765,
            "_view_module": "@jupyter-widgets/controls",
            "_model_module_version": "1.5.0",
            "value": 4519765,
            "_view_count": null,
            "_view_module_version": "1.5.0",
            "orientation": "horizontal",
            "min": 0,
            "description_tooltip": null,
            "_model_module": "@jupyter-widgets/controls",
            "layout": "IPY_MODEL_e51e804c8e9e4603acbd44d3d023e2d0"
          }
        },
        "6aaf5dfbd13944718e778e2d56b48d6c": {
          "model_module": "@jupyter-widgets/controls",
          "model_name": "HTMLModel",
          "model_module_version": "1.5.0",
          "state": {
            "_view_name": "HTMLView",
            "style": "IPY_MODEL_3667062970704926957cef94f5f8c92f",
            "_dom_classes": [],
            "description": "",
            "_model_name": "HTMLModel",
            "placeholder": "​",
            "_view_module": "@jupyter-widgets/controls",
            "_model_module_version": "1.5.0",
            "value": " 4.31M/4.31M [00:00&lt;00:00, 8.32MB/s]",
            "_view_count": null,
            "_view_module_version": "1.5.0",
            "description_tooltip": null,
            "_model_module": "@jupyter-widgets/controls",
            "layout": "IPY_MODEL_0e08b035f1084930a52dcf554ccc8ab4"
          }
        },
        "c5e8d77301414fed9496ab05244f7b17": {
          "model_module": "@jupyter-widgets/controls",
          "model_name": "DescriptionStyleModel",
          "model_module_version": "1.5.0",
          "state": {
            "_view_name": "StyleView",
            "_model_name": "DescriptionStyleModel",
            "description_width": "",
            "_view_module": "@jupyter-widgets/base",
            "_model_module_version": "1.5.0",
            "_view_count": null,
            "_view_module_version": "1.2.0",
            "_model_module": "@jupyter-widgets/controls"
          }
        },
        "b629e4d385184aebb05319fa3830fe7a": {
          "model_module": "@jupyter-widgets/base",
          "model_name": "LayoutModel",
          "model_module_version": "1.2.0",
          "state": {
            "_view_name": "LayoutView",
            "grid_template_rows": null,
            "right": null,
            "justify_content": null,
            "_view_module": "@jupyter-widgets/base",
            "overflow": null,
            "_model_module_version": "1.2.0",
            "_view_count": null,
            "flex_flow": null,
            "width": null,
            "min_width": null,
            "border": null,
            "align_items": null,
            "bottom": null,
            "_model_module": "@jupyter-widgets/base",
            "top": null,
            "grid_column": null,
            "overflow_y": null,
            "overflow_x": null,
            "grid_auto_flow": null,
            "grid_area": null,
            "grid_template_columns": null,
            "flex": null,
            "_model_name": "LayoutModel",
            "justify_items": null,
            "grid_row": null,
            "max_height": null,
            "align_content": null,
            "visibility": null,
            "align_self": null,
            "height": null,
            "min_height": null,
            "padding": null,
            "grid_auto_rows": null,
            "grid_gap": null,
            "max_width": null,
            "order": null,
            "_view_module_version": "1.2.0",
            "grid_template_areas": null,
            "object_position": null,
            "object_fit": null,
            "grid_auto_columns": null,
            "margin": null,
            "display": null,
            "left": null
          }
        },
        "3e57a0147fe44d36bd6ffb7398aee372": {
          "model_module": "@jupyter-widgets/controls",
          "model_name": "ProgressStyleModel",
          "model_module_version": "1.5.0",
          "state": {
            "_view_name": "StyleView",
            "_model_name": "ProgressStyleModel",
            "description_width": "",
            "_view_module": "@jupyter-widgets/base",
            "_model_module_version": "1.5.0",
            "_view_count": null,
            "_view_module_version": "1.2.0",
            "bar_color": null,
            "_model_module": "@jupyter-widgets/controls"
          }
        },
        "e51e804c8e9e4603acbd44d3d023e2d0": {
          "model_module": "@jupyter-widgets/base",
          "model_name": "LayoutModel",
          "model_module_version": "1.2.0",
          "state": {
            "_view_name": "LayoutView",
            "grid_template_rows": null,
            "right": null,
            "justify_content": null,
            "_view_module": "@jupyter-widgets/base",
            "overflow": null,
            "_model_module_version": "1.2.0",
            "_view_count": null,
            "flex_flow": null,
            "width": null,
            "min_width": null,
            "border": null,
            "align_items": null,
            "bottom": null,
            "_model_module": "@jupyter-widgets/base",
            "top": null,
            "grid_column": null,
            "overflow_y": null,
            "overflow_x": null,
            "grid_auto_flow": null,
            "grid_area": null,
            "grid_template_columns": null,
            "flex": null,
            "_model_name": "LayoutModel",
            "justify_items": null,
            "grid_row": null,
            "max_height": null,
            "align_content": null,
            "visibility": null,
            "align_self": null,
            "height": null,
            "min_height": null,
            "padding": null,
            "grid_auto_rows": null,
            "grid_gap": null,
            "max_width": null,
            "order": null,
            "_view_module_version": "1.2.0",
            "grid_template_areas": null,
            "object_position": null,
            "object_fit": null,
            "grid_auto_columns": null,
            "margin": null,
            "display": null,
            "left": null
          }
        },
        "3667062970704926957cef94f5f8c92f": {
          "model_module": "@jupyter-widgets/controls",
          "model_name": "DescriptionStyleModel",
          "model_module_version": "1.5.0",
          "state": {
            "_view_name": "StyleView",
            "_model_name": "DescriptionStyleModel",
            "description_width": "",
            "_view_module": "@jupyter-widgets/base",
            "_model_module_version": "1.5.0",
            "_view_count": null,
            "_view_module_version": "1.2.0",
            "_model_module": "@jupyter-widgets/controls"
          }
        },
        "0e08b035f1084930a52dcf554ccc8ab4": {
          "model_module": "@jupyter-widgets/base",
          "model_name": "LayoutModel",
          "model_module_version": "1.2.0",
          "state": {
            "_view_name": "LayoutView",
            "grid_template_rows": null,
            "right": null,
            "justify_content": null,
            "_view_module": "@jupyter-widgets/base",
            "overflow": null,
            "_model_module_version": "1.2.0",
            "_view_count": null,
            "flex_flow": null,
            "width": null,
            "min_width": null,
            "border": null,
            "align_items": null,
            "bottom": null,
            "_model_module": "@jupyter-widgets/base",
            "top": null,
            "grid_column": null,
            "overflow_y": null,
            "overflow_x": null,
            "grid_auto_flow": null,
            "grid_area": null,
            "grid_template_columns": null,
            "flex": null,
            "_model_name": "LayoutModel",
            "justify_items": null,
            "grid_row": null,
            "max_height": null,
            "align_content": null,
            "visibility": null,
            "align_self": null,
            "height": null,
            "min_height": null,
            "padding": null,
            "grid_auto_rows": null,
            "grid_gap": null,
            "max_width": null,
            "order": null,
            "_view_module_version": "1.2.0",
            "grid_template_areas": null,
            "object_position": null,
            "object_fit": null,
            "grid_auto_columns": null,
            "margin": null,
            "display": null,
            "left": null
          }
        }
      }
    }
  },
  "nbformat": 4,
  "nbformat_minor": 0
}