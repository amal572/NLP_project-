{
  "cells": [
    {
      "cell_type": "code",
      "execution_count": null,
      "metadata": {
        "colab": {
          "base_uri": "https://localhost:8080/"
        },
        "id": "pERTdhSc4jkD",
        "outputId": "11404451-eeee-4f4f-da2f-eb6146cd4478"
      },
      "outputs": [
        {
          "output_type": "stream",
          "name": "stdout",
          "text": [
            "Collecting arabic-reshaper\n",
            "  Downloading arabic_reshaper-2.1.3-py3-none-any.whl (20 kB)\n",
            "Requirement already satisfied: future in /usr/local/lib/python3.7/dist-packages (from arabic-reshaper) (0.16.0)\n",
            "Requirement already satisfied: setuptools in /usr/local/lib/python3.7/dist-packages (from arabic-reshaper) (57.4.0)\n",
            "Installing collected packages: arabic-reshaper\n",
            "Successfully installed arabic-reshaper-2.1.3\n"
          ]
        }
      ],
      "source": [
        "!pip install arabic-reshaper"
      ]
    },
    {
      "cell_type": "code",
      "execution_count": null,
      "metadata": {
        "colab": {
          "base_uri": "https://localhost:8080/"
        },
        "id": "L0GhubFCGeYJ",
        "outputId": "98e8737d-063a-42e9-e361-6d892b7f2d26"
      },
      "outputs": [
        {
          "output_type": "stream",
          "name": "stdout",
          "text": [
            "Collecting PyArabic\n",
            "  Downloading PyArabic-0.6.14-py3-none-any.whl (126 kB)\n",
            "\u001b[?25l\r\u001b[K     |██▋                             | 10 kB 21.2 MB/s eta 0:00:01\r\u001b[K     |█████▏                          | 20 kB 26.1 MB/s eta 0:00:01\r\u001b[K     |███████▉                        | 30 kB 31.3 MB/s eta 0:00:01\r\u001b[K     |██████████▍                     | 40 kB 26.5 MB/s eta 0:00:01\r\u001b[K     |█████████████                   | 51 kB 19.2 MB/s eta 0:00:01\r\u001b[K     |███████████████▋                | 61 kB 16.9 MB/s eta 0:00:01\r\u001b[K     |██████████████████▏             | 71 kB 13.6 MB/s eta 0:00:01\r\u001b[K     |████████████████████▊           | 81 kB 14.7 MB/s eta 0:00:01\r\u001b[K     |███████████████████████▍        | 92 kB 16.1 MB/s eta 0:00:01\r\u001b[K     |██████████████████████████      | 102 kB 16.2 MB/s eta 0:00:01\r\u001b[K     |████████████████████████████▌   | 112 kB 16.2 MB/s eta 0:00:01\r\u001b[K     |███████████████████████████████▏| 122 kB 16.2 MB/s eta 0:00:01\r\u001b[K     |████████████████████████████████| 126 kB 16.2 MB/s \n",
            "\u001b[?25hRequirement already satisfied: six>=1.14.0 in /usr/local/lib/python3.7/dist-packages (from PyArabic) (1.15.0)\n",
            "Installing collected packages: PyArabic\n",
            "Successfully installed PyArabic-0.6.14\n"
          ]
        }
      ],
      "source": [
        "!pip install PyArabic"
      ]
    },
    {
      "cell_type": "code",
      "execution_count": null,
      "metadata": {
        "colab": {
          "base_uri": "https://localhost:8080/"
        },
        "id": "TOwlcs_WHKVF",
        "outputId": "d9ca10ab-b3af-4557-9186-f78bad9cd9b7"
      },
      "outputs": [
        {
          "output_type": "stream",
          "name": "stdout",
          "text": [
            "Collecting Tashaphyne\n",
            "  Downloading Tashaphyne-0.3.4.1-py3-none-any.whl (244 kB)\n",
            "\u001b[?25l\r\u001b[K     |█▍                              | 10 kB 30.0 MB/s eta 0:00:01\r\u001b[K     |██▊                             | 20 kB 34.5 MB/s eta 0:00:01\r\u001b[K     |████                            | 30 kB 30.2 MB/s eta 0:00:01\r\u001b[K     |█████▍                          | 40 kB 21.3 MB/s eta 0:00:01\r\u001b[K     |██████▊                         | 51 kB 17.3 MB/s eta 0:00:01\r\u001b[K     |████████                        | 61 kB 15.1 MB/s eta 0:00:01\r\u001b[K     |█████████▍                      | 71 kB 13.4 MB/s eta 0:00:01\r\u001b[K     |██████████▊                     | 81 kB 14.6 MB/s eta 0:00:01\r\u001b[K     |████████████                    | 92 kB 15.4 MB/s eta 0:00:01\r\u001b[K     |█████████████▍                  | 102 kB 14.8 MB/s eta 0:00:01\r\u001b[K     |██████████████▊                 | 112 kB 14.8 MB/s eta 0:00:01\r\u001b[K     |████████████████                | 122 kB 14.8 MB/s eta 0:00:01\r\u001b[K     |█████████████████▍              | 133 kB 14.8 MB/s eta 0:00:01\r\u001b[K     |██████████████████▉             | 143 kB 14.8 MB/s eta 0:00:01\r\u001b[K     |████████████████████▏           | 153 kB 14.8 MB/s eta 0:00:01\r\u001b[K     |█████████████████████▌          | 163 kB 14.8 MB/s eta 0:00:01\r\u001b[K     |██████████████████████▉         | 174 kB 14.8 MB/s eta 0:00:01\r\u001b[K     |████████████████████████▏       | 184 kB 14.8 MB/s eta 0:00:01\r\u001b[K     |█████████████████████████▌      | 194 kB 14.8 MB/s eta 0:00:01\r\u001b[K     |██████████████████████████▉     | 204 kB 14.8 MB/s eta 0:00:01\r\u001b[K     |████████████████████████████▏   | 215 kB 14.8 MB/s eta 0:00:01\r\u001b[K     |█████████████████████████████▌  | 225 kB 14.8 MB/s eta 0:00:01\r\u001b[K     |██████████████████████████████▉ | 235 kB 14.8 MB/s eta 0:00:01\r\u001b[K     |████████████████████████████████| 244 kB 14.8 MB/s \n",
            "\u001b[?25hRequirement already satisfied: pyarabic in /usr/local/lib/python3.7/dist-packages (from Tashaphyne) (0.6.14)\n",
            "Requirement already satisfied: six>=1.14.0 in /usr/local/lib/python3.7/dist-packages (from pyarabic->Tashaphyne) (1.15.0)\n",
            "Installing collected packages: Tashaphyne\n",
            "Successfully installed Tashaphyne-0.3.4.1\n"
          ]
        }
      ],
      "source": [
        "!pip install Tashaphyne"
      ]
    },
    {
      "cell_type": "code",
      "execution_count": null,
      "metadata": {
        "colab": {
          "base_uri": "https://localhost:8080/"
        },
        "id": "oVWF23TaHU-2",
        "outputId": "1a753c9c-af6d-4854-83c2-295e82ca26ad"
      },
      "outputs": [
        {
          "output_type": "stream",
          "name": "stdout",
          "text": [
            "Collecting qalsadi\n",
            "  Downloading qalsadi-0.4.4-py3-none-any.whl (257 kB)\n",
            "\u001b[?25l\r\u001b[K     |█▎                              | 10 kB 25.1 MB/s eta 0:00:01\r\u001b[K     |██▌                             | 20 kB 31.2 MB/s eta 0:00:01\r\u001b[K     |███▉                            | 30 kB 34.2 MB/s eta 0:00:01\r\u001b[K     |█████                           | 40 kB 24.4 MB/s eta 0:00:01\r\u001b[K     |██████▍                         | 51 kB 18.2 MB/s eta 0:00:01\r\u001b[K     |███████▋                        | 61 kB 16.0 MB/s eta 0:00:01\r\u001b[K     |█████████                       | 71 kB 12.7 MB/s eta 0:00:01\r\u001b[K     |██████████▏                     | 81 kB 13.8 MB/s eta 0:00:01\r\u001b[K     |███████████▌                    | 92 kB 15.1 MB/s eta 0:00:01\r\u001b[K     |████████████▊                   | 102 kB 14.3 MB/s eta 0:00:01\r\u001b[K     |██████████████                  | 112 kB 14.3 MB/s eta 0:00:01\r\u001b[K     |███████████████▎                | 122 kB 14.3 MB/s eta 0:00:01\r\u001b[K     |████████████████▋               | 133 kB 14.3 MB/s eta 0:00:01\r\u001b[K     |█████████████████▉              | 143 kB 14.3 MB/s eta 0:00:01\r\u001b[K     |███████████████████▏            | 153 kB 14.3 MB/s eta 0:00:01\r\u001b[K     |████████████████████▍           | 163 kB 14.3 MB/s eta 0:00:01\r\u001b[K     |█████████████████████▋          | 174 kB 14.3 MB/s eta 0:00:01\r\u001b[K     |███████████████████████         | 184 kB 14.3 MB/s eta 0:00:01\r\u001b[K     |████████████████████████▏       | 194 kB 14.3 MB/s eta 0:00:01\r\u001b[K     |█████████████████████████▌      | 204 kB 14.3 MB/s eta 0:00:01\r\u001b[K     |██████████████████████████▊     | 215 kB 14.3 MB/s eta 0:00:01\r\u001b[K     |████████████████████████████    | 225 kB 14.3 MB/s eta 0:00:01\r\u001b[K     |█████████████████████████████▎  | 235 kB 14.3 MB/s eta 0:00:01\r\u001b[K     |██████████████████████████████▋ | 245 kB 14.3 MB/s eta 0:00:01\r\u001b[K     |███████████████████████████████▉| 256 kB 14.3 MB/s eta 0:00:01\r\u001b[K     |████████████████████████████████| 257 kB 14.3 MB/s \n",
            "\u001b[?25hCollecting arramooz-pysqlite>=0.3\n",
            "  Downloading arramooz_pysqlite-0.3-py3-none-any.whl (9.2 MB)\n",
            "\u001b[K     |████████████████████████████████| 9.2 MB 23.6 MB/s \n",
            "\u001b[?25hCollecting alyahmor>=0.1\n",
            "  Downloading alyahmor-0.1.2-py3-none-any.whl (50 kB)\n",
            "\u001b[K     |████████████████████████████████| 50 kB 7.2 MB/s \n",
            "\u001b[?25hRequirement already satisfied: pyarabic>=0.6.7 in /usr/local/lib/python3.7/dist-packages (from qalsadi) (0.6.14)\n",
            "Requirement already satisfied: future>=0.16.0 in /usr/local/lib/python3.7/dist-packages (from qalsadi) (0.16.0)\n",
            "Requirement already satisfied: six>=1.10.0 in /usr/local/lib/python3.7/dist-packages (from qalsadi) (1.15.0)\n",
            "Collecting libqutrub>=1.2.3\n",
            "  Downloading libqutrub-1.2.4.1-py3-none-any.whl (138 kB)\n",
            "\u001b[K     |████████████████████████████████| 138 kB 46.6 MB/s \n",
            "\u001b[?25hCollecting Arabic-Stopwords>=0.3\n",
            "  Downloading Arabic_Stopwords-0.3-py3-none-any.whl (353 kB)\n",
            "\u001b[K     |████████████████████████████████| 353 kB 81.7 MB/s \n",
            "\u001b[?25hCollecting pickledb>=0.9.2\n",
            "  Downloading pickleDB-0.9.2.tar.gz (3.7 kB)\n",
            "Requirement already satisfied: tashaphyne>=0.3.4.1 in /usr/local/lib/python3.7/dist-packages (from qalsadi) (0.3.4.1)\n",
            "Collecting naftawayh>=0.3\n",
            "  Downloading Naftawayh-0.4-py3-none-any.whl (332 kB)\n",
            "\u001b[K     |████████████████████████████████| 332 kB 74.5 MB/s \n",
            "\u001b[?25hBuilding wheels for collected packages: pickledb\n",
            "  Building wheel for pickledb (setup.py) ... \u001b[?25l\u001b[?25hdone\n",
            "  Created wheel for pickledb: filename=pickleDB-0.9.2-py3-none-any.whl size=4268 sha256=6895dea8867526569f3e58a56de8ebcecef5b29c0a130e59f4146daa1c1c973c\n",
            "  Stored in directory: /root/.cache/pip/wheels/08/34/42/9a7f94099208ce3d32638d98586a5a50f821db2fc75a3bdaae\n",
            "Successfully built pickledb\n",
            "Installing collected packages: libqutrub, pickledb, naftawayh, arramooz-pysqlite, Arabic-Stopwords, alyahmor, qalsadi\n",
            "Successfully installed Arabic-Stopwords-0.3 alyahmor-0.1.2 arramooz-pysqlite-0.3 libqutrub-1.2.4.1 naftawayh-0.4 pickledb-0.9.2 qalsadi-0.4.4\n"
          ]
        }
      ],
      "source": [
        "!pip install qalsadi"
      ]
    },
    {
      "cell_type": "code",
      "execution_count": null,
      "metadata": {
        "colab": {
          "base_uri": "https://localhost:8080/"
        },
        "id": "tQgwzDJY45Pw",
        "outputId": "253466fb-5746-480c-cab8-11268be6f0ff"
      },
      "outputs": [
        {
          "output_type": "stream",
          "name": "stdout",
          "text": [
            "Collecting sentence-transformers\n",
            "  Downloading sentence-transformers-2.1.0.tar.gz (78 kB)\n",
            "\u001b[K     |████████████████████████████████| 78 kB 5.4 MB/s \n",
            "\u001b[?25hCollecting transformers<5.0.0,>=4.6.0\n",
            "  Downloading transformers-4.15.0-py3-none-any.whl (3.4 MB)\n",
            "\u001b[K     |████████████████████████████████| 3.4 MB 57.8 MB/s \n",
            "\u001b[?25hCollecting tokenizers>=0.10.3\n",
            "  Downloading tokenizers-0.11.1-cp37-cp37m-manylinux_2_12_x86_64.manylinux2010_x86_64.whl (6.8 MB)\n",
            "\u001b[K     |████████████████████████████████| 6.8 MB 30.5 MB/s \n",
            "\u001b[?25hRequirement already satisfied: tqdm in /usr/local/lib/python3.7/dist-packages (from sentence-transformers) (4.62.3)\n",
            "Requirement already satisfied: torch>=1.6.0 in /usr/local/lib/python3.7/dist-packages (from sentence-transformers) (1.10.0+cu111)\n",
            "Requirement already satisfied: torchvision in /usr/local/lib/python3.7/dist-packages (from sentence-transformers) (0.11.1+cu111)\n",
            "Requirement already satisfied: numpy in /usr/local/lib/python3.7/dist-packages (from sentence-transformers) (1.19.5)\n",
            "Requirement already satisfied: scikit-learn in /usr/local/lib/python3.7/dist-packages (from sentence-transformers) (1.0.1)\n",
            "Requirement already satisfied: scipy in /usr/local/lib/python3.7/dist-packages (from sentence-transformers) (1.4.1)\n",
            "Requirement already satisfied: nltk in /usr/local/lib/python3.7/dist-packages (from sentence-transformers) (3.2.5)\n",
            "Collecting sentencepiece\n",
            "  Downloading sentencepiece-0.1.96-cp37-cp37m-manylinux_2_17_x86_64.manylinux2014_x86_64.whl (1.2 MB)\n",
            "\u001b[K     |████████████████████████████████| 1.2 MB 58.4 MB/s \n",
            "\u001b[?25hCollecting huggingface-hub\n",
            "  Downloading huggingface_hub-0.2.1-py3-none-any.whl (61 kB)\n",
            "\u001b[K     |████████████████████████████████| 61 kB 572 kB/s \n",
            "\u001b[?25hRequirement already satisfied: typing-extensions in /usr/local/lib/python3.7/dist-packages (from torch>=1.6.0->sentence-transformers) (3.10.0.2)\n",
            "Requirement already satisfied: packaging>=20.0 in /usr/local/lib/python3.7/dist-packages (from transformers<5.0.0,>=4.6.0->sentence-transformers) (21.3)\n",
            "Collecting pyyaml>=5.1\n",
            "  Downloading PyYAML-6.0-cp37-cp37m-manylinux_2_5_x86_64.manylinux1_x86_64.manylinux_2_12_x86_64.manylinux2010_x86_64.whl (596 kB)\n",
            "\u001b[K     |████████████████████████████████| 596 kB 45.0 MB/s \n",
            "\u001b[?25hRequirement already satisfied: importlib-metadata in /usr/local/lib/python3.7/dist-packages (from transformers<5.0.0,>=4.6.0->sentence-transformers) (4.8.2)\n",
            "Requirement already satisfied: regex!=2019.12.17 in /usr/local/lib/python3.7/dist-packages (from transformers<5.0.0,>=4.6.0->sentence-transformers) (2019.12.20)\n",
            "Collecting tokenizers>=0.10.3\n",
            "  Downloading tokenizers-0.10.3-cp37-cp37m-manylinux_2_5_x86_64.manylinux1_x86_64.manylinux_2_12_x86_64.manylinux2010_x86_64.whl (3.3 MB)\n",
            "\u001b[K     |████████████████████████████████| 3.3 MB 54.6 MB/s \n",
            "\u001b[?25hCollecting sacremoses\n",
            "  Downloading sacremoses-0.0.46-py3-none-any.whl (895 kB)\n",
            "\u001b[K     |████████████████████████████████| 895 kB 36.1 MB/s \n",
            "\u001b[?25hRequirement already satisfied: requests in /usr/local/lib/python3.7/dist-packages (from transformers<5.0.0,>=4.6.0->sentence-transformers) (2.23.0)\n",
            "Requirement already satisfied: filelock in /usr/local/lib/python3.7/dist-packages (from transformers<5.0.0,>=4.6.0->sentence-transformers) (3.4.0)\n",
            "Requirement already satisfied: pyparsing!=3.0.5,>=2.0.2 in /usr/local/lib/python3.7/dist-packages (from packaging>=20.0->transformers<5.0.0,>=4.6.0->sentence-transformers) (3.0.6)\n",
            "Requirement already satisfied: zipp>=0.5 in /usr/local/lib/python3.7/dist-packages (from importlib-metadata->transformers<5.0.0,>=4.6.0->sentence-transformers) (3.6.0)\n",
            "Requirement already satisfied: six in /usr/local/lib/python3.7/dist-packages (from nltk->sentence-transformers) (1.15.0)\n",
            "Requirement already satisfied: urllib3!=1.25.0,!=1.25.1,<1.26,>=1.21.1 in /usr/local/lib/python3.7/dist-packages (from requests->transformers<5.0.0,>=4.6.0->sentence-transformers) (1.24.3)\n",
            "Requirement already satisfied: chardet<4,>=3.0.2 in /usr/local/lib/python3.7/dist-packages (from requests->transformers<5.0.0,>=4.6.0->sentence-transformers) (3.0.4)\n",
            "Requirement already satisfied: idna<3,>=2.5 in /usr/local/lib/python3.7/dist-packages (from requests->transformers<5.0.0,>=4.6.0->sentence-transformers) (2.10)\n",
            "Requirement already satisfied: certifi>=2017.4.17 in /usr/local/lib/python3.7/dist-packages (from requests->transformers<5.0.0,>=4.6.0->sentence-transformers) (2021.10.8)\n",
            "Requirement already satisfied: joblib in /usr/local/lib/python3.7/dist-packages (from sacremoses->transformers<5.0.0,>=4.6.0->sentence-transformers) (1.1.0)\n",
            "Requirement already satisfied: click in /usr/local/lib/python3.7/dist-packages (from sacremoses->transformers<5.0.0,>=4.6.0->sentence-transformers) (7.1.2)\n",
            "Requirement already satisfied: threadpoolctl>=2.0.0 in /usr/local/lib/python3.7/dist-packages (from scikit-learn->sentence-transformers) (3.0.0)\n",
            "Requirement already satisfied: pillow!=8.3.0,>=5.3.0 in /usr/local/lib/python3.7/dist-packages (from torchvision->sentence-transformers) (7.1.2)\n",
            "Building wheels for collected packages: sentence-transformers\n",
            "  Building wheel for sentence-transformers (setup.py) ... \u001b[?25l\u001b[?25hdone\n",
            "  Created wheel for sentence-transformers: filename=sentence_transformers-2.1.0-py3-none-any.whl size=121000 sha256=5b46f48453c84e071935fd4e9680dd2b7fee3a7d51e0d9392105f7fce9c3de7d\n",
            "  Stored in directory: /root/.cache/pip/wheels/90/f0/bb/ed1add84da70092ea526466eadc2bfb197c4bcb8d4fa5f7bad\n",
            "Successfully built sentence-transformers\n",
            "Installing collected packages: pyyaml, tokenizers, sacremoses, huggingface-hub, transformers, sentencepiece, sentence-transformers\n",
            "  Attempting uninstall: pyyaml\n",
            "    Found existing installation: PyYAML 3.13\n",
            "    Uninstalling PyYAML-3.13:\n",
            "      Successfully uninstalled PyYAML-3.13\n",
            "Successfully installed huggingface-hub-0.2.1 pyyaml-6.0 sacremoses-0.0.46 sentence-transformers-2.1.0 sentencepiece-0.1.96 tokenizers-0.10.3 transformers-4.15.0\n"
          ]
        }
      ],
      "source": [
        "!pip install -U sentence-transformers"
      ]
    },
    {
      "cell_type": "code",
      "execution_count": null,
      "metadata": {
        "colab": {
          "base_uri": "https://localhost:8080/"
        },
        "id": "E2WPegq-494F",
        "outputId": "c9453869-3fcc-4643-f08b-4c276a8f3875"
      },
      "outputs": [
        {
          "output_type": "stream",
          "name": "stdout",
          "text": [
            "Collecting farasapy\n",
            "  Downloading farasapy-0.0.14-py3-none-any.whl (11 kB)\n",
            "Requirement already satisfied: requests in /usr/local/lib/python3.7/dist-packages (from farasapy) (2.23.0)\n",
            "Requirement already satisfied: tqdm in /usr/local/lib/python3.7/dist-packages (from farasapy) (4.62.3)\n",
            "Requirement already satisfied: certifi>=2017.4.17 in /usr/local/lib/python3.7/dist-packages (from requests->farasapy) (2021.10.8)\n",
            "Requirement already satisfied: urllib3!=1.25.0,!=1.25.1,<1.26,>=1.21.1 in /usr/local/lib/python3.7/dist-packages (from requests->farasapy) (1.24.3)\n",
            "Requirement already satisfied: idna<3,>=2.5 in /usr/local/lib/python3.7/dist-packages (from requests->farasapy) (2.10)\n",
            "Requirement already satisfied: chardet<4,>=3.0.2 in /usr/local/lib/python3.7/dist-packages (from requests->farasapy) (3.0.4)\n",
            "Installing collected packages: farasapy\n",
            "Successfully installed farasapy-0.0.14\n"
          ]
        }
      ],
      "source": [
        "!pip install farasapy"
      ]
    },
    {
      "cell_type": "code",
      "execution_count": null,
      "metadata": {
        "colab": {
          "base_uri": "https://localhost:8080/"
        },
        "id": "oz09I2-u5B41",
        "outputId": "6716d249-e09d-4011-a516-cc1fba6311e0"
      },
      "outputs": [
        {
          "output_type": "stream",
          "name": "stdout",
          "text": [
            "Requirement already satisfied: farasapy in /usr/local/lib/python3.7/dist-packages (0.0.14)\n",
            "Requirement already satisfied: tqdm in /usr/local/lib/python3.7/dist-packages (from farasapy) (4.62.3)\n",
            "Requirement already satisfied: requests in /usr/local/lib/python3.7/dist-packages (from farasapy) (2.23.0)\n",
            "Requirement already satisfied: chardet<4,>=3.0.2 in /usr/local/lib/python3.7/dist-packages (from requests->farasapy) (3.0.4)\n",
            "Requirement already satisfied: idna<3,>=2.5 in /usr/local/lib/python3.7/dist-packages (from requests->farasapy) (2.10)\n",
            "Requirement already satisfied: urllib3!=1.25.0,!=1.25.1,<1.26,>=1.21.1 in /usr/local/lib/python3.7/dist-packages (from requests->farasapy) (1.24.3)\n",
            "Requirement already satisfied: certifi>=2017.4.17 in /usr/local/lib/python3.7/dist-packages (from requests->farasapy) (2021.10.8)\n"
          ]
        }
      ],
      "source": [
        "!pip  install -U farasapy"
      ]
    },
    {
      "cell_type": "code",
      "execution_count": null,
      "metadata": {
        "colab": {
          "base_uri": "https://localhost:8080/"
        },
        "id": "DA66Pter5EFM",
        "outputId": "82e20fe7-e3e8-432a-f51a-72543e9bc84b"
      },
      "outputs": [
        {
          "output_type": "stream",
          "name": "stdout",
          "text": [
            "Requirement already satisfied: transformers in /usr/local/lib/python3.7/dist-packages (4.15.0)\n",
            "Requirement already satisfied: packaging>=20.0 in /usr/local/lib/python3.7/dist-packages (from transformers) (21.3)\n",
            "Requirement already satisfied: tokenizers<0.11,>=0.10.1 in /usr/local/lib/python3.7/dist-packages (from transformers) (0.10.3)\n",
            "Requirement already satisfied: pyyaml>=5.1 in /usr/local/lib/python3.7/dist-packages (from transformers) (6.0)\n",
            "Requirement already satisfied: huggingface-hub<1.0,>=0.1.0 in /usr/local/lib/python3.7/dist-packages (from transformers) (0.2.1)\n",
            "Requirement already satisfied: regex!=2019.12.17 in /usr/local/lib/python3.7/dist-packages (from transformers) (2019.12.20)\n",
            "Requirement already satisfied: importlib-metadata in /usr/local/lib/python3.7/dist-packages (from transformers) (4.8.2)\n",
            "Requirement already satisfied: sacremoses in /usr/local/lib/python3.7/dist-packages (from transformers) (0.0.46)\n",
            "Requirement already satisfied: numpy>=1.17 in /usr/local/lib/python3.7/dist-packages (from transformers) (1.19.5)\n",
            "Requirement already satisfied: tqdm>=4.27 in /usr/local/lib/python3.7/dist-packages (from transformers) (4.62.3)\n",
            "Requirement already satisfied: filelock in /usr/local/lib/python3.7/dist-packages (from transformers) (3.4.0)\n",
            "Requirement already satisfied: requests in /usr/local/lib/python3.7/dist-packages (from transformers) (2.23.0)\n",
            "Requirement already satisfied: typing-extensions>=3.7.4.3 in /usr/local/lib/python3.7/dist-packages (from huggingface-hub<1.0,>=0.1.0->transformers) (3.10.0.2)\n",
            "Requirement already satisfied: pyparsing!=3.0.5,>=2.0.2 in /usr/local/lib/python3.7/dist-packages (from packaging>=20.0->transformers) (3.0.6)\n",
            "Requirement already satisfied: zipp>=0.5 in /usr/local/lib/python3.7/dist-packages (from importlib-metadata->transformers) (3.6.0)\n",
            "Requirement already satisfied: urllib3!=1.25.0,!=1.25.1,<1.26,>=1.21.1 in /usr/local/lib/python3.7/dist-packages (from requests->transformers) (1.24.3)\n",
            "Requirement already satisfied: idna<3,>=2.5 in /usr/local/lib/python3.7/dist-packages (from requests->transformers) (2.10)\n",
            "Requirement already satisfied: chardet<4,>=3.0.2 in /usr/local/lib/python3.7/dist-packages (from requests->transformers) (3.0.4)\n",
            "Requirement already satisfied: certifi>=2017.4.17 in /usr/local/lib/python3.7/dist-packages (from requests->transformers) (2021.10.8)\n",
            "Requirement already satisfied: joblib in /usr/local/lib/python3.7/dist-packages (from sacremoses->transformers) (1.1.0)\n",
            "Requirement already satisfied: click in /usr/local/lib/python3.7/dist-packages (from sacremoses->transformers) (7.1.2)\n",
            "Requirement already satisfied: six in /usr/local/lib/python3.7/dist-packages (from sacremoses->transformers) (1.15.0)\n",
            "Requirement already satisfied: farasapy in /usr/local/lib/python3.7/dist-packages (0.0.14)\n",
            "Requirement already satisfied: tqdm in /usr/local/lib/python3.7/dist-packages (from farasapy) (4.62.3)\n",
            "Requirement already satisfied: requests in /usr/local/lib/python3.7/dist-packages (from farasapy) (2.23.0)\n",
            "Requirement already satisfied: urllib3!=1.25.0,!=1.25.1,<1.26,>=1.21.1 in /usr/local/lib/python3.7/dist-packages (from requests->farasapy) (1.24.3)\n",
            "Requirement already satisfied: idna<3,>=2.5 in /usr/local/lib/python3.7/dist-packages (from requests->farasapy) (2.10)\n",
            "Requirement already satisfied: certifi>=2017.4.17 in /usr/local/lib/python3.7/dist-packages (from requests->farasapy) (2021.10.8)\n",
            "Requirement already satisfied: chardet<4,>=3.0.2 in /usr/local/lib/python3.7/dist-packages (from requests->farasapy) (3.0.4)\n",
            "Requirement already satisfied: pyarabic in /usr/local/lib/python3.7/dist-packages (0.6.14)\n",
            "Requirement already satisfied: six>=1.14.0 in /usr/local/lib/python3.7/dist-packages (from pyarabic) (1.15.0)\n",
            "Cloning into 'arabert'...\n",
            "remote: Enumerating objects: 559, done.\u001b[K\n",
            "remote: Counting objects: 100% (345/345), done.\u001b[K\n",
            "remote: Compressing objects: 100% (247/247), done.\u001b[K\n",
            "remote: Total 559 (delta 184), reused 246 (delta 92), pack-reused 214\u001b[K\n",
            "Receiving objects: 100% (559/559), 9.16 MiB | 18.94 MiB/s, done.\n",
            "Resolving deltas: 100% (307/307), done.\n"
          ]
        }
      ],
      "source": [
        "!pip install transformers\n",
        "!pip install farasapy\n",
        "!pip install pyarabic\n",
        "!git clone https://github.com/aub-mind/arabert"
      ]
    },
    {
      "cell_type": "code",
      "execution_count": null,
      "metadata": {
        "id": "po-gvF2B5PcI"
      },
      "outputs": [],
      "source": [
        "import nltk\n",
        "import re\n",
        "import pandas as pd\n",
        "import numpy as np\n",
        "import matplotlib.pyplot as plt           \n",
        "import matplotlib\n",
        "import os\n",
        "import string\n",
        "from wordcloud import WordCloud\n",
        "from collections import Counter\n",
        "from nltk.tokenize import TweetTokenizer\n",
        "from nltk.tokenize import TreebankWordTokenizer\n",
        "from nltk.tokenize import word_tokenize\n",
        "from textblob import TextBlob\n",
        "from nltk.corpus import stopwords\n",
        "from sklearn.model_selection import train_test_split\n",
        "from sklearn.feature_extraction.text import TfidfVectorizer\n",
        "from sklearn.model_selection import train_test_split\n",
        "import pyarabic.araby as araby\n",
        "import pyarabic\n",
        "from tashaphyne.stemming import ArabicLightStemmer\n",
        "import qalsadi.lemmatizer\n",
        "from nltk.stem.isri import ISRIStemmer\n",
        "\n",
        "\n",
        "\n",
        "#import tkseem as tk\n",
        "\n",
        "from farasa.stemmer import FarasaStemmer\n",
        "\n",
        "import gensim\n",
        "from gensim.utils import simple_preprocess\n",
        "from gensim.parsing.preprocessing import STOPWORDS\n",
        "from gensim import corpora, models\n",
        "\n",
        "from sentence_transformers import SentenceTransformer\n",
        "\n",
        "from arabert.preprocess import ArabertPreprocessor\n",
        "\n",
        "from keras.preprocessing.sequence import pad_sequences\n",
        "from keras.layers import Embedding, LSTM, Dense, Dropout,Bidirectional\n",
        "from keras.preprocessing.text import Tokenizer\n",
        "from keras.callbacks import EarlyStopping\n",
        "from keras.models import Sequential\n",
        "from keras import utils as ku\n",
        "from tensorflow.keras.utils import to_categorical\n",
        "from keras import regularizers\n",
        "#import keras.utils as ku\n",
        "import tensorflow as tf\n",
        "tf.random.set_seed(2)\n",
        "from numpy.random import seed\n",
        "seed(1)"
      ]
    },
    {
      "cell_type": "code",
      "execution_count": null,
      "metadata": {
        "colab": {
          "base_uri": "https://localhost:8080/"
        },
        "id": "--ftoC065URW",
        "outputId": "94588193-075b-4d63-f6ca-efe3b960320a"
      },
      "outputs": [
        {
          "output_type": "stream",
          "name": "stdout",
          "text": [
            "[nltk_data] Downloading package punkt to /root/nltk_data...\n",
            "[nltk_data]   Unzipping tokenizers/punkt.zip.\n",
            "[nltk_data] Downloading package wordnet to /root/nltk_data...\n",
            "[nltk_data]   Unzipping corpora/wordnet.zip.\n"
          ]
        },
        {
          "output_type": "execute_result",
          "data": {
            "text/plain": [
              "True"
            ]
          },
          "metadata": {},
          "execution_count": 10
        }
      ],
      "source": [
        "np.random.seed(2018)\n",
        "nltk.download('punkt')\n",
        "nltk.download('wordnet')"
      ]
    },
    {
      "cell_type": "code",
      "source": [
        "nltk.download('all')"
      ],
      "metadata": {
        "id": "kQaj7Np90onn"
      },
      "execution_count": null,
      "outputs": []
    },
    {
      "cell_type": "code",
      "execution_count": null,
      "metadata": {
        "colab": {
          "base_uri": "https://localhost:8080/"
        },
        "id": "SmA2E80X5aHx",
        "outputId": "af5f71c2-f86a-4904-94ca-b671d91f56b1"
      },
      "outputs": [
        {
          "output_type": "stream",
          "name": "stdout",
          "text": [
            "Mounted at /content/drive\n"
          ]
        }
      ],
      "source": [
        "from google.colab import drive\n",
        "drive.mount('/content/drive')"
      ]
    },
    {
      "cell_type": "code",
      "execution_count": null,
      "metadata": {
        "colab": {
          "base_uri": "https://localhost:8080/"
        },
        "id": "IPEvVX7-8P14",
        "outputId": "343972d0-1e15-4f90-fb78-85ba495fa420"
      },
      "outputs": [
        {
          "output_type": "stream",
          "name": "stdout",
          "text": [
            "Done\n"
          ]
        }
      ],
      "source": [
        "from zipfile import ZipFile\n",
        "file_name=\"/content/drive/MyDrive/trainTitle.zip\"\n",
        "with ZipFile (file_name,'r') as zip:\n",
        "   zip.extractall()\n",
        "   print('Done')"
      ]
    },
    {
      "cell_type": "code",
      "execution_count": null,
      "metadata": {
        "colab": {
          "base_uri": "https://localhost:8080/"
        },
        "id": "B1dc055OFSS9",
        "outputId": "ecf881fa-d4ab-4915-eabf-eece876a2bcb"
      },
      "outputs": [
        {
          "output_type": "stream",
          "name": "stdout",
          "text": [
            "Done\n"
          ]
        }
      ],
      "source": [
        "from zipfile import ZipFile\n",
        "file_name=\"/content/drive/MyDrive/train.zip\"\n",
        "with ZipFile (file_name,'r') as zip:\n",
        "   zip.extractall()\n",
        "   print('Done')"
      ]
    },
    {
      "cell_type": "code",
      "execution_count": null,
      "metadata": {
        "colab": {
          "base_uri": "https://localhost:8080/"
        },
        "id": "uaCxINZ_VwHb",
        "outputId": "317d98fa-deaf-4bdd-9546-b5961cd4be0b"
      },
      "outputs": [
        {
          "output_type": "stream",
          "name": "stdout",
          "text": [
            "Done\n"
          ]
        }
      ],
      "source": [
        "from zipfile import ZipFile\n",
        "file_name=\"/content/drive/MyDrive/test.zip\"\n",
        "with ZipFile (file_name,'r') as zip:\n",
        "   zip.extractall()\n",
        "   print('Done')"
      ]
    },
    {
      "cell_type": "code",
      "execution_count": null,
      "metadata": {
        "colab": {
          "base_uri": "https://localhost:8080/"
        },
        "id": "d--zn2qGXEVW",
        "outputId": "2f8eacde-5fc6-43a5-b573-a7377a598447"
      },
      "outputs": [
        {
          "output_type": "stream",
          "name": "stdout",
          "text": [
            "Done\n"
          ]
        }
      ],
      "source": [
        "from zipfile import ZipFile\n",
        "file_name=\"/content/drive/MyDrive/trainTitle.zip\"\n",
        "with ZipFile (file_name,'r') as zip:\n",
        "   zip.extractall()\n",
        "   print('Done')"
      ]
    },
    {
      "cell_type": "code",
      "source": [
        "#processStory\n",
        "from zipfile import ZipFile\n",
        "file_name=\"/content/drive/MyDrive/process8.zip\"\n",
        "with ZipFile (file_name,'r') as zip:\n",
        "   zip.extractall()\n",
        "   print('Done')"
      ],
      "metadata": {
        "colab": {
          "base_uri": "https://localhost:8080/"
        },
        "id": "JwCOD18ex8wL",
        "outputId": "18d3dd5b-3f85-4fff-c5e3-b1213276a506"
      },
      "execution_count": null,
      "outputs": [
        {
          "output_type": "stream",
          "name": "stdout",
          "text": [
            "Done\n"
          ]
        }
      ]
    },
    {
      "cell_type": "markdown",
      "metadata": {
        "id": "wtI96vdSJxCX"
      },
      "source": [
        "## read data from csv file"
      ]
    },
    {
      "cell_type": "code",
      "execution_count": null,
      "metadata": {
        "id": "IDF5CudcCji8"
      },
      "outputs": [],
      "source": [
        "test = pd.read_csv('trainTitle/test.csv')"
      ]
    },
    {
      "cell_type": "code",
      "execution_count": null,
      "metadata": {
        "id": "CmejIVCvJ0V9"
      },
      "outputs": [],
      "source": [
        "train = pd.read_csv('trainTitle/train.csv')"
      ]
    },
    {
      "cell_type": "code",
      "execution_count": null,
      "metadata": {
        "colab": {
          "base_uri": "https://localhost:8080/",
          "height": 206
        },
        "id": "bB7SuhpIJ1_P",
        "outputId": "2edd9449-e46e-4c4e-9415-277c2613bd98"
      },
      "outputs": [
        {
          "output_type": "execute_result",
          "data": {
            "text/html": [
              "\n",
              "  <div id=\"df-4c20e07b-073a-49b2-8be8-6c8798330aa8\">\n",
              "    <div class=\"colab-df-container\">\n",
              "      <div>\n",
              "<style scoped>\n",
              "    .dataframe tbody tr th:only-of-type {\n",
              "        vertical-align: middle;\n",
              "    }\n",
              "\n",
              "    .dataframe tbody tr th {\n",
              "        vertical-align: top;\n",
              "    }\n",
              "\n",
              "    .dataframe thead th {\n",
              "        text-align: right;\n",
              "    }\n",
              "</style>\n",
              "<table border=\"1\" class=\"dataframe\">\n",
              "  <thead>\n",
              "    <tr style=\"text-align: right;\">\n",
              "      <th></th>\n",
              "      <th>title</th>\n",
              "      <th>story</th>\n",
              "    </tr>\n",
              "  </thead>\n",
              "  <tbody>\n",
              "    <tr>\n",
              "      <th>0</th>\n",
              "      <td>\"كوسومار\" تدعم تصميم جهاز ذكي للتنفس الاصطناعي...</td>\n",
              "      <td>تدعيماً للجهود الحكومية في احتواء \"أزمة كورونا...</td>\n",
              "    </tr>\n",
              "    <tr>\n",
              "      <th>1</th>\n",
              "      <td>رصيف الصحافة: \"السكة\" تطبع \"البيرمي\" والبطائق ...</td>\n",
              "      <td>NaN</td>\n",
              "    </tr>\n",
              "    <tr>\n",
              "      <th>2</th>\n",
              "      <td>عبد الصمد الإدريسي .. مغربي يتفوّق على \"أبطال ...</td>\n",
              "      <td>NaN</td>\n",
              "    </tr>\n",
              "    <tr>\n",
              "      <th>3</th>\n",
              "      <td>المغربي \"صلاح\" ينضم إلى أرسنال بعقد احترافي</td>\n",
              "      <td>عزّز نادي أرسنال الإنجليزي لكرة القدم صفوفه بت...</td>\n",
              "    </tr>\n",
              "    <tr>\n",
              "      <th>4</th>\n",
              "      <td>التحاليل تكشف 30 إصابة جديدة بكورونا في بولمان</td>\n",
              "      <td>سجل إقليم بولمان، ما بين ليلة السبت وظهر الأحد...</td>\n",
              "    </tr>\n",
              "  </tbody>\n",
              "</table>\n",
              "</div>\n",
              "      <button class=\"colab-df-convert\" onclick=\"convertToInteractive('df-4c20e07b-073a-49b2-8be8-6c8798330aa8')\"\n",
              "              title=\"Convert this dataframe to an interactive table.\"\n",
              "              style=\"display:none;\">\n",
              "        \n",
              "  <svg xmlns=\"http://www.w3.org/2000/svg\" height=\"24px\"viewBox=\"0 0 24 24\"\n",
              "       width=\"24px\">\n",
              "    <path d=\"M0 0h24v24H0V0z\" fill=\"none\"/>\n",
              "    <path d=\"M18.56 5.44l.94 2.06.94-2.06 2.06-.94-2.06-.94-.94-2.06-.94 2.06-2.06.94zm-11 1L8.5 8.5l.94-2.06 2.06-.94-2.06-.94L8.5 2.5l-.94 2.06-2.06.94zm10 10l.94 2.06.94-2.06 2.06-.94-2.06-.94-.94-2.06-.94 2.06-2.06.94z\"/><path d=\"M17.41 7.96l-1.37-1.37c-.4-.4-.92-.59-1.43-.59-.52 0-1.04.2-1.43.59L10.3 9.45l-7.72 7.72c-.78.78-.78 2.05 0 2.83L4 21.41c.39.39.9.59 1.41.59.51 0 1.02-.2 1.41-.59l7.78-7.78 2.81-2.81c.8-.78.8-2.07 0-2.86zM5.41 20L4 18.59l7.72-7.72 1.47 1.35L5.41 20z\"/>\n",
              "  </svg>\n",
              "      </button>\n",
              "      \n",
              "  <style>\n",
              "    .colab-df-container {\n",
              "      display:flex;\n",
              "      flex-wrap:wrap;\n",
              "      gap: 12px;\n",
              "    }\n",
              "\n",
              "    .colab-df-convert {\n",
              "      background-color: #E8F0FE;\n",
              "      border: none;\n",
              "      border-radius: 50%;\n",
              "      cursor: pointer;\n",
              "      display: none;\n",
              "      fill: #1967D2;\n",
              "      height: 32px;\n",
              "      padding: 0 0 0 0;\n",
              "      width: 32px;\n",
              "    }\n",
              "\n",
              "    .colab-df-convert:hover {\n",
              "      background-color: #E2EBFA;\n",
              "      box-shadow: 0px 1px 2px rgba(60, 64, 67, 0.3), 0px 1px 3px 1px rgba(60, 64, 67, 0.15);\n",
              "      fill: #174EA6;\n",
              "    }\n",
              "\n",
              "    [theme=dark] .colab-df-convert {\n",
              "      background-color: #3B4455;\n",
              "      fill: #D2E3FC;\n",
              "    }\n",
              "\n",
              "    [theme=dark] .colab-df-convert:hover {\n",
              "      background-color: #434B5C;\n",
              "      box-shadow: 0px 1px 3px 1px rgba(0, 0, 0, 0.15);\n",
              "      filter: drop-shadow(0px 1px 2px rgba(0, 0, 0, 0.3));\n",
              "      fill: #FFFFFF;\n",
              "    }\n",
              "  </style>\n",
              "\n",
              "      <script>\n",
              "        const buttonEl =\n",
              "          document.querySelector('#df-4c20e07b-073a-49b2-8be8-6c8798330aa8 button.colab-df-convert');\n",
              "        buttonEl.style.display =\n",
              "          google.colab.kernel.accessAllowed ? 'block' : 'none';\n",
              "\n",
              "        async function convertToInteractive(key) {\n",
              "          const element = document.querySelector('#df-4c20e07b-073a-49b2-8be8-6c8798330aa8');\n",
              "          const dataTable =\n",
              "            await google.colab.kernel.invokeFunction('convertToInteractive',\n",
              "                                                     [key], {});\n",
              "          if (!dataTable) return;\n",
              "\n",
              "          const docLinkHtml = 'Like what you see? Visit the ' +\n",
              "            '<a target=\"_blank\" href=https://colab.research.google.com/notebooks/data_table.ipynb>data table notebook</a>'\n",
              "            + ' to learn more about interactive tables.';\n",
              "          element.innerHTML = '';\n",
              "          dataTable['output_type'] = 'display_data';\n",
              "          await google.colab.output.renderOutput(dataTable, element);\n",
              "          const docLink = document.createElement('div');\n",
              "          docLink.innerHTML = docLinkHtml;\n",
              "          element.appendChild(docLink);\n",
              "        }\n",
              "      </script>\n",
              "    </div>\n",
              "  </div>\n",
              "  "
            ],
            "text/plain": [
              "                                               title                                              story\n",
              "0  \"كوسومار\" تدعم تصميم جهاز ذكي للتنفس الاصطناعي...  تدعيماً للجهود الحكومية في احتواء \"أزمة كورونا...\n",
              "1  رصيف الصحافة: \"السكة\" تطبع \"البيرمي\" والبطائق ...                                                NaN\n",
              "2  عبد الصمد الإدريسي .. مغربي يتفوّق على \"أبطال ...                                                NaN\n",
              "3        المغربي \"صلاح\" ينضم إلى أرسنال بعقد احترافي  عزّز نادي أرسنال الإنجليزي لكرة القدم صفوفه بت...\n",
              "4     التحاليل تكشف 30 إصابة جديدة بكورونا في بولمان  سجل إقليم بولمان، ما بين ليلة السبت وظهر الأحد..."
            ]
          },
          "metadata": {},
          "execution_count": 7
        }
      ],
      "source": [
        "train.head()"
      ]
    },
    {
      "cell_type": "markdown",
      "metadata": {
        "id": "B2p1CQkoJ-VO"
      },
      "source": [
        "## Clean the Data"
      ]
    },
    {
      "cell_type": "code",
      "execution_count": null,
      "metadata": {
        "colab": {
          "base_uri": "https://localhost:8080/"
        },
        "id": "59qnsSIaJ3qb",
        "outputId": "9bc969ea-b130-4e5e-f32b-70908e9971ce"
      },
      "outputs": [
        {
          "output_type": "execute_result",
          "data": {
            "text/plain": [
              "4594"
            ]
          },
          "metadata": {},
          "execution_count": 17
        }
      ],
      "source": [
        "#check if you have duplicated in data\n",
        "train.duplicated().sum()\n",
        "train['story'].duplicated().sum()"
      ]
    },
    {
      "cell_type": "code",
      "execution_count": null,
      "metadata": {
        "id": "DUW1YlgjKBvg"
      },
      "outputs": [],
      "source": [
        "# dropping ALL duplicate values\n",
        "train.drop_duplicates(subset =\"story\",\n",
        "                     keep = False, inplace = True)"
      ]
    },
    {
      "cell_type": "code",
      "execution_count": null,
      "metadata": {
        "colab": {
          "base_uri": "https://localhost:8080/"
        },
        "id": "fvqTIxW1KECW",
        "outputId": "b0a2fbfd-5025-4ccc-9b32-2c5054f1ecda"
      },
      "outputs": [
        {
          "output_type": "execute_result",
          "data": {
            "text/plain": [
              "0"
            ]
          },
          "metadata": {},
          "execution_count": 19
        }
      ],
      "source": [
        "train['story'].duplicated().sum()"
      ]
    },
    {
      "cell_type": "code",
      "execution_count": null,
      "metadata": {
        "id": "fD-cji22KF1G"
      },
      "outputs": [],
      "source": [
        "#remove duplicate from tweet\n",
        "def remov_duplicates(tweet,work):\n",
        "   \n",
        "   \"\"\"Process tweet function.\n",
        "    Input:\n",
        "        tweet: a string containing a tweet without changing\n",
        "    Output:\n",
        "        cleaned_tweet: tweet after removing duplicates\n",
        "\n",
        "    \"\"\"\n",
        "   if work ==1:\n",
        "      newtweet = re.sub(r'(\\w)\\1+', r'\\1', tweet)\n",
        "   else:\n",
        "     newtweet = tweet\n",
        "   return newtweet"
      ]
    },
    {
      "cell_type": "code",
      "execution_count": null,
      "metadata": {
        "id": "oCaBGkRaKJdq"
      },
      "outputs": [],
      "source": [
        "# remove punctuation\n",
        "\n",
        "def remove_punctuation(tweet,work):\n",
        "   \"\"\"Process tweet function.\n",
        "    Input:\n",
        "        tweet: a string containing a tweet without changing\n",
        "    Output:\n",
        "        cleaned_tweet: tweet after removing punctuation\n",
        "\n",
        "    \"\"\"\n",
        "   #punctuatuions = '''`÷×؛<>_()*&^%][ـ،/:\"؟.,'{}~¦+|!”…“–ـ'''\n",
        "   if work ==1:\n",
        "      newtweet = re.sub('''`÷×؛<>_()*&^%][ـ،/:\"؟.,'{}~¦+|!”…“–ـ''', ' ', tweet)\n",
        "   else:\n",
        "     newtweet = tweet\n",
        "   return newtweet"
      ]
    },
    {
      "cell_type": "code",
      "execution_count": null,
      "metadata": {
        "id": "4ilVQRItKLW4"
      },
      "outputs": [],
      "source": [
        "def remove_tweets_other(in_text,work):#تنضيف الداتا من علامات الترقيم والمحارف غير الضرورية و التشكيل\n",
        "    if work ==1:\n",
        "       pattern = r\"\\n|,|;|\\(|\\)|\\}|\\{|\\||\\.|\\|\\$|\\\"|\\'|/|%|\\\\|\\*|\\^|\\&|\\+\\-|~|؟|،|…|-|﴿|﴾|•|<|>|»|«|:|؛|ّ|َ|ً|ٍ|ِ|ْ|ٌ|ُ\"\n",
        "       out_text =re.sub(pattern,'',in_text)\n",
        "    else:\n",
        "      out_text = in_text\n",
        "    return out_text"
      ]
    },
    {
      "cell_type": "code",
      "execution_count": null,
      "metadata": {
        "id": "m_otVv6aKNw5"
      },
      "outputs": [],
      "source": [
        "#حذف المحارف غير العربية\n",
        "def remove_english(tweet,work):\n",
        "  #input:تغريدة واحدة\n",
        "  #on\n",
        "  if(work ==1):\n",
        "\n",
        "    #نحذف كل المحارف غير العربية\n",
        "    tweet_arabic = re.sub(r'\\s*[^ا-ي]+\\b', ' ' , tweet)\n",
        "    #output:التويتة بعد حذف المحارف غير العربية\n",
        "    return tweet_arabic\n",
        "  #off\n",
        "  else:\n",
        "    return(tweet)"
      ]
    },
    {
      "cell_type": "code",
      "execution_count": null,
      "metadata": {
        "id": "YIlroGYgKPlB"
      },
      "outputs": [],
      "source": [
        "def normalizeArabic(text,work):\n",
        "   \"\"\"Process tweet function.\n",
        "    Input:\n",
        "        tweet: a string containing a tweet without changing\n",
        "    Output:\n",
        "        cleaned_tweet: tweet after normalize Arabic word\n",
        "\n",
        "    \"\"\"\n",
        "   text = text.strip()\n",
        "   text = re.sub(\"[إأٱآا]\", \"ا\", text)\n",
        "   text = re.sub(\"ى\", \"ي\", text)\n",
        "   text = re.sub(\"ؤ\", \"ء\", text)\n",
        "   text = re.sub(\"ئ\", \"ء\", text)\n",
        "   text = re.sub(\"ة\", \"ه\", text)\n",
        "   noise = re.compile(\"\"\" ّ    | # Tashdid\n",
        "                             َ    | # Fatha\n",
        "                             ً    | # Tanwin Fath\n",
        "                             ُ    | # Damma\n",
        "                             ٌ    | # Tanwin Damm\n",
        "                             ِ    | # Kasra\n",
        "                             ٍ    | # Tanwin Kasr\n",
        "                             ْ    | # Sukun\n",
        "                             ـ     # Tatwil/Kashida\n",
        "                         \"\"\", re.VERBOSE)\n",
        "   text = re.sub(noise, '', text)\n",
        "   text = re.sub(r'(.)\\1+', r\"\\1\\1\", text) # Remove longation\n",
        "\n",
        "   if work == 1:\n",
        "     newtweet = araby.strip_tashkeel(text)\n",
        "   else:\n",
        "     newtweet = text\n",
        "     \n",
        "   return newtweet"
      ]
    },
    {
      "cell_type": "code",
      "execution_count": null,
      "metadata": {
        "id": "PZgGQ97bKRXF"
      },
      "outputs": [],
      "source": [
        "#استخدام مكتبة لايجاد الجذور للكلمات باللغة العربية  \n",
        "def lemmetize_word(tweet,work):\n",
        "   \"\"\"Process tweet function.\n",
        "    Input:\n",
        "        tweet: a string containing a tweet without changing\n",
        "     Output:\n",
        "        cleaned_tweet: tweet after normalize Arabic lemmetize \n",
        "        \n",
        "\n",
        "   \"\"\" \n",
        "   if work == 1:\n",
        "     lemmer = qalsadi.lemmatizer.Lemmatizer()\n",
        "     lemmas = lemmer.lemmatize(tweet)\n",
        "   else:\n",
        "     lemmas = tweet\n",
        "   return lemmas"
      ]
    },
    {
      "cell_type": "code",
      "execution_count": null,
      "metadata": {
        "id": "AvRlJ4mNKT3f"
      },
      "outputs": [],
      "source": [
        "arepr = pyarabic.arabrepr.ArabicRepr()\n",
        "repr = arepr.repr\n",
        "ArListem = ArabicLightStemmer()"
      ]
    },
    {
      "cell_type": "code",
      "execution_count": null,
      "metadata": {
        "id": "DOEH4RSyKV9e"
      },
      "outputs": [],
      "source": [
        "def stemming(text,work):\n",
        "    \"\"\"Process tweet function.\n",
        "    Input:\n",
        "        tweet: a string containing a tweet without changing\n",
        "    Output:\n",
        "        cleaned_tweet: tweet after normalize Arabic stemming \n",
        "    \"\"\" \n",
        "  \n",
        "    #print(text)\n",
        "    strem = ArListem.light_stem(text)\n",
        "    strem = ArListem.get_stem()\n",
        "    #strem = lemmetize_word(text,work)\n",
        "    \n",
        "    return strem"
      ]
    },
    {
      "cell_type": "code",
      "execution_count": null,
      "metadata": {
        "id": "80prFXHbKYLb"
      },
      "outputs": [],
      "source": [
        "def non_Arabic(tweet,work):\n",
        "   \"\"\"Process tweet function.\n",
        "    Input:\n",
        "        tweet: a string containing a tweet without changing\n",
        "    Output:\n",
        "        cleaned_tweet: tweet after non_Arabic \n",
        "    \"\"\" \n",
        "   if work ==1:\n",
        "      newtweet = re.sub('([@A-Za-z0-9_ـــــــــــــ]+)|[^\\w\\s]|#|http\\S+', ' ', tweet)\n",
        "   else:\n",
        "     newtweet = tweet\n",
        "   return newtweet"
      ]
    },
    {
      "cell_type": "code",
      "execution_count": null,
      "metadata": {
        "id": "ma0dIm81KbPm"
      },
      "outputs": [],
      "source": [
        "def clean_text(text):\n",
        "    search = [\"أ\",\"إ\",\"آ\",\"ة\",\"_\",\"-\",\"/\",\".\",\"،\",\" و \",\" يا \",'\"',\"ـ\",\"'\",\"ى\",\"\\\\\",'\\n', '\\t','&quot;','?','؟','!']\n",
        "    replace = [\"ا\",\"ا\",\"ا\",\"ه\",\" \",\" \",\"\",\"\",\"\",\" و\",\" يا\",\"\",\"\",\"\",\"ي\",\"\",' ', ' ',' ',' ? ',' ؟ ',' ! ']  \n",
        "    p_tashkeel = re.compile(r'[\\u0617-\\u061A\\u064B-\\u0652]')\n",
        "    text = re.sub(p_tashkeel,\"\", text)\n",
        "    p_longation = re.compile(r'(.)\\1+')\n",
        "    subst = r\"\\1\\1\"\n",
        "    text = re.sub(p_longation, subst, text)\n",
        "    text = text.replace('وو', 'و')\n",
        "    text = text.replace('يي', 'ي')\n",
        "    text = text.replace('اا', 'ا')\n",
        "    \n",
        "    for i in range(0, len(search)):\n",
        "        text = text.replace(search[i], replace[i])\n",
        "        \n",
        "    text = text.strip()\n",
        "    \n",
        "    return text"
      ]
    },
    {
      "cell_type": "code",
      "execution_count": null,
      "metadata": {
        "id": "TQtlVB5uKdKA"
      },
      "outputs": [],
      "source": [
        " #تنضيف الداتا من الفراغات الزائدة\n",
        "def remove_tweets_extra_white_space(text,work):\n",
        "    \"\"\"Process tweet function.\n",
        "    Input:\n",
        "        tweet: a string containing a tweet without changing\n",
        "    Output:\n",
        "        cleaned_tweet: tweet after extra_white_space\n",
        "\n",
        "    \"\"\"\n",
        "    if work ==1:\n",
        "       pattern = r\"\\s+\"\n",
        "       newtweet =re.sub(pattern,' ',text)\n",
        "    else:\n",
        "      newtweet = text\n",
        "    return newtweet"
      ]
    },
    {
      "cell_type": "code",
      "execution_count": null,
      "metadata": {
        "id": "uAUav4wpKgBV"
      },
      "outputs": [],
      "source": [
        "def Stemmer_word(tweet,work):\n",
        "  \"\"\"Process tweet function.\n",
        "    Input:\n",
        "        tweet: a string containing a tweet without changing\n",
        "    Output:\n",
        "        cleaned_tweet: tweet after Stemmer_word \n",
        "    \"\"\" \n",
        "  if work ==1:\n",
        "      st = ISRIStemmer()\n",
        "      newtweet = st.stem(tweet)\n",
        "  else:\n",
        "     newtweet = tweet\n",
        "\n",
        "  return newtweet\n"
      ]
    },
    {
      "cell_type": "code",
      "execution_count": null,
      "metadata": {
        "id": "elGXwGKoKhyR"
      },
      "outputs": [],
      "source": [
        "# remove harakat\n",
        "def remove_harakat(tweet):\n",
        "    noise = re.compile(\"\"\"   َ    | # Fatha\n",
        "                             ً    | # Tanwin Fath\n",
        "                             ُ    | # Damma\n",
        "                             ٌ    | # Tanwin Damm\n",
        "                             ِ    | # Kasra\n",
        "                             ٍ    | # Tanwin Kasr\n",
        "                             ْ    | # Sukun\n",
        "                             ّ      # Sukun\n",
        "                         \"\"\", re.VERBOSE)\n",
        "    out_data = re.sub(noise, '', tweet)\n",
        "    return out_data"
      ]
    },
    {
      "cell_type": "code",
      "execution_count": null,
      "metadata": {
        "id": "CFQQFt8xKkJT"
      },
      "outputs": [],
      "source": [
        "# remove everything but characters, spaces and hashtags\n",
        "def remove_symbols(tweet):\n",
        "    pattern=r'\\\\.|[^\\w\\s]'\n",
        "    out_data= re.sub(pattern,' ', tweet)\n",
        "    out_data=re.sub(r'\\d',' ',out_data)\n",
        "    return out_data"
      ]
    },
    {
      "cell_type": "code",
      "execution_count": null,
      "metadata": {
        "id": "p0V6YzMdKl5f"
      },
      "outputs": [],
      "source": [
        "# remove multiple spaces\n",
        "def remove_spaces(tweet):\n",
        "    pattern=r'\\n|\\r|\\t|(\\s+)'\n",
        "    out_data= re.sub(pattern,' ', tweet)\n",
        "    return out_data"
      ]
    },
    {
      "cell_type": "code",
      "execution_count": null,
      "metadata": {
        "id": "Q7fKtlrUKntX"
      },
      "outputs": [],
      "source": [
        "# remove duplicate consecutive characters\n",
        "# don't allow more than 2 repetiation for one character at a time \n",
        "def remove_duplicate_characters(tweet):\n",
        "    return re.compile(r\"(.)\\1{2,}\", re.IGNORECASE).sub(\"\\\\1\", tweet)"
      ]
    },
    {
      "cell_type": "code",
      "execution_count": null,
      "metadata": {
        "id": "TeT7aeAjKq1J"
      },
      "outputs": [],
      "source": [
        "def light_stem2(tweet):\n",
        "  words = tweet.split()\n",
        "  stemmer = ISRIStemmer()\n",
        "  word = stemmer.norm(tweet, num=1)      # remove diacritics which representing Arabic short vowels\n",
        "  if not word in stemmer.stop_words:    # exclude stop words from being processed\n",
        "      word = stemmer.pre32(word)        # remove length three and length two prefixes in this order\n",
        "      word = stemmer.suf32(word)        # remove length three and length two suffixes in this order\n",
        "      word = stemmer.waw(word)          # remove connective ‘و’ if it precedes a word beginning with ‘و’\n",
        "      word = stemmer.norm(word, num=2)  # normalize initial hamza to bare alif\n",
        "  return word"
      ]
    },
    {
      "cell_type": "code",
      "execution_count": null,
      "metadata": {
        "colab": {
          "base_uri": "https://localhost:8080/"
        },
        "id": "p9LXaP0gKtHq",
        "outputId": "04bcaa71-2843-4193-a560-f34b3deab14d"
      },
      "outputs": [
        {
          "output_type": "stream",
          "name": "stderr",
          "text": [
            "/usr/local/lib/python3.7/dist-packages/urllib3/connectionpool.py:847: InsecureRequestWarning: Unverified HTTPS request is being made. Adding certificate verification is strongly advised. See: https://urllib3.readthedocs.io/en/latest/advanced-usage.html#ssl-warnings\n",
            "  InsecureRequestWarning)\n"
          ]
        },
        {
          "output_type": "stream",
          "name": "stdout",
          "text": [
            "100%|██████████| 241M/241M [00:12<00:00, 19.4MiB/s]\n"
          ]
        },
        {
          "output_type": "stream",
          "name": "stderr",
          "text": [
            "[2021-12-30 21:50:52,142 - farasapy_logger - WARNING]: Be careful with large lines as they may break on interactive mode. You may switch to Standalone mode for such cases.\n"
          ]
        }
      ],
      "source": [
        "model_name = \"aubmindlab/bert-base-arabertv2\"\n",
        "arabert_prep = ArabertPreprocessor(model_name=model_name)"
      ]
    },
    {
      "cell_type": "code",
      "execution_count": null,
      "metadata": {
        "id": "3pHNdSsDKvnE"
      },
      "outputs": [],
      "source": [
        "def preprocess(text):\n",
        "    result = []\n",
        "    #tokenizerr.tokenize(text)\n",
        "    newbert = arabert_prep.preprocess(text)\n",
        "    li = list(newbert.split(\" \"))\n",
        "    #print(newbert)\n",
        "    for token in li:\n",
        "        #print(token)\n",
        "        #print(len(token))\n",
        "        #if len(token) > 2:\n",
        "         tweet = remov_duplicates(token, 1)\n",
        "         tweet = remove_harakat(tweet)\n",
        "         tweet = remove_symbols(tweet)\n",
        "         tweet = remove_spaces(tweet)\n",
        "         tweet = remove_duplicate_characters(tweet)\n",
        "         #tweet = normalizeArabic(tweet,1)\n",
        "         #tweet = non_Arabic(tweet,1)\n",
        "         tweet = clean_text(tweet)\n",
        "         tweet = light_stem2(tweet)\n",
        "            #tweet = stemming(tweet,1)\n",
        "         tweet = remove_tweets_other(tweet,1)\n",
        "         tweet = remove_english(tweet,1)\n",
        "         #stemmed = stemmer.stem(tweet)\n",
        "            #print(tweet)\n",
        "         tweet = remove_tweets_extra_white_space(tweet,1)\n",
        "         if tweet ==\"ال\":\n",
        "           result.append(tweet)\n",
        "         if tweet != \" \":\n",
        "           if len(tweet) >3:\n",
        "               result.append(tweet)\n",
        "    return result"
      ]
    },
    {
      "cell_type": "code",
      "source": [
        "print(train.index)"
      ],
      "metadata": {
        "colab": {
          "base_uri": "https://localhost:8080/"
        },
        "id": "FrtnAiQr8TS_",
        "outputId": "46767be1-82bc-4da4-8319-9aaba3c8cfc3"
      },
      "execution_count": null,
      "outputs": [
        {
          "output_type": "stream",
          "name": "stdout",
          "text": [
            "Int64Index([   3,    4,    9,   13,   16,   25,   29,   30,   31,   39,\n",
            "            ...\n",
            "            9563, 9567, 9574, 9575, 9576, 9577, 9579, 9581, 9587, 9588],\n",
            "           dtype='int64', length=2824)\n"
          ]
        }
      ]
    },
    {
      "cell_type": "code",
      "execution_count": null,
      "metadata": {
        "colab": {
          "base_uri": "https://localhost:8080/"
        },
        "id": "xWuDuzhIK2CZ",
        "outputId": "49ecccc1-66e4-49d9-9ae9-927ce8572da6"
      },
      "outputs": [
        {
          "output_type": "stream",
          "name": "stdout",
          "text": [
            "أكدت مصادر موثوقة لجريدة هسبريس الإلكترونية أن الليبيين يستأنفون ليلة اليوم الجمعة الجولة الثانية من المفاوضات السياسية في مدينة بوزنيقة.وكان متوقعاً أن تنطلق الجولة الثانية من المفاوضات بين الفرقاء الليبيين أمس الخميس، لكن خلافات بين البرلمان الليبي ومجلس الدولة الأعلى حول تغيير الأخير للوفد المفاوض حالت دون انطلاق \"حوار بوزنيقة\".ورفض مجلس النواب الليبي تغيير مجلس الدولة لأعضاء لجنة الحوار التي كانت في الجولة الأولى ببوزنيقة، وذلك بمبرر عدم إضاعة الوقت أو الحديث مع وفد جديد حول أمور لم يتفق عليها سابقاً.ووفق معطيات هسبريس فإن عقيلة صالح، رئيس مجلس النواب الليبي، وخالد المشري، رئيس المجلس الأعلى للدولة، لن يحضرا خلال انطلاقات المفاوضات المرتقبة ليلة اليوم الجمعة على الساعة العاشرة.وتركز الجولة الثانية من المفاوضات بشكل أساسي على المادة 15 من الاتفاق السياسي الليبي الموقع بالصخيرات، التي تتمحور حول ما تسمى المناصب السيادية، مثل رئيس البنك المركزي الليبي ورئيس هيئة مكافحة الفساد، ورئيس مجلس المساءلة، ورئيس المفوضية العليا للانتخابات، والمدعي العام، وكذا ورئيس المجلس القضائي.وقالت مصادر من الوفود المفاوضة، لهسبريس، إن الجولة الثانية تأخرت نوعا ما، لكن في النهاية جرى الاتفاق على افتتاح المفاوضات واستكمال النقاش والجلسات التشاورية، وأشادت بتوفير المغرب لأجواء إيجابية من أجل انطلاق المفاوضات الثانية.وتنعقد الجولة الثانية من المفاوضات السياسية بالمغرب عقب اللقاء الذي احتضنته مدينة الغردقة المصرية، الذي ركز على الملف الأمني؛ فيما تتواصل دعوات دولية إلى ضرورة وقف نهائي لإطلاق النار من أجل إنجاح مخرجات الحوار السياسي.وكان المغرب احتضن \"الحوار الليبي\" في مدينة بوزنيقة بداية الشهر الماضي، حيث تم الإعلان في ختامه عن \"التوصل إلى اتفاق شامل حول المعايير والآليات الشفافة والموضوعية لتولي المناصب السيادية\".واتفق الطرفان، وفق البيان الختامي للمفاوضات التي جمعت بينهما ببوزنيقة، على مواصلة الحوار الذي انطلق بالمغرب، من أجل استكمال الإجراءات اللازمة التي تضمن تنفيذ وتفعيل هذا الاتفاق.وتعقد الجولة الثانية من المفاوضات وسط دعم أممي واسع للوساطة المغربية، إذ أكدت مبعوثة الأمم المتحدة إلى ليبيا بالنيابة، ستيفاني ويليامز، دعمها الجهود المبذولة في إطار محادثات بوزنيقة، التي تسعى إلى تحقيق العملية التي تقودها الأمم المتحدة لحل الأزمة في ليبيا.\n",
            "['أكد', '+ت', 'مصادر', 'موثوق', '+ة', 'ل+', 'جريد', '+ة', 'هسبريس', 'ال+', 'إلكتروني', '+ة', 'أن', 'ال+', 'ليبي', '+ين', 'يستأنفون', 'ليل', '+ة', 'ال+', 'يوم', 'ال+', 'جمع', '+ة', 'ال+', 'جول', '+ة', 'ال+', 'ثاني', '+ة', 'من', 'ال+', 'مفاوض', '+ات', 'ال+', 'سياسي', '+ة', 'في', 'مدين', '+ة', 'بوزنيقة', '.', 'و+', 'كان', 'متوقع', '+ا', 'أن', 'تنطلق', 'ال+', 'جول', '+ة', 'ال+', 'ثاني', '+ة', 'من', 'ال+', 'مفاوض', '+ات', 'بين', 'ال+', 'فرقاء', 'ال+', 'ليبي', '+ين', 'أمس', 'ال+', 'خميس', '،', 'لكن', 'خلاف', '+ات', 'بين', 'ال+', 'برلمان', 'ال+', 'ليبي', 'و+', 'مجلس', 'ال+', 'دول', '+ة', 'ال+', 'أعلى', 'حول', 'تغيير', 'ال+', 'أخير', 'ل+', 'ال+', 'وفد', 'ال+', 'مفاوض', 'حال', '+ت', 'دون', 'انطلاق', '\"', 'حوار', 'بوزنيقة', '\"', '.', 'و+', 'رفض', 'مجلس', 'ال+', 'نواب', 'ال+', 'ليبي', 'تغيير', 'مجلس', 'ال+', 'دول', '+ة', 'ل+', 'أعضاء', 'لجن', '+ة', 'ال+', 'حوار', 'التي', 'كان', '+ت', 'في', 'ال+', 'جول', '+ة', 'ال+', 'أولى', 'ب+', 'بوزنيقة', '،', 'و+', 'ذلك', 'ب+', 'مبرر', 'عدم', 'إضاع', '+ة', 'ال+', 'وقت', 'أو', 'ال+', 'حديث', 'مع', 'وفد', 'جديد', 'حول', 'أمور', 'لم', 'يتفق', 'علي', '+ها', 'سابق', '+ا', '.', 'و+', 'وفق', 'معطي', '+ات', 'هسبريس', 'ف+', 'إن', 'عقيل', '+ة', 'صالح', '،', 'رئيس', 'مجلس', 'ال+', 'نواب', 'ال+', 'ليبي', '،', 'و+', 'خالد', 'ال+', 'مشري', '،', 'رئيس', 'ال+', 'مجلس', 'ال+', 'أعلى', 'ل+', 'ال+', 'دول', '+ة', '،', 'لن', 'يحضر', '+ا', 'خلال', 'انطلاق', '+ات', 'ال+', 'مفاوض', '+ات', 'ال+', 'مرتقب', '+ة', 'ليل', '+ة', 'ال+', 'يوم', 'ال+', 'جمع', '+ة', 'على', 'ال+', 'ساع', '+ة', 'ال+', 'عاشر', '+ة', '.', 'و+', 'تركز', 'ال+', 'جول', '+ة', 'ال+', 'ثاني', '+ة', 'من', 'ال+', 'مفاوض', '+ات', 'ب+', 'شكل', 'أساسي', 'على', 'ال+', 'ماد', '+ة', '15', 'من', 'ال+', 'اتفاق', 'ال+', 'سياسي', 'ال+', 'ليبي', 'ال+', 'موقع', 'ب+', 'ال+', 'صخير', '+ات', '،', 'التي', 'تتمحور', 'حول', 'ما', 'تسمى', 'ال+', 'مناصب', 'ال+', 'سيادي', '+ة', '،', 'مثل', 'رئيس', 'ال+', 'بنك', 'ال+', 'مركزي', 'ال+', 'ليبي', 'و+', 'رئيس', 'هيئ', '+ة', 'مكافح', '+ة', 'ال+', 'فساد', '،', 'و+', 'رئيس', 'مجلس', 'ال+', 'مساءل', '+ة', '،', 'و+', 'رئيس', 'ال+', 'مفوضي', '+ة', 'ال+', 'عليا', 'ل+', 'ال+', 'انتخاب', '+ات', '،', 'و+', 'ال+', 'مدعي', 'ال+', 'عام', '،', 'و+', 'كذا', 'و+', 'رئيس', 'ال+', 'مجلس', 'ال+', 'قضائي', '.', 'و+', 'قال', '+ت', 'مصادر', 'من', 'ال+', 'وفود', 'ال+', 'مفاوض', '+ة', '،', 'لهسبريس', '،', 'إن', 'ال+', 'جول', '+ة', 'ال+', 'ثاني', '+ة', 'تأخر', '+ت', 'نوع', '+ا', 'ما', '،', 'لكن', 'في', 'ال+', 'نهاي', '+ة', 'جرى', 'ال+', 'اتفاق', 'على', 'افتتاح', 'ال+', 'مفاوض', '+ات', 'و+', 'استكمال', 'ال+', 'نقاش', 'و+', 'ال+', 'جلس', '+ات', 'ال+', 'تشاوري', '+ة', '،', 'و+', 'أشاد', '+ت', 'ب+', 'توفير', 'ال+', 'مغرب', 'ل+', 'أجواء', 'إيجابي', '+ة', 'من', 'أجل', 'انطلاق', 'ال+', 'مفاوض', '+ات', 'ال+', 'ثاني', '+ة', '.', 'و+', 'تنعقد', 'ال+', 'جول', '+ة', 'ال+', 'ثاني', '+ة', 'من', 'ال+', 'مفاوض', '+ات', 'ال+', 'سياسي', '+ة', 'ب+', 'ال+', 'مغرب', 'عقب', 'ال+', 'لقاء', 'الذي', 'احتضن', '+ت', '+ه', 'مدين', '+ة', 'ال+', 'غردقة', 'ال+', 'مصري', '+ة', '،', 'الذي', 'ركز', 'على', 'ال+', 'ملف', 'ال+', 'أمني', '؛', 'فيما', 'تتواصل', 'دعو', '+ات', 'دولي', '+ة', 'إلى', 'ضرور', '+ة', 'وقف', 'نهائي', 'ل+', 'إطلاق', 'ال+', 'نار', 'من', 'أجل', 'إنجاح', 'مخرج', '+ات', 'ال+', 'حوار', 'ال+', 'سياسي', '.', 'و+', 'كان', 'ال+', 'مغرب', 'احتضن', '\"', 'ال+', 'حوار', 'ال+', 'ليبي', '\"', 'في', 'مدين', '+ة', 'بوزنيقة', 'بداي', '+ة', 'ال+', 'شهر', 'ال+', 'ماضي', '،', 'حيث', 'تم', 'ال+', 'إعلان', 'في', 'ختام', '+ه', 'عن', '\"', 'ال+', 'توصل', 'إلى', 'اتفاق', 'شامل', 'حول', 'ال+', 'معايير', 'و+', 'ال+', 'آلي', '+ات', 'ال+', 'شفاف', '+ة', 'و+', 'ال+', 'موضوعي', '+ة', 'ل+', 'تولي', 'ال+', 'مناصب', 'ال+', 'سيادي', '+ة', '\"', '.', 'و+', 'اتفق', 'ال+', 'طرف', '+ان', '،', 'وفق', 'ال+', 'بيان', 'ال+', 'ختامي', 'ل+', 'ال+', 'مفاوض', '+ات', 'التي', 'جمع', '+ت', 'بين', '+هما', 'ب+', 'بوزنيقة', '،', 'على', 'مواصل', '+ة', 'ال+', 'حوار', 'الذي', 'انطلق', 'ب+', 'ال+', 'مغرب', '،', 'من', 'أجل', 'استكمال', 'ال+', 'إجراء', '+ات', 'ال+', 'لازم', '+ة', 'التي', 'تضمن', 'تنفيذ', 'و+', 'تفعيل', 'هذا', 'ال+', 'اتفاق', '.', 'و+', 'تعقد', 'ال+', 'جول', '+ة', 'ال+', 'ثاني', '+ة', 'من', 'ال+', 'مفاوض', '+ات', 'وسط', 'دعم', 'أممي', 'واسع', 'ل+', 'ال+', 'وساط', '+ة', 'ال+', 'مغربي', '+ة', '،', 'إذ', 'أكد', '+ت', 'مبعوث', '+ة', 'ال+', 'أمم', 'ال+', 'متحد', '+ة', 'إلى', 'ليبيا', 'ب+', 'ال+', 'نياب', '+ة', '،', 'ستيفاني', 'ويليامز', '،', 'دعم', '+ها', 'ال+', 'جهود', 'ال+', 'مبذول', '+ة', 'في', 'إطار', 'محادث', '+ات', 'بوزنيقة', '،', 'التي', 'تسعى', 'إلى', 'تحقيق', 'ال+', 'عملي', '+ة', 'التي', 'تقود', '+ها', 'ال+', 'أمم', 'ال+', 'متحد', '+ة', 'ل+', 'حل', 'ال+', 'أزم', '+ة', 'في', 'ليبيا', '.']\n",
            "['مصادر', 'موثوق', 'جريد', 'هسبريس', 'ال', 'كترو', 'ال', 'ليبي', 'يستانف', 'ال', 'ال', 'ال', 'ال', 'ثاني', 'ال', 'مفاوض', 'ال', 'سياسي', 'مدين', 'بوزنيقه', 'متوقع', 'تنطلق', 'ال', 'ال', 'ثاني', 'ال', 'مفاوض', 'ال', 'فرقا ', 'ال', 'ليبي', 'ال', 'خميس', 'خلاف', 'ال', 'برلم', 'ال', 'ليبي', 'مجلس', 'ال', 'ال', 'اعلي', 'تغير', 'ال', 'اخير', 'ال', 'ال', 'مفاوض', 'انطلاق', 'حوار', 'بوزنيقه', 'مجلس', 'ال', 'نواب', 'ال', 'ليبي', 'تغير', 'مجلس', 'ال', 'اعضا ', 'ال', 'حوار', 'التي', 'ال', 'ال', 'اولي', 'بوزنيقه', 'اضاع', 'ال', 'ال', 'حديث', 'جديد', 'امور', 'يتفق', 'سابق', 'معطي', 'هسبريس', 'عقيل', 'صالح', 'رئيس', 'مجلس', 'ال', 'نواب', 'ال', 'ليبي', 'خالد', 'ال', 'مشري', 'رئيس', 'ال', 'مجلس', 'ال', 'اعلي', 'ال', 'يحضر', 'خلال', 'انطلاق', 'ال', 'مفاوض', 'ال', 'مرتقب', 'ال', 'ال', 'ال', 'ال', 'عاشر', 'تركز', 'ال', 'ال', 'ثاني', 'ال', 'مفاوض', 'اساسي', 'ال', 'ال', 'اتفاق', 'ال', 'سياسي', 'ال', 'ليبي', 'ال', 'موقع', 'ال', 'صخير', 'التي', 'تمحور', 'تسمي', 'ال', 'مناصب', 'ال', 'سيادي', 'رئيس', 'ال', 'ال', 'مركزي', 'ال', 'ليبي', 'رئيس', 'مكافح', 'ال', 'فساد', 'رئيس', 'مجلس', 'ال', 'مساءل', 'رئيس', 'ال', 'مفوضي', 'ال', 'عليا', 'ال', 'انتخاب', 'ال', 'مدعي', 'ال', 'رئيس', 'ال', 'مجلس', 'ال', 'قضائي', 'مصادر', 'ال', 'وفود', 'ال', 'مفاوض', 'لهسبريس', 'ال', 'ال', 'ثاني', 'تاخر', 'ال', 'نهاي', 'ال', 'اتفاق', 'افتاح', 'ال', 'مفاوض', 'استكمال', 'ال', 'نقاش', 'ال', 'ال', 'تشاوري', 'اشاد', 'توفير', 'ال', 'مغرب', 'اجوا ', 'ايجابي', 'انطلاق', 'ال', 'مفاوض', 'ال', 'ثاني', 'تنعقد', 'ال', 'ال', 'ثاني', 'ال', 'مفاوض', 'ال', 'سياسي', 'ال', 'مغرب', 'ال', 'لقا ', 'الذي', 'احتضن', 'مدين', 'ال', 'غردقه', 'ال', 'مصري', 'الذي', 'ال', 'ال', 'امني', 'فيما', 'تواصل', 'دولي', 'ضرور', 'نهائي', 'اطلاق', 'ال', 'انجاح', 'مخرج', 'ال', 'حوار', 'ال', 'سياسي', 'ال', 'مغرب', 'احتضن', 'ال', 'حوار', 'ال', 'ليبي', 'مدين', 'بوزنيقه', 'بداي', 'ال', 'ال', 'ماضي', 'ال', 'ختام', 'ال', 'توصل', 'اتفاق', 'شامل', 'ال', 'معاير', 'ال', 'ال', 'شفاف', 'ال', 'موضوعي', 'تولي', 'ال', 'مناصب', 'ال', 'سيادي', 'اتفق', 'ال', 'ال', 'بيان', 'ال', 'ختامي', 'ال', 'مفاوض', 'التي', 'بوزنيقه', 'مواصل', 'ال', 'حوار', 'الذي', 'انطلق', 'ال', 'مغرب', 'استكمال', 'ال', 'اجرا ', 'ال', 'لازم', 'التي', 'تضمن', 'تنفيذ', 'تفعيل', 'ال', 'اتفاق', 'تعقد', 'ال', 'ال', 'ثاني', 'ال', 'مفاوض', 'واسع', 'ال', 'وساط', 'ال', 'مغربي', 'مبعوث', 'ال', 'ال', 'متحد', 'ال', 'نياب', 'ستيفا', 'ويليامز', 'ال', 'جهود', 'ال', 'مبذول', 'اطار', 'محادث', 'بوزنيقه', 'التي', 'تسعي', 'تحقيق', 'ال', 'عملي', 'التي', 'تقود', 'ال', 'ال', 'متحد', 'ال']\n"
          ]
        }
      ],
      "source": [
        "i=0\n",
        "#for x in train['text']:\n",
        " # i =i+1\n",
        "print(train['story'][13])\n",
        "token = arabert_prep.preprocess(train['story'][13])\n",
        "li = list(token.split(\" \"))\n",
        "print(li)\n",
        "res = preprocess(train['story'][13])\n",
        "print(res)\n",
        "  #if i ==3:\n",
        "   # break\n",
        "  #for x in res:\n",
        "\n",
        "\n",
        "  #print(token)\n",
        "#  break"
      ]
    },
    {
      "cell_type": "markdown",
      "metadata": {
        "id": "CG5abkmFK6-F"
      },
      "source": [
        "##Bag of words on the dataset"
      ]
    },
    {
      "cell_type": "code",
      "source": [
        "processed_docs = train['story'].map(preprocess)"
      ],
      "metadata": {
        "id": "_MrMHvIcQgaP"
      },
      "execution_count": null,
      "outputs": []
    },
    {
      "cell_type": "code",
      "execution_count": null,
      "metadata": {
        "colab": {
          "base_uri": "https://localhost:8080/"
        },
        "id": "RJMKUqZdK9fp",
        "outputId": "bb4dcfdf-bb50-4cf5-87b6-0e5bf2878a33"
      },
      "outputs": [
        {
          "output_type": "execute_result",
          "data": {
            "text/plain": [
              "3     [نادي, ارسنال, ال, انجليزي, ال, صفوف, تعاقد, ر...\n",
              "4     [اقليم, ال, ال, اصاب, جديد, فيروس, كورو, ال, م...\n",
              "9     [اصدر, ال, جناي, ال, ابتدائي, محكم, ال, استئنا...\n",
              "13    [مصادر, موثوق, جريد, هسبريس, ال, كترو, ال, ليب...\n",
              "16    [ال, اتحاد, ال, مقاول, ال, مغرب, الذي, يمثل, ا...\n",
              "25    [مجموع, ال, ال, اسلامي, ال, تنمي, خلال, تبادل,...\n",
              "29    [قاضي, ال, تحقيق, محكم, ال, استئناف, متابع, رئ...\n",
              "30    [ينظم, ال, فاعل, ال, بارز, قطاع, ال, عقار, ال,...\n",
              "31    [يتجه, ال, مغرب, ال, ال, متحد, مستند, ال, تاري...\n",
              "39    [ال, مرتقب, يدخل, نادي, اولمبيك, ال, ال, ثلاثا...\n",
              "Name: story, dtype: object"
            ]
          },
          "metadata": {},
          "execution_count": 44
        }
      ],
      "source": [
        "processed_docs[:10]"
      ]
    },
    {
      "cell_type": "code",
      "source": [
        "len(processed_docs)"
      ],
      "metadata": {
        "colab": {
          "base_uri": "https://localhost:8080/"
        },
        "id": "l1vp_dXhVf5p",
        "outputId": "dbc6ce88-6975-458c-f2d3-76095289253e"
      },
      "execution_count": null,
      "outputs": [
        {
          "output_type": "execute_result",
          "data": {
            "text/plain": [
              "2824"
            ]
          },
          "metadata": {},
          "execution_count": 45
        }
      ]
    },
    {
      "cell_type": "code",
      "execution_count": null,
      "metadata": {
        "id": "3zgNnr_4r8Zv"
      },
      "outputs": [],
      "source": [
        "processed_docs.to_csv('process.csv',index=True,encoding='utf-8-sig')"
      ]
    },
    {
      "cell_type": "code",
      "execution_count": null,
      "metadata": {
        "colab": {
          "base_uri": "https://localhost:8080/",
          "height": 17
        },
        "id": "P5FVUTRITGBW",
        "outputId": "cb218578-fc6f-430e-b942-932082b88b1a"
      },
      "outputs": [
        {
          "output_type": "display_data",
          "data": {
            "application/javascript": [
              "\n",
              "    async function download(id, filename, size) {\n",
              "      if (!google.colab.kernel.accessAllowed) {\n",
              "        return;\n",
              "      }\n",
              "      const div = document.createElement('div');\n",
              "      const label = document.createElement('label');\n",
              "      label.textContent = `Downloading \"${filename}\": `;\n",
              "      div.appendChild(label);\n",
              "      const progress = document.createElement('progress');\n",
              "      progress.max = size;\n",
              "      div.appendChild(progress);\n",
              "      document.body.appendChild(div);\n",
              "\n",
              "      const buffers = [];\n",
              "      let downloaded = 0;\n",
              "\n",
              "      const channel = await google.colab.kernel.comms.open(id);\n",
              "      // Send a message to notify the kernel that we're ready.\n",
              "      channel.send({})\n",
              "\n",
              "      for await (const message of channel.messages) {\n",
              "        // Send a message to notify the kernel that we're ready.\n",
              "        channel.send({})\n",
              "        if (message.buffers) {\n",
              "          for (const buffer of message.buffers) {\n",
              "            buffers.push(buffer);\n",
              "            downloaded += buffer.byteLength;\n",
              "            progress.value = downloaded;\n",
              "          }\n",
              "        }\n",
              "      }\n",
              "      const blob = new Blob(buffers, {type: 'application/binary'});\n",
              "      const a = document.createElement('a');\n",
              "      a.href = window.URL.createObjectURL(blob);\n",
              "      a.download = filename;\n",
              "      div.appendChild(a);\n",
              "      a.click();\n",
              "      div.remove();\n",
              "    }\n",
              "  "
            ],
            "text/plain": [
              "<IPython.core.display.Javascript object>"
            ]
          },
          "metadata": {}
        },
        {
          "output_type": "display_data",
          "data": {
            "application/javascript": [
              "download(\"download_bd501ddb-f5bb-4994-a41c-c67cfcac752e\", \"process.csv\", 7528335)"
            ],
            "text/plain": [
              "<IPython.core.display.Javascript object>"
            ]
          },
          "metadata": {}
        }
      ],
      "source": [
        "from google.colab import files\n",
        "files.download(\"process.csv\")"
      ]
    },
    {
      "cell_type": "code",
      "source": [
        "process = pd.read_csv('process8.csv')"
      ],
      "metadata": {
        "id": "7cNivZf8FqiM"
      },
      "execution_count": null,
      "outputs": []
    },
    {
      "cell_type": "code",
      "source": [
        "process"
      ],
      "metadata": {
        "colab": {
          "base_uri": "https://localhost:8080/",
          "height": 423
        },
        "id": "lVK-AUAcDlLb",
        "outputId": "f13c3b4c-9f92-4208-ed08-65135400390d"
      },
      "execution_count": null,
      "outputs": [
        {
          "output_type": "execute_result",
          "data": {
            "text/html": [
              "\n",
              "  <div id=\"df-a7986d9e-27a9-4a2a-a338-d737ce544b39\">\n",
              "    <div class=\"colab-df-container\">\n",
              "      <div>\n",
              "<style scoped>\n",
              "    .dataframe tbody tr th:only-of-type {\n",
              "        vertical-align: middle;\n",
              "    }\n",
              "\n",
              "    .dataframe tbody tr th {\n",
              "        vertical-align: top;\n",
              "    }\n",
              "\n",
              "    .dataframe thead th {\n",
              "        text-align: right;\n",
              "    }\n",
              "</style>\n",
              "<table border=\"1\" class=\"dataframe\">\n",
              "  <thead>\n",
              "    <tr style=\"text-align: right;\">\n",
              "      <th></th>\n",
              "      <th>Unnamed: 0</th>\n",
              "      <th>story</th>\n",
              "    </tr>\n",
              "  </thead>\n",
              "  <tbody>\n",
              "    <tr>\n",
              "      <th>0</th>\n",
              "      <td>3</td>\n",
              "      <td>['نادي', 'ارسنال', 'ال', 'انجليزي', 'ال', 'صفو...</td>\n",
              "    </tr>\n",
              "    <tr>\n",
              "      <th>1</th>\n",
              "      <td>4</td>\n",
              "      <td>['اقليم', 'ال', 'ال', 'اصاب', 'جديد', 'فيروس',...</td>\n",
              "    </tr>\n",
              "    <tr>\n",
              "      <th>2</th>\n",
              "      <td>9</td>\n",
              "      <td>['اصدر', 'ال', 'جناي', 'ال', 'ابتدائي', 'محكم'...</td>\n",
              "    </tr>\n",
              "    <tr>\n",
              "      <th>3</th>\n",
              "      <td>13</td>\n",
              "      <td>['مصادر', 'موثوق', 'جريد', 'هسبريس', 'ال', 'كت...</td>\n",
              "    </tr>\n",
              "    <tr>\n",
              "      <th>4</th>\n",
              "      <td>16</td>\n",
              "      <td>['ال', 'اتحاد', 'ال', 'مقاول', 'ال', 'مغرب', '...</td>\n",
              "    </tr>\n",
              "    <tr>\n",
              "      <th>...</th>\n",
              "      <td>...</td>\n",
              "      <td>...</td>\n",
              "    </tr>\n",
              "    <tr>\n",
              "      <th>2819</th>\n",
              "      <td>9577</td>\n",
              "      <td>['تمكن', 'مصالح', 'ال', 'ال', 'قضائي', 'مفوضي'...</td>\n",
              "    </tr>\n",
              "    <tr>\n",
              "      <th>2820</th>\n",
              "      <td>9579</td>\n",
              "      <td>['اصبح', 'ال', 'دولي', 'ال', 'مغربي', 'فيصل', ...</td>\n",
              "    </tr>\n",
              "    <tr>\n",
              "      <th>2821</th>\n",
              "      <td>9581</td>\n",
              "      <td>['اضطر', 'مفتش', 'يعمل', 'منطق', 'نسود', 'مدين...</td>\n",
              "    </tr>\n",
              "    <tr>\n",
              "      <th>2822</th>\n",
              "      <td>9587</td>\n",
              "      <td>['اعلن', 'نادي', 'ال', 'ال', 'سعودي', 'ال', 'ت...</td>\n",
              "    </tr>\n",
              "    <tr>\n",
              "      <th>2823</th>\n",
              "      <td>9588</td>\n",
              "      <td>['ال', 'مديري', 'ال', 'اقليمي', 'ال', 'تربي', ...</td>\n",
              "    </tr>\n",
              "  </tbody>\n",
              "</table>\n",
              "<p>2824 rows × 2 columns</p>\n",
              "</div>\n",
              "      <button class=\"colab-df-convert\" onclick=\"convertToInteractive('df-a7986d9e-27a9-4a2a-a338-d737ce544b39')\"\n",
              "              title=\"Convert this dataframe to an interactive table.\"\n",
              "              style=\"display:none;\">\n",
              "        \n",
              "  <svg xmlns=\"http://www.w3.org/2000/svg\" height=\"24px\"viewBox=\"0 0 24 24\"\n",
              "       width=\"24px\">\n",
              "    <path d=\"M0 0h24v24H0V0z\" fill=\"none\"/>\n",
              "    <path d=\"M18.56 5.44l.94 2.06.94-2.06 2.06-.94-2.06-.94-.94-2.06-.94 2.06-2.06.94zm-11 1L8.5 8.5l.94-2.06 2.06-.94-2.06-.94L8.5 2.5l-.94 2.06-2.06.94zm10 10l.94 2.06.94-2.06 2.06-.94-2.06-.94-.94-2.06-.94 2.06-2.06.94z\"/><path d=\"M17.41 7.96l-1.37-1.37c-.4-.4-.92-.59-1.43-.59-.52 0-1.04.2-1.43.59L10.3 9.45l-7.72 7.72c-.78.78-.78 2.05 0 2.83L4 21.41c.39.39.9.59 1.41.59.51 0 1.02-.2 1.41-.59l7.78-7.78 2.81-2.81c.8-.78.8-2.07 0-2.86zM5.41 20L4 18.59l7.72-7.72 1.47 1.35L5.41 20z\"/>\n",
              "  </svg>\n",
              "      </button>\n",
              "      \n",
              "  <style>\n",
              "    .colab-df-container {\n",
              "      display:flex;\n",
              "      flex-wrap:wrap;\n",
              "      gap: 12px;\n",
              "    }\n",
              "\n",
              "    .colab-df-convert {\n",
              "      background-color: #E8F0FE;\n",
              "      border: none;\n",
              "      border-radius: 50%;\n",
              "      cursor: pointer;\n",
              "      display: none;\n",
              "      fill: #1967D2;\n",
              "      height: 32px;\n",
              "      padding: 0 0 0 0;\n",
              "      width: 32px;\n",
              "    }\n",
              "\n",
              "    .colab-df-convert:hover {\n",
              "      background-color: #E2EBFA;\n",
              "      box-shadow: 0px 1px 2px rgba(60, 64, 67, 0.3), 0px 1px 3px 1px rgba(60, 64, 67, 0.15);\n",
              "      fill: #174EA6;\n",
              "    }\n",
              "\n",
              "    [theme=dark] .colab-df-convert {\n",
              "      background-color: #3B4455;\n",
              "      fill: #D2E3FC;\n",
              "    }\n",
              "\n",
              "    [theme=dark] .colab-df-convert:hover {\n",
              "      background-color: #434B5C;\n",
              "      box-shadow: 0px 1px 3px 1px rgba(0, 0, 0, 0.15);\n",
              "      filter: drop-shadow(0px 1px 2px rgba(0, 0, 0, 0.3));\n",
              "      fill: #FFFFFF;\n",
              "    }\n",
              "  </style>\n",
              "\n",
              "      <script>\n",
              "        const buttonEl =\n",
              "          document.querySelector('#df-a7986d9e-27a9-4a2a-a338-d737ce544b39 button.colab-df-convert');\n",
              "        buttonEl.style.display =\n",
              "          google.colab.kernel.accessAllowed ? 'block' : 'none';\n",
              "\n",
              "        async function convertToInteractive(key) {\n",
              "          const element = document.querySelector('#df-a7986d9e-27a9-4a2a-a338-d737ce544b39');\n",
              "          const dataTable =\n",
              "            await google.colab.kernel.invokeFunction('convertToInteractive',\n",
              "                                                     [key], {});\n",
              "          if (!dataTable) return;\n",
              "\n",
              "          const docLinkHtml = 'Like what you see? Visit the ' +\n",
              "            '<a target=\"_blank\" href=https://colab.research.google.com/notebooks/data_table.ipynb>data table notebook</a>'\n",
              "            + ' to learn more about interactive tables.';\n",
              "          element.innerHTML = '';\n",
              "          dataTable['output_type'] = 'display_data';\n",
              "          await google.colab.output.renderOutput(dataTable, element);\n",
              "          const docLink = document.createElement('div');\n",
              "          docLink.innerHTML = docLinkHtml;\n",
              "          element.appendChild(docLink);\n",
              "        }\n",
              "      </script>\n",
              "    </div>\n",
              "  </div>\n",
              "  "
            ],
            "text/plain": [
              "      Unnamed: 0                                              story\n",
              "0              3  ['نادي', 'ارسنال', 'ال', 'انجليزي', 'ال', 'صفو...\n",
              "1              4  ['اقليم', 'ال', 'ال', 'اصاب', 'جديد', 'فيروس',...\n",
              "2              9  ['اصدر', 'ال', 'جناي', 'ال', 'ابتدائي', 'محكم'...\n",
              "3             13  ['مصادر', 'موثوق', 'جريد', 'هسبريس', 'ال', 'كت...\n",
              "4             16  ['ال', 'اتحاد', 'ال', 'مقاول', 'ال', 'مغرب', '...\n",
              "...          ...                                                ...\n",
              "2819        9577  ['تمكن', 'مصالح', 'ال', 'ال', 'قضائي', 'مفوضي'...\n",
              "2820        9579  ['اصبح', 'ال', 'دولي', 'ال', 'مغربي', 'فيصل', ...\n",
              "2821        9581  ['اضطر', 'مفتش', 'يعمل', 'منطق', 'نسود', 'مدين...\n",
              "2822        9587  ['اعلن', 'نادي', 'ال', 'ال', 'سعودي', 'ال', 'ت...\n",
              "2823        9588  ['ال', 'مديري', 'ال', 'اقليمي', 'ال', 'تربي', ...\n",
              "\n",
              "[2824 rows x 2 columns]"
            ]
          },
          "metadata": {},
          "execution_count": 17
        }
      ]
    },
    {
      "cell_type": "markdown",
      "metadata": {
        "id": "lchFa45mLdFg"
      },
      "source": [
        "##Data processing for model"
      ]
    },
    {
      "cell_type": "code",
      "source": [
        "tokenizer = Tokenizer()\n",
        "def get_sequence_of_tokens(corpus):\n",
        "  #get tokens\n",
        "  tokenizer.fit_on_texts(corpus)\n",
        "  total_words = len(tokenizer.word_index) + 1\n",
        " \n",
        "  #convert to sequence of tokens\n",
        "  input_sequences = []\n",
        "  for line in corpus:\n",
        "    token_list = tokenizer.texts_to_sequences([line])[0]\n",
        "    for i in range(1, len(token_list)):\n",
        "        n_gram_sequence = token_list[:i+1]\n",
        "        input_sequences.append(n_gram_sequence)\n",
        " \n",
        "  return input_sequences, total_words\n"
      ],
      "metadata": {
        "id": "jHt1y8sjI5Yj"
      },
      "execution_count": null,
      "outputs": []
    },
    {
      "cell_type": "code",
      "source": [
        "inp_sequences, total_words = get_sequence_of_tokens(process['story'])"
      ],
      "metadata": {
        "id": "0fWVpMxeJ5zR"
      },
      "execution_count": null,
      "outputs": []
    },
    {
      "cell_type": "code",
      "source": [
        "print(total_words)"
      ],
      "metadata": {
        "colab": {
          "base_uri": "https://localhost:8080/"
        },
        "id": "O0057YQE2szd",
        "outputId": "e364e3e4-f967-44a9-a124-37b81307ab2f"
      },
      "execution_count": null,
      "outputs": [
        {
          "output_type": "stream",
          "name": "stdout",
          "text": [
            "14758\n"
          ]
        }
      ]
    },
    {
      "cell_type": "code",
      "source": [
        "len(inp_sequences)"
      ],
      "metadata": {
        "colab": {
          "base_uri": "https://localhost:8080/"
        },
        "id": "7pNyFeqzKMBg",
        "outputId": "6995afbf-ea4a-4264-b7d1-ef33546e9072"
      },
      "execution_count": null,
      "outputs": [
        {
          "output_type": "execute_result",
          "data": {
            "text/plain": [
              "676884"
            ]
          },
          "metadata": {},
          "execution_count": 21
        }
      ]
    },
    {
      "cell_type": "code",
      "source": [
        "max_sequence_len = max([len(x) for x in inp_sequences])\n",
        "max_sequence_len"
      ],
      "metadata": {
        "colab": {
          "base_uri": "https://localhost:8080/"
        },
        "id": "ZXEr9BoMiIM1",
        "outputId": "d854c49e-f938-4e87-a4f5-c92b25800eb7"
      },
      "execution_count": null,
      "outputs": [
        {
          "output_type": "execute_result",
          "data": {
            "text/plain": [
              "1397"
            ]
          },
          "metadata": {},
          "execution_count": 22
        }
      ]
    },
    {
      "cell_type": "code",
      "source": [
        "def generate_padded_sequences(input_sequences):\n",
        "  max_sequence_len =698\n",
        "  input_sequences = np.array(pad_sequences(input_sequences,  maxlen=max_sequence_len, padding='pre'))\n",
        "  predictors, label = input_sequences[:,:-1], input_sequences[:, -1]\n",
        "  #label = to_categorical(label, num_classes = total_words)\n",
        "  return predictors, label, max_sequence_len"
      ],
      "metadata": {
        "id": "Dywvx5LNJ-SX"
      },
      "execution_count": null,
      "outputs": []
    },
    {
      "cell_type": "code",
      "source": [
        "predictors, label, max_sequence_len = generate_padded_sequences(inp_sequences)"
      ],
      "metadata": {
        "id": "nH908JPuKE93"
      },
      "execution_count": null,
      "outputs": []
    },
    {
      "cell_type": "code",
      "source": [
        "print(max_sequence_len)"
      ],
      "metadata": {
        "colab": {
          "base_uri": "https://localhost:8080/"
        },
        "id": "lkxQXVPE2ziB",
        "outputId": "80fb13e4-aee8-4ecd-9950-f7b76383626b"
      },
      "execution_count": null,
      "outputs": [
        {
          "output_type": "stream",
          "name": "stdout",
          "text": [
            "698\n"
          ]
        }
      ]
    },
    {
      "cell_type": "code",
      "source": [
        "label1 = to_categorical(label, num_classes = total_words)"
      ],
      "metadata": {
        "id": "1089GVir2LOa"
      },
      "execution_count": null,
      "outputs": []
    },
    {
      "cell_type": "code",
      "source": [
        "predictors.shape"
      ],
      "metadata": {
        "colab": {
          "base_uri": "https://localhost:8080/"
        },
        "id": "n47vLSlBO2xs",
        "outputId": "a2268af8-6ad4-47ba-f75c-b384d6eeb339"
      },
      "execution_count": null,
      "outputs": [
        {
          "output_type": "execute_result",
          "data": {
            "text/plain": [
              "(676884, 697)"
            ]
          },
          "metadata": {},
          "execution_count": 10
        }
      ]
    },
    {
      "cell_type": "code",
      "source": [
        "label.shape"
      ],
      "metadata": {
        "colab": {
          "base_uri": "https://localhost:8080/"
        },
        "id": "diACehpHO7T8",
        "outputId": "eb1c052d-b136-4bc2-89cb-eccbe53425cc"
      },
      "execution_count": null,
      "outputs": [
        {
          "output_type": "execute_result",
          "data": {
            "text/plain": [
              "(676884,)"
            ]
          },
          "metadata": {},
          "execution_count": 11
        }
      ]
    },
    {
      "cell_type": "code",
      "source": [
        "from keras import backend\n",
        "\n",
        "def ppl(y_true, y_pred):\n",
        "  return backend.pow(2.0, -(backend.sum(backend.log(tf.gather(y_pred, backend.cast(y_true, \"int32\"), axis=1, batch_dims=1))) ) / backend.cast(total_words, backend.floatx()))"
      ],
      "metadata": {
        "id": "OPJDRoc4KN4r"
      },
      "execution_count": null,
      "outputs": []
    },
    {
      "cell_type": "code",
      "source": [
        "model_comparison_table = {}"
      ],
      "metadata": {
        "id": "zpMAzI_jRf0v"
      },
      "execution_count": null,
      "outputs": []
    },
    {
      "cell_type": "code",
      "source": [
        "model_comparison_table['model_name'] = []\n",
        "model_comparison_table['preprocessing_methods'] = []\n",
        "model_comparison_table['validate ppl'] = []"
      ],
      "metadata": {
        "id": "G1Hr4NDaRmNr"
      },
      "execution_count": null,
      "outputs": []
    },
    {
      "cell_type": "markdown",
      "source": [
        "##model with LSTM"
      ],
      "metadata": {
        "id": "nxPGskvSTqw7"
      }
    },
    {
      "cell_type": "code",
      "source": [
        "def create_model(max_sequence_len, total_words):\n",
        "  input_len = max_sequence_len - 1\n",
        "  model = Sequential()\n",
        " \n",
        "  # Add Input Embedding Layer\n",
        "  model.add(Embedding(total_words, 32, input_length=input_len))\n",
        " \n",
        "  # Add Hidden Layer 1 — LSTM Layer\n",
        "  model.add(LSTM(32))\n",
        "  model.add(Dropout(0.2))\n",
        " \n",
        "  # Add Output Layer\n",
        "  model.add(Dense(total_words, activation='softmax'))\n",
        "  model.compile(loss='categorical_crossentropy', optimizer='adam',metrics=[ppl])\n",
        "  model.summary()\n",
        " \n",
        "  return model"
      ],
      "metadata": {
        "id": "gzu5gED3Ko_X"
      },
      "execution_count": null,
      "outputs": []
    },
    {
      "cell_type": "code",
      "source": [
        "model = create_model(max_sequence_len, total_words)"
      ],
      "metadata": {
        "id": "byjrXZCzSnVG",
        "colab": {
          "base_uri": "https://localhost:8080/"
        },
        "outputId": "af5b3ab6-eae8-46de-f69e-1166ec13b082"
      },
      "execution_count": null,
      "outputs": [
        {
          "output_type": "stream",
          "name": "stdout",
          "text": [
            "Model: \"sequential\"\n",
            "_________________________________________________________________\n",
            " Layer (type)                Output Shape              Param #   \n",
            "=================================================================\n",
            " embedding (Embedding)       (None, 697, 32)           472256    \n",
            "                                                                 \n",
            " lstm (LSTM)                 (None, 32)                8320      \n",
            "                                                                 \n",
            " dropout (Dropout)           (None, 32)                0         \n",
            "                                                                 \n",
            " dense (Dense)               (None, 14758)             487014    \n",
            "                                                                 \n",
            "=================================================================\n",
            "Total params: 967,590\n",
            "Trainable params: 967,590\n",
            "Non-trainable params: 0\n",
            "_________________________________________________________________\n"
          ]
        }
      ]
    },
    {
      "cell_type": "code",
      "source": [
        "model = Sequential()\n",
        "input_len = max_sequence_len - 1\n",
        "# Add Input Embedding Layer\n",
        "model.add(Embedding(total_words, 10, input_length=input_len))\n",
        "\n",
        "#model.add(layers.Flatten())\n",
        "#model.add(Dropout(0.2))\n",
        "\n",
        "model.add(LSTM(32))\n",
        "model.add(Dropout(0.2))\n",
        "model.add(layers.Dense(total_words))\n",
        "model.add(Dropout(0.2))\n",
        "model.add(layers.Activation('softmax'))\n",
        "\n",
        "model.compile(optimizer='adam',\n",
        "              loss='sparse_categorical_crossentropy',metrics=[ppl])\n",
        "model.summary()"
      ],
      "metadata": {
        "colab": {
          "base_uri": "https://localhost:8080/"
        },
        "id": "r4Y_U_a0IPGh",
        "outputId": "07683152-86a7-4f3b-eb1f-dbd2de83f0b6"
      },
      "execution_count": null,
      "outputs": [
        {
          "output_type": "stream",
          "name": "stdout",
          "text": [
            "Model: \"sequential_3\"\n",
            "_________________________________________________________________\n",
            " Layer (type)                Output Shape              Param #   \n",
            "=================================================================\n",
            " embedding_3 (Embedding)     (None, 697, 10)           147580    \n",
            "                                                                 \n",
            " lstm_2 (LSTM)               (None, 32)                5504      \n",
            "                                                                 \n",
            " dropout_7 (Dropout)         (None, 32)                0         \n",
            "                                                                 \n",
            " dense_4 (Dense)             (None, 14758)             487014    \n",
            "                                                                 \n",
            " dropout_8 (Dropout)         (None, 14758)             0         \n",
            "                                                                 \n",
            " activation_2 (Activation)   (None, 14758)             0         \n",
            "                                                                 \n",
            "=================================================================\n",
            "Total params: 640,098\n",
            "Trainable params: 640,098\n",
            "Non-trainable params: 0\n",
            "_________________________________________________________________\n"
          ]
        }
      ]
    },
    {
      "cell_type": "code",
      "source": [
        "history = model.fit(predictors, label, batch_size=256, epochs=10, validation_split=0.2)"
      ],
      "metadata": {
        "colab": {
          "base_uri": "https://localhost:8080/"
        },
        "id": "5KkvnuYoLWSB",
        "outputId": "ab4318fd-1ffb-48a4-c433-fa399a0b48ef"
      },
      "execution_count": null,
      "outputs": [
        {
          "output_type": "stream",
          "name": "stdout",
          "text": [
            "Epoch 1/10\n",
            "2116/2116 [==============================] - 1227s 580ms/step - loss: 6.4891 - ppl: 1.0811 - val_loss: 5.5918 - val_ppl: 1.0695\n",
            "Epoch 2/10\n",
            "2116/2116 [==============================] - 1231s 582ms/step - loss: 6.1963 - ppl: 1.0773 - val_loss: 5.4712 - val_ppl: 1.0680\n",
            "Epoch 3/10\n",
            "2116/2116 [==============================] - 1244s 588ms/step - loss: 6.1123 - ppl: 1.0762 - val_loss: 5.4355 - val_ppl: 1.0675\n",
            "Epoch 4/10\n",
            "2116/2116 [==============================] - 1255s 593ms/step - loss: 6.0333 - ppl: 1.0752 - val_loss: 5.3462 - val_ppl: 1.0664\n",
            "Epoch 5/10\n",
            "2116/2116 [==============================] - 1244s 588ms/step - loss: 5.9580 - ppl: 1.0742 - val_loss: 5.2551 - val_ppl: 1.0652\n",
            "Epoch 6/10\n",
            "2116/2116 [==============================] - 1257s 594ms/step - loss: 5.8862 - ppl: 1.0733 - val_loss: 5.2107 - val_ppl: 1.0646\n",
            "Epoch 7/10\n",
            "2116/2116 [==============================] - 1246s 589ms/step - loss: 5.8305 - ppl: 1.0726 - val_loss: 5.1603 - val_ppl: 1.0640\n",
            "Epoch 8/10\n",
            "2116/2116 [==============================] - 1244s 588ms/step - loss: 5.7676 - ppl: 1.0718 - val_loss: 5.0994 - val_ppl: 1.0632\n",
            "Epoch 9/10\n",
            "2116/2116 [==============================] - 1239s 586ms/step - loss: 5.7174 - ppl: 1.0711 - val_loss: 5.0604 - val_ppl: 1.0627\n",
            "Epoch 10/10\n",
            "2116/2116 [==============================] - 1242s 587ms/step - loss: 5.6689 - ppl: 1.0705 - val_loss: 5.0212 - val_ppl: 1.0622\n"
          ]
        }
      ]
    },
    {
      "cell_type": "code",
      "source": [
        "import matplotlib.pyplot as plt\n",
        "#acc = history1.history['ppl']\n",
        "loss = history.history['loss']\n",
        "loss1 = history.history['val_loss']\n",
        "epochs = range(len(loss))\n",
        "#plt.plot(epochs, acc, 'b', label='Training ppl')\n",
        "#plt.title('Training ppl')\n",
        "#plt.figure()\n",
        "plt.plot(epochs, loss, 'b', label='Training Loss')\n",
        "plt.plot(epochs, loss1, 'r', label='validate Loss')\n",
        "plt.title('Training loss')\n",
        "plt.title('validate loss')\n",
        "plt.legend()\n",
        "plt.show()"
      ],
      "metadata": {
        "colab": {
          "base_uri": "https://localhost:8080/",
          "height": 281
        },
        "id": "SjUXaZncLBzj",
        "outputId": "3024dbdd-d4ab-45e8-9c00-1200d723b287"
      },
      "execution_count": null,
      "outputs": [
        {
          "output_type": "display_data",
          "data": {
            "image/png": "[encoded data removed]",
            "text/plain": [
              "<Figure size 432x288 with 1 Axes>"
            ]
          },
          "metadata": {
            "needs_background": "light"
          }
        }
      ]
    },
    {
      "cell_type": "code",
      "source": [
        "model_comparison_table['model_name'].append(\"model with lstm\")\n",
        "model_comparison_table['preprocessing_methods'].append(\"with some proccess function  \")\n",
        "model_comparison_table['validate ppl'].append(1.0622)"
      ],
      "metadata": {
        "id": "TPnHPQw3RxDW"
      },
      "execution_count": null,
      "outputs": []
    },
    {
      "cell_type": "markdown",
      "source": [
        "##model for baseline"
      ],
      "metadata": {
        "id": "2Hy6iKbxUAUa"
      }
    },
    {
      "cell_type": "code",
      "source": [
        "from keras.models import Sequential\n",
        "from keras import layers\n",
        "\n",
        "model2 = Sequential()\n",
        "input_len = max_sequence_len - 1\n",
        "# Add Input Embedding Layer\n",
        "model2.add(Embedding(total_words, 10, input_length=input_len))\n",
        "\n",
        "model2.add(layers.Flatten())\n",
        "model2.add(Dropout(0.2))\n",
        "model2.add(layers.Dense(32, activation='tanh'))\n",
        "model2.add(Dropout(0.2))\n",
        "model2.add(layers.Dense(total_words))\n",
        "model2.add(Dropout(0.2))\n",
        "model2.add(layers.Activation('softmax'))\n",
        "\n",
        "model2.compile(optimizer='adam',\n",
        "              loss='sparse_categorical_crossentropy',metrics=[ppl])\n",
        "model2.summary()"
      ],
      "metadata": {
        "colab": {
          "base_uri": "https://localhost:8080/"
        },
        "id": "_Wsv2LyDNxYs",
        "outputId": "dd4f1374-f77b-47ca-a8be-7080689a0fcf"
      },
      "execution_count": null,
      "outputs": [
        {
          "output_type": "stream",
          "name": "stdout",
          "text": [
            "Model: \"sequential\"\n",
            "_________________________________________________________________\n",
            " Layer (type)                Output Shape              Param #   \n",
            "=================================================================\n",
            " embedding (Embedding)       (None, 697, 10)           147580    \n",
            "                                                                 \n",
            " flatten (Flatten)           (None, 6970)              0         \n",
            "                                                                 \n",
            " dropout (Dropout)           (None, 6970)              0         \n",
            "                                                                 \n",
            " dense (Dense)               (None, 32)                223072    \n",
            "                                                                 \n",
            " dropout_1 (Dropout)         (None, 32)                0         \n",
            "                                                                 \n",
            " dense_1 (Dense)             (None, 14758)             487014    \n",
            "                                                                 \n",
            " dropout_2 (Dropout)         (None, 14758)             0         \n",
            "                                                                 \n",
            " activation (Activation)     (None, 14758)             0         \n",
            "                                                                 \n",
            "=================================================================\n",
            "Total params: 857,666\n",
            "Trainable params: 857,666\n",
            "Non-trainable params: 0\n",
            "_________________________________________________________________\n"
          ]
        }
      ]
    },
    {
      "cell_type": "code",
      "source": [
        "history2 = model2.fit(predictors, label, batch_size=256, epochs=10, validation_split=0.2)"
      ],
      "metadata": {
        "colab": {
          "base_uri": "https://localhost:8080/"
        },
        "id": "5dCQuxVZOH3w",
        "outputId": "2aa4744e-8ae0-433c-cab2-6bbf931854eb"
      },
      "execution_count": null,
      "outputs": [
        {
          "output_type": "stream",
          "name": "stdout",
          "text": [
            "Epoch 1/10\n",
            "2116/2116 [==============================] - 198s 93ms/step - loss: 6.5362 - ppl: 1.0817 - val_loss: 5.5896 - val_ppl: 1.0695\n",
            "Epoch 2/10\n",
            "2116/2116 [==============================] - 196s 93ms/step - loss: 6.2113 - ppl: 1.0775 - val_loss: 5.4842 - val_ppl: 1.0681\n",
            "Epoch 3/10\n",
            "2116/2116 [==============================] - 196s 93ms/step - loss: 6.0882 - ppl: 1.0759 - val_loss: 5.3733 - val_ppl: 1.0667\n",
            "Epoch 4/10\n",
            "2116/2116 [==============================] - 195s 92ms/step - loss: 5.9972 - ppl: 1.0748 - val_loss: 5.2927 - val_ppl: 1.0657\n",
            "Epoch 5/10\n",
            "2116/2116 [==============================] - 195s 92ms/step - loss: 5.9280 - ppl: 1.0739 - val_loss: 5.2516 - val_ppl: 1.0652\n",
            "Epoch 6/10\n",
            "2116/2116 [==============================] - 195s 92ms/step - loss: 5.8719 - ppl: 1.0731 - val_loss: 5.1989 - val_ppl: 1.0645\n",
            "Epoch 7/10\n",
            "2116/2116 [==============================] - 195s 92ms/step - loss: 5.8151 - ppl: 1.0724 - val_loss: 5.1926 - val_ppl: 1.0644\n",
            "Epoch 8/10\n",
            "2116/2116 [==============================] - 195s 92ms/step - loss: 5.7829 - ppl: 1.0720 - val_loss: 5.1613 - val_ppl: 1.0640\n",
            "Epoch 9/10\n",
            "2116/2116 [==============================] - 196s 93ms/step - loss: 5.7489 - ppl: 1.0715 - val_loss: 5.1416 - val_ppl: 1.0638\n",
            "Epoch 10/10\n",
            "2116/2116 [==============================] - 196s 93ms/step - loss: 5.7228 - ppl: 1.0712 - val_loss: 5.1300 - val_ppl: 1.0636\n"
          ]
        }
      ]
    },
    {
      "cell_type": "code",
      "source": [
        "import matplotlib.pyplot as plt\n",
        "acc = history2.history['ppl']\n",
        "acc1 = history2.history['val_ppl']\n",
        "loss = history2.history['loss']\n",
        "loss1 = history2.history['val_loss']\n",
        "epochs = range(len(loss))\n",
        "\n",
        "plt.plot(epochs, acc, 'b', label='Training ppl')\n",
        "plt.plot(epochs, acc1, 'r', label='validate ppl')\n",
        "plt.title('Training ppl')\n",
        "#plt.figure()\n",
        "plt.title('validate ppl')\n",
        "plt.legend()\n",
        "plt.show()\n",
        "\n",
        "plt.figure()\n",
        "plt.plot(epochs, loss, 'b', label='Training Loss')\n",
        "plt.plot(epochs, loss1, 'r', label='validate Loss')\n",
        "plt.title('Training loss')\n",
        "plt.title('validate loss')\n",
        "plt.legend()\n",
        "plt.show()"
      ],
      "metadata": {
        "colab": {
          "base_uri": "https://localhost:8080/",
          "height": 545
        },
        "id": "7RkEM-baL_5N",
        "outputId": "cc697476-06fb-417d-b4a0-6acbbc90d5ec"
      },
      "execution_count": null,
      "outputs": [
        {
          "output_type": "display_data",
          "data": {
            "image/png": "[encoded data removed]",
            "text/plain": [
              "<Figure size 432x288 with 1 Axes>"
            ]
          },
          "metadata": {
            "needs_background": "light"
          }
        },
        {
          "output_type": "display_data",
          "data": {
            "image/png": "[encoded data removed]",
            "text/plain": [
              "<Figure size 432x288 with 1 Axes>"
            ]
          },
          "metadata": {
            "needs_background": "light"
          }
        }
      ]
    },
    {
      "cell_type": "code",
      "source": [
        "model_comparison_table['model_name'].append(\"model with flatten and one hidden layer\")\n",
        "model_comparison_table['preprocessing_methods'].append(\"with some proccess function\")\n",
        "model_comparison_table['validate ppl'].append(1.0636)"
      ],
      "metadata": {
        "id": "ruf25oKETFUe"
      },
      "execution_count": null,
      "outputs": []
    },
    {
      "cell_type": "markdown",
      "source": [
        "##generate the title using the models"
      ],
      "metadata": {
        "id": "bQk5IRFjUHc9"
      }
    },
    {
      "cell_type": "code",
      "source": [
        "# generate a sequence from a language model\n",
        "def generate_seq(seed_text,model = model2, n_words=5):\n",
        "\tin_text = []\n",
        "\tin_text.extend(seed_text)\n",
        "\t# generate a fixed number of words\n",
        "\tfor _ in range(n_words):\n",
        "\t\t# encode the text as integer\n",
        "\t\tencoded = tokenizer.texts_to_sequences([seed_text])\n",
        "\t  #print(encoded)\n",
        "\t\t# predict probabilities for each word\n",
        "\t\tpred = model.predict(encoded)\n",
        "\t\tyhat = np.argmax(pred, axis=1)\n",
        "\t\t# map predicted word index to word\n",
        "\t\tout_word = ''\n",
        "\t\tfor word, index in tokenizer.word_index.items():\n",
        "\t\t\tif index == yhat:\n",
        "\t\t\t\tout_word = word\n",
        "\t\t\t\tbreak\n",
        "\t\t# append to input\n",
        "\t\tin_text.append(out_word)\n",
        "\treturn ' '.join(in_text)"
      ],
      "metadata": {
        "id": "H1HGwcU54PDM"
      },
      "execution_count": null,
      "outputs": []
    },
    {
      "cell_type": "code",
      "source": [
        "in_text = []\n",
        "seed_text = \"مغرب\"\n",
        "in_text.extend(seed_text)\n",
        "\t# generate a fixed number of words\n",
        "for _ in range(5):\n",
        "\t\t# encode the text as integer\n",
        "\t\tencoded = tokenizer.texts_to_sequences([seed_text])\n",
        "print(encoded)"
      ],
      "metadata": {
        "colab": {
          "base_uri": "https://localhost:8080/"
        },
        "id": "4huZYHE306dX",
        "outputId": "df59300e-2505-4edf-d2b1-f8bf85a2a8fc"
      },
      "execution_count": null,
      "outputs": [
        {
          "output_type": "stream",
          "name": "stdout",
          "text": [
            "[[]]\n"
          ]
        }
      ]
    },
    {
      "cell_type": "code",
      "source": [
        "in_text = []\n",
        "seed_text = \"كورونا\"\n",
        "in_text.extend(seed_text)\n",
        "\t# generate a fixed number of words\n",
        "for _ in range(5):\n",
        "     token_list = tokenizer.texts_to_sequences([seed_text])[0]\n",
        "     token_list = pad_sequences([token_list], maxlen=max_sequence_len-1,  padding='pre')\n",
        "     pred=model2.predict(token_list) \n",
        "     yhat=np.argmax(pred,axis=1)"
      ],
      "metadata": {
        "id": "68NT6FQsyHoQ"
      },
      "execution_count": null,
      "outputs": []
    },
    {
      "cell_type": "code",
      "source": [
        "def generate_text(seed_text, next_words = 5, model=model, max_sequence_len=max_sequence_len):\n",
        "  for _ in range(next_words):\n",
        "     token_list = tokenizer.texts_to_sequences([seed_text])[0]\n",
        "     token_list = pad_sequences([token_list], maxlen=max_sequence_len-1,  padding='pre')\n",
        "     predict_x=model.predict(token_list) \n",
        "     predicted=np.argmax(predict_x,axis=1)\n",
        " \n",
        "  output_word = \"\"\n",
        "  for word,index in tokenizer.word_index.items():\n",
        "     if index == predicted:\n",
        "         output_word = word\n",
        "         break\n",
        "  seed_text += \" \"+output_word\n",
        "  return seed_text.title()"
      ],
      "metadata": {
        "id": "oOXFGuNsQG2A"
      },
      "execution_count": null,
      "outputs": []
    },
    {
      "cell_type": "code",
      "source": [
        "for _ in range(5):\n",
        "     token_list = tokenizer.texts_to_sequences([\"القدم\"])[0]\n",
        "     token_list = pad_sequences([token_list], maxlen=max_sequence_len-1,  padding='pre')\n",
        "     predict_x=model2.predict(token_list) \n",
        "     predicted=np.argmax(predict_x,axis=1)\n",
        "     #predicted = model.predict_classes(token_list, verbose=0)\n",
        "print(token_list)"
      ],
      "metadata": {
        "colab": {
          "base_uri": "https://localhost:8080/"
        },
        "id": "5vkOtIXcnytJ",
        "outputId": "4249e8fd-d5c5-4031-cd51-82cb1dcecc56"
      },
      "execution_count": null,
      "outputs": [
        {
          "output_type": "stream",
          "name": "stdout",
          "text": [
            "[[0 0 0 0 0 0 0 0 0 0 0 0 0 0 0 0 0 0 0 0 0 0 0 0 0 0 0 0 0 0 0 0 0 0 0 0\n",
            "  0 0 0 0 0 0 0 0 0 0 0 0 0 0 0 0 0 0 0 0 0 0 0 0 0 0 0 0 0 0 0 0 0 0 0 0\n",
            "  0 0 0 0 0 0 0 0 0 0 0 0 0 0 0 0 0 0 0 0 0 0 0 0 0 0 0 0 0 0 0 0 0 0 0 0\n",
            "  0 0 0 0 0 0 0 0 0 0 0 0 0 0 0 0 0 0 0 0 0 0 0 0 0 0 0 0 0 0 0 0 0 0 0 0\n",
            "  0 0 0 0 0 0 0 0 0 0 0 0 0 0 0 0 0 0 0 0 0 0 0 0 0 0 0 0 0 0 0 0 0 0 0 0\n",
            "  0 0 0 0 0 0 0 0 0 0 0 0 0 0 0 0 0 0 0 0 0 0 0 0 0 0 0 0 0 0 0 0 0 0 0 0\n",
            "  0 0 0 0 0 0 0 0 0 0 0 0 0 0 0 0 0 0 0 0 0 0 0 0 0 0 0 0 0 0 0 0 0 0 0 0\n",
            "  0 0 0 0 0 0 0 0 0 0 0 0 0 0 0 0 0 0 0 0 0 0 0 0 0 0 0 0 0 0 0 0 0 0 0 0\n",
            "  0 0 0 0 0 0 0 0 0 0 0 0 0 0 0 0 0 0 0 0 0 0 0 0 0 0 0 0 0 0 0 0 0 0 0 0\n",
            "  0 0 0 0 0 0 0 0 0 0 0 0 0 0 0 0 0 0 0 0 0 0 0 0 0 0 0 0 0 0 0 0 0 0 0 0\n",
            "  0 0 0 0 0 0 0 0 0 0 0 0 0 0 0 0 0 0 0 0 0 0 0 0 0 0 0 0 0 0 0 0 0 0 0 0\n",
            "  0 0 0 0 0 0 0 0 0 0 0 0 0 0 0 0 0 0 0 0 0 0 0 0 0 0 0 0 0 0 0 0 0 0 0 0\n",
            "  0 0 0 0 0 0 0 0 0 0 0 0 0 0 0 0 0 0 0 0 0 0 0 0 0 0 0 0 0 0 0 0 0 0 0 0\n",
            "  0 0 0 0 0 0 0 0 0 0 0 0 0 0 0 0 0 0 0 0 0 0 0 0 0 0 0 0 0 0 0 0 0 0 0 0\n",
            "  0 0 0 0 0 0 0 0 0 0 0 0 0 0 0 0 0 0 0 0 0 0 0 0 0 0 0 0 0 0 0 0 0 0 0 0\n",
            "  0 0 0 0 0 0 0 0 0 0 0 0 0 0 0 0 0 0 0 0 0 0 0 0 0 0 0 0 0 0 0 0 0 0 0 0\n",
            "  0 0 0 0 0 0 0 0 0 0 0 0 0 0 0 0 0 0 0 0 0 0 0 0 0 0 0 0 0 0 0 0 0 0 0 0\n",
            "  0 0 0 0 0 0 0 0 0 0 0 0 0 0 0 0 0 0 0 0 0 0 0 0 0 0 0 0 0 0 0 0 0 0 0 0\n",
            "  0 0 0 0 0 0 0 0 0 0 0 0 0 0 0 0 0 0 0 0 0 0 0 0 0 0 0 0 0 0 0 0 0 0 0 0\n",
            "  0 0 0 0 0 0 0 0 0 0 0 0 0]]\n"
          ]
        }
      ]
    },
    {
      "cell_type": "code",
      "source": [
        "output_word = \"\"\n",
        "seed_text = \" \"\n",
        "for word,index in tokenizer.word_index.items():\n",
        "     if index == predicted:\n",
        "         output_word = word\n",
        "         break\n",
        "     seed_text += \" \"+output_word\n",
        "     print(seed_text)"
      ],
      "metadata": {
        "id": "iYdkknEZokuk"
      },
      "execution_count": null,
      "outputs": []
    },
    {
      "cell_type": "code",
      "source": [
        "print(generate_text(\"المنتخب الرياضي المصري\"))"
      ],
      "metadata": {
        "colab": {
          "base_uri": "https://localhost:8080/"
        },
        "id": "p-HLmvr-nMys",
        "outputId": "b1aac0da-d89d-43ad-bd40-55d067726ea6"
      },
      "execution_count": null,
      "outputs": [
        {
          "output_type": "stream",
          "name": "stdout",
          "text": [
            "المنتخب الرياضي المصري 'ال'\n"
          ]
        }
      ]
    },
    {
      "cell_type": "markdown",
      "source": [
        "##print the table of all model"
      ],
      "metadata": {
        "id": "xNdS282VUVkT"
      }
    },
    {
      "cell_type": "code",
      "source": [
        "import pandas as pd\n",
        "\n",
        "df = pd.DataFrame(model_comparison_table)\n",
        "df"
      ],
      "metadata": {
        "id": "pOSx-UoWnc1I",
        "colab": {
          "base_uri": "https://localhost:8080/",
          "height": 112
        },
        "outputId": "3674c6ec-0a04-42bf-acc7-eb401f73984f"
      },
      "execution_count": null,
      "outputs": [
        {
          "output_type": "execute_result",
          "data": {
            "text/html": [
              "\n",
              "  <div id=\"df-52653f4f-856f-4775-b6a6-431604060d1b\">\n",
              "    <div class=\"colab-df-container\">\n",
              "      <div>\n",
              "<style scoped>\n",
              "    .dataframe tbody tr th:only-of-type {\n",
              "        vertical-align: middle;\n",
              "    }\n",
              "\n",
              "    .dataframe tbody tr th {\n",
              "        vertical-align: top;\n",
              "    }\n",
              "\n",
              "    .dataframe thead th {\n",
              "        text-align: right;\n",
              "    }\n",
              "</style>\n",
              "<table border=\"1\" class=\"dataframe\">\n",
              "  <thead>\n",
              "    <tr style=\"text-align: right;\">\n",
              "      <th></th>\n",
              "      <th>model_name</th>\n",
              "      <th>preprocessing_methods</th>\n",
              "      <th>validate ppl</th>\n",
              "    </tr>\n",
              "  </thead>\n",
              "  <tbody>\n",
              "    <tr>\n",
              "      <th>0</th>\n",
              "      <td>model with lstm</td>\n",
              "      <td>with some proccess function</td>\n",
              "      <td>1.0622</td>\n",
              "    </tr>\n",
              "    <tr>\n",
              "      <th>1</th>\n",
              "      <td>model with flatten and one hidden layer</td>\n",
              "      <td>with some proccess function</td>\n",
              "      <td>1.0636</td>\n",
              "    </tr>\n",
              "  </tbody>\n",
              "</table>\n",
              "</div>\n",
              "      <button class=\"colab-df-convert\" onclick=\"convertToInteractive('df-52653f4f-856f-4775-b6a6-431604060d1b')\"\n",
              "              title=\"Convert this dataframe to an interactive table.\"\n",
              "              style=\"display:none;\">\n",
              "        \n",
              "  <svg xmlns=\"http://www.w3.org/2000/svg\" height=\"24px\"viewBox=\"0 0 24 24\"\n",
              "       width=\"24px\">\n",
              "    <path d=\"M0 0h24v24H0V0z\" fill=\"none\"/>\n",
              "    <path d=\"M18.56 5.44l.94 2.06.94-2.06 2.06-.94-2.06-.94-.94-2.06-.94 2.06-2.06.94zm-11 1L8.5 8.5l.94-2.06 2.06-.94-2.06-.94L8.5 2.5l-.94 2.06-2.06.94zm10 10l.94 2.06.94-2.06 2.06-.94-2.06-.94-.94-2.06-.94 2.06-2.06.94z\"/><path d=\"M17.41 7.96l-1.37-1.37c-.4-.4-.92-.59-1.43-.59-.52 0-1.04.2-1.43.59L10.3 9.45l-7.72 7.72c-.78.78-.78 2.05 0 2.83L4 21.41c.39.39.9.59 1.41.59.51 0 1.02-.2 1.41-.59l7.78-7.78 2.81-2.81c.8-.78.8-2.07 0-2.86zM5.41 20L4 18.59l7.72-7.72 1.47 1.35L5.41 20z\"/>\n",
              "  </svg>\n",
              "      </button>\n",
              "      \n",
              "  <style>\n",
              "    .colab-df-container {\n",
              "      display:flex;\n",
              "      flex-wrap:wrap;\n",
              "      gap: 12px;\n",
              "    }\n",
              "\n",
              "    .colab-df-convert {\n",
              "      background-color: #E8F0FE;\n",
              "      border: none;\n",
              "      border-radius: 50%;\n",
              "      cursor: pointer;\n",
              "      display: none;\n",
              "      fill: #1967D2;\n",
              "      height: 32px;\n",
              "      padding: 0 0 0 0;\n",
              "      width: 32px;\n",
              "    }\n",
              "\n",
              "    .colab-df-convert:hover {\n",
              "      background-color: #E2EBFA;\n",
              "      box-shadow: 0px 1px 2px rgba(60, 64, 67, 0.3), 0px 1px 3px 1px rgba(60, 64, 67, 0.15);\n",
              "      fill: #174EA6;\n",
              "    }\n",
              "\n",
              "    [theme=dark] .colab-df-convert {\n",
              "      background-color: #3B4455;\n",
              "      fill: #D2E3FC;\n",
              "    }\n",
              "\n",
              "    [theme=dark] .colab-df-convert:hover {\n",
              "      background-color: #434B5C;\n",
              "      box-shadow: 0px 1px 3px 1px rgba(0, 0, 0, 0.15);\n",
              "      filter: drop-shadow(0px 1px 2px rgba(0, 0, 0, 0.3));\n",
              "      fill: #FFFFFF;\n",
              "    }\n",
              "  </style>\n",
              "\n",
              "      <script>\n",
              "        const buttonEl =\n",
              "          document.querySelector('#df-52653f4f-856f-4775-b6a6-431604060d1b button.colab-df-convert');\n",
              "        buttonEl.style.display =\n",
              "          google.colab.kernel.accessAllowed ? 'block' : 'none';\n",
              "\n",
              "        async function convertToInteractive(key) {\n",
              "          const element = document.querySelector('#df-52653f4f-856f-4775-b6a6-431604060d1b');\n",
              "          const dataTable =\n",
              "            await google.colab.kernel.invokeFunction('convertToInteractive',\n",
              "                                                     [key], {});\n",
              "          if (!dataTable) return;\n",
              "\n",
              "          const docLinkHtml = 'Like what you see? Visit the ' +\n",
              "            '<a target=\"_blank\" href=https://colab.research.google.com/notebooks/data_table.ipynb>data table notebook</a>'\n",
              "            + ' to learn more about interactive tables.';\n",
              "          element.innerHTML = '';\n",
              "          dataTable['output_type'] = 'display_data';\n",
              "          await google.colab.output.renderOutput(dataTable, element);\n",
              "          const docLink = document.createElement('div');\n",
              "          docLink.innerHTML = docLinkHtml;\n",
              "          element.appendChild(docLink);\n",
              "        }\n",
              "      </script>\n",
              "    </div>\n",
              "  </div>\n",
              "  "
            ],
            "text/plain": [
              "                                model_name  ... validate ppl\n",
              "0                          model with lstm  ...       1.0622\n",
              "1  model with flatten and one hidden layer  ...       1.0636\n",
              "\n",
              "[2 rows x 3 columns]"
            ]
          },
          "metadata": {},
          "execution_count": 14
        }
      ]
    },
    {
      "cell_type": "code",
      "source": [
        ""
      ],
      "metadata": {
        "id": "Q6Sz-0OzUi4i"
      },
      "execution_count": null,
      "outputs": []
    }
  ],
  "metadata": {
    "colab": {
      "collapsed_sections": [],
      "machine_shape": "hm",
      "name": "TitleGenerationArabicStory .ipynb",
      "provenance": [],
      "toc_visible": true
    },
    "kernelspec": {
      "display_name": "Python 3",
      "name": "python3"
    }
  },
  "nbformat": 4,
  "nbformat_minor": 0
}